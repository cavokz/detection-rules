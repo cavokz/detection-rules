{
 "cells": [
  {
   "cell_type": "markdown",
   "id": "e734c0d2",
   "metadata": {},
   "source": [
    "# Query signals generation test report\n",
    "\n",
    "This Jupyter Notebook captures the unit test results of the detection rules documents emitter.\n",
    "Here you can learn what kind of queries the emitter handles and the documents it generates.\n",
    "\n",
    "Curious about the inner workings? Read [here](signals_generation.md). Need help in using a Jupyter Notebook?\n",
    "Read [here](https://jupyter-notebook.readthedocs.io/en/stable/notebook.html#structure-of-a-notebook-document)."
   ]
  },
  {
   "cell_type": "markdown",
   "id": "8406a197",
   "metadata": {},
   "source": [
    "## Table of contents\n",
    " 1. [Preliminaries](#Preliminaries)\n",
    " 1. [Simple queries](#Simple-queries)\n",
    " 1. [Sequence queries](#Sequence-queries)\n",
    " 1. [Error conditions](#Error-conditions)\n",
    " 1. [Any oddities?](#Any-oddities?)"
   ]
  },
  {
   "cell_type": "markdown",
   "id": "c123f28b",
   "metadata": {},
   "source": [
    "## Preliminaries"
   ]
  },
  {
   "cell_type": "markdown",
   "id": "e2ba891e",
   "metadata": {},
   "source": [
    "This is an auxiliary cell, it prepares the environment for all the subsequent cells. It's also\n",
    "a simple example of emitter API usage."
   ]
  },
  {
   "cell_type": "code",
   "execution_count": null,
   "id": "d4881cd9",
   "metadata": {},
   "outputs": [],
   "source": [
    "import os; os.chdir('../..')  # use the repo's root as base for local modules import\n",
    "import eql\n",
    "from detection_rules.events_emitter import emitter\n",
    "\n",
    "def emit(query):\n",
    "    with eql.parser.elasticsearch_syntax:\n",
    "        try:\n",
    "            return emitter.emit_docs(emitter.emit(eql.parse_query(query)))\n",
    "        except Exception as e:\n",
    "            print(e)"
   ]
  },
  {
   "cell_type": "markdown",
   "id": "9cfaf3b4",
   "metadata": {},
   "source": [
    "## How to read the test results\n",
    "\n",
    "If you opened this as freshly generated, the output cells content comes from the unit tests run and\n",
    "you can read it as a plain test report. Such content is generated in a controlled environment and is\n",
    "meant not to change between unit tests runs.\n",
    "The notebook itself does not run in such controlled environment therefore executing these cells, even\n",
    "if unmodified, will likely lead to different results each time.\n",
    "\n",
    "On the other hand, you can experiment and modify the queries in the input cells, check the results\n",
    "and, why not?, report any interesting finding. You can also add and remove cells at will."
   ]
  },
  {
   "cell_type": "markdown",
   "id": "b33248a6",
   "metadata": {},
   "source": [
    "## Simple queries"
   ]
  },
  {
   "cell_type": "markdown",
   "id": "9f79c9d2",
   "metadata": {},
   "source": [
    "What follow are all queries that may trigger a signal just with a single _minimal matching document_,\n",
    "therefore at most one document is generated for each execution.\n",
    "\n",
    "You will notice that some queries actually generate multiple documents, this happens when\n",
    "the query is disjunctive (e.g. contains an _or_ operator). In these cases each of the generated\n",
    "documents is enough to trigger the signal but all were generated to prove that all the disjunction\n",
    "branches are correctly visited."
   ]
  },
  {
   "cell_type": "code",
   "execution_count": null,
   "id": "311f4f2a",
   "metadata": {},
   "outputs": [
    {
     "data": {
      "text/plain": [
       "[{}]"
      ]
     },
     "execution_count": null,
     "metadata": {},
     "output_type": "execute_result"
    }
   ],
   "source": [
    "emit('''\n",
    "    any where true\n",
    "''')"
   ]
  },
  {
   "cell_type": "code",
   "execution_count": null,
   "id": "ff3bb201",
   "metadata": {},
   "outputs": [
    {
     "data": {
      "text/plain": [
       "[{}]"
      ]
     },
     "execution_count": null,
     "metadata": {},
     "output_type": "execute_result"
    }
   ],
   "source": [
    "emit('''\n",
    "    any where not false\n",
    "''')"
   ]
  },
  {
   "cell_type": "code",
   "execution_count": null,
   "id": "306eca3f",
   "metadata": {},
   "outputs": [
    {
     "data": {
      "text/plain": [
       "[{}]"
      ]
     },
     "execution_count": null,
     "metadata": {},
     "output_type": "execute_result"
    }
   ],
   "source": [
    "emit('''\n",
    "    any where not (true and false)\n",
    "''')"
   ]
  },
  {
   "cell_type": "code",
   "execution_count": null,
   "id": "99fc6983",
   "metadata": {},
   "outputs": [
    {
     "data": {
      "text/plain": [
       "[{}]"
      ]
     },
     "execution_count": null,
     "metadata": {},
     "output_type": "execute_result"
    }
   ],
   "source": [
    "emit('''\n",
    "    any where not (false or false)\n",
    "''')"
   ]
  },
  {
   "cell_type": "code",
   "execution_count": null,
   "id": "ba048340",
   "metadata": {},
   "outputs": [
    {
     "data": {
      "text/plain": [
       "[{'event': {'category': ['network']}, 'source': {'port': 859}}]"
      ]
     },
     "execution_count": null,
     "metadata": {},
     "output_type": "execute_result"
    }
   ],
   "source": [
    "emit('''\n",
    "    network where source.port > 512 and source.port < 1024\n",
    "''')"
   ]
  },
  {
   "cell_type": "code",
   "execution_count": null,
   "id": "67d052bb",
   "metadata": {},
   "outputs": [
    {
     "data": {
      "text/plain": [
       "[{'event': {'category': ['network']}, 'source': {'port': 236}},\n",
       "{'event': {'category': ['network']}, 'source': {'port': 19581}}]"
      ]
     },
     "execution_count": null,
     "metadata": {},
     "output_type": "execute_result"
    }
   ],
   "source": [
    "emit('''\n",
    "    network where not (source.port > 512 and source.port < 1024)\n",
    "''')"
   ]
  },
  {
   "cell_type": "code",
   "execution_count": null,
   "id": "7549bfd9",
   "metadata": {},
   "outputs": [
    {
     "data": {
      "text/plain": [
       "[{'event': {'category': ['network']}, 'source': {'port': 44068}},\n",
       "{'event': {'category': ['network']}, 'source': {'port': 609}}]"
      ]
     },
     "execution_count": null,
     "metadata": {},
     "output_type": "execute_result"
    }
   ],
   "source": [
    "emit('''\n",
    "    network where source.port > 512 or source.port < 1024\n",
    "''')"
   ]
  },
  {
   "cell_type": "code",
   "execution_count": null,
   "id": "6d64a139",
   "metadata": {},
   "outputs": [
    {
     "data": {
      "text/plain": [
       "[{'event': {'category': ['network']}, 'source': {'port': 815}}]"
      ]
     },
     "execution_count": null,
     "metadata": {},
     "output_type": "execute_result"
    }
   ],
   "source": [
    "emit('''\n",
    "    network where not (source.port < 512 or source.port > 1024)\n",
    "''')"
   ]
  },
  {
   "cell_type": "code",
   "execution_count": null,
   "id": "10f987bc",
   "metadata": {},
   "outputs": [
    {
     "data": {
      "text/plain": [
       "[{'event': {'category': ['network']}, 'source': {'port': 630}},\n",
       "{'event': {'category': ['network']}, 'source': {'port': 1957}}]"
      ]
     },
     "execution_count": null,
     "metadata": {},
     "output_type": "execute_result"
    }
   ],
   "source": [
    "emit('''\n",
    "    network where source.port < 2000 and (source.port > 512 or source.port > 1024)\n",
    "''')"
   ]
  },
  {
   "cell_type": "code",
   "execution_count": null,
   "id": "ef268ef5",
   "metadata": {},
   "outputs": [
    {
     "data": {
      "text/plain": [
       "[{'event': {'category': ['network']}, 'source': {'port': 1105}},\n",
       "{'event': {'category': ['network']}, 'source': {'port': 1448}}]"
      ]
     },
     "execution_count": null,
     "metadata": {},
     "output_type": "execute_result"
    }
   ],
   "source": [
    "emit('''\n",
    "    network where (source.port > 512 or source.port > 1024) and source.port < 2000\n",
    "''')"
   ]
  },
  {
   "cell_type": "code",
   "execution_count": null,
   "id": "aad555e3",
   "metadata": {},
   "outputs": [
    {
     "data": {
      "text/plain": [
       "[{'event': {'category': ['network']}, 'source': {'port': 2567}},\n",
       "{'event': {'category': ['network']}, 'source': {'port': 569}},\n",
       "{'event': {'category': ['network']}, 'source': {'port': 61845}},\n",
       "{'event': {'category': ['network']}, 'source': {'port': 1670}}]"
      ]
     },
     "execution_count": null,
     "metadata": {},
     "output_type": "execute_result"
    }
   ],
   "source": [
    "emit('''\n",
    "    network where (source.port > 1024 or source.port < 2000) and (source.port < 4000 or source.port > 512)\n",
    "''')"
   ]
  },
  {
   "cell_type": "code",
   "execution_count": null,
   "id": "9c578c09",
   "metadata": {},
   "outputs": [
    {
     "data": {
      "text/plain": [
       "[{'event': {'category': ['network']}, 'destination': {'port': 80}},\n",
       "{'event': {'category': ['network']}, 'destination': {'port': 443}}]"
      ]
     },
     "execution_count": null,
     "metadata": {},
     "output_type": "execute_result"
    }
   ],
   "source": [
    "emit('''\n",
    "    network where destination.port in (80, 443)\n",
    "''')"
   ]
  },
  {
   "cell_type": "code",
   "execution_count": null,
   "id": "09f273ee",
   "metadata": {},
   "outputs": [
    {
     "data": {
      "text/plain": [
       "[{'event': {'category': ['network']}, 'destination': {'port': 35106}}]"
      ]
     },
     "execution_count": null,
     "metadata": {},
     "output_type": "execute_result"
    }
   ],
   "source": [
    "emit('''\n",
    "    network where destination.port not in (80, 443)\n",
    "''')"
   ]
  },
  {
   "cell_type": "code",
   "execution_count": null,
   "id": "daaf3f7f",
   "metadata": {},
   "outputs": [
    {
     "data": {
      "text/plain": [
       "[{'event': {'category': ['network']}, 'destination': {'port': 58630}}]"
      ]
     },
     "execution_count": null,
     "metadata": {},
     "output_type": "execute_result"
    }
   ],
   "source": [
    "emit('''\n",
    "    network where not destination.port in (80, 443)\n",
    "''')"
   ]
  },
  {
   "cell_type": "code",
   "execution_count": null,
   "id": "926cca9c",
   "metadata": {},
   "outputs": [
    {
     "data": {
      "text/plain": [
       "[{'event': {'category': ['network']}, 'destination': {'port': 25}}]"
      ]
     },
     "execution_count": null,
     "metadata": {},
     "output_type": "execute_result"
    }
   ],
   "source": [
    "emit('''\n",
    "    network where destination.port == 22 and destination.port in (80, 443) or destination.port == 25\n",
    "''')"
   ]
  },
  {
   "cell_type": "code",
   "execution_count": null,
   "id": "2eac84df",
   "metadata": {},
   "outputs": [
    {
     "data": {
      "text/plain": [
       "[{'event': {'category': ['process']}, 'process': {'name': 'regsvr32.exe'}}]"
      ]
     },
     "execution_count": null,
     "metadata": {},
     "output_type": "execute_result"
    }
   ],
   "source": [
    "emit('''\n",
    "    process where process.name == \"regsvr32.exe\"\n",
    "''')"
   ]
  },
  {
   "cell_type": "code",
   "execution_count": null,
   "id": "76bb680d",
   "metadata": {},
   "outputs": [
    {
     "data": {
      "text/plain": [
       "[{'event': {'category': ['process']}, 'process': {'name': 'pki'}}]"
      ]
     },
     "execution_count": null,
     "metadata": {},
     "output_type": "execute_result"
    }
   ],
   "source": [
    "emit('''\n",
    "    process where process.name != \"regsvr32.exe\"\n",
    "''')"
   ]
  },
  {
   "cell_type": "code",
   "execution_count": null,
   "id": "61637816",
   "metadata": {},
   "outputs": [
    {
     "data": {
      "text/plain": [
       "[{'event': {'category': ['process']}, 'process': {'pid': 1565416049}}]"
      ]
     },
     "execution_count": null,
     "metadata": {},
     "output_type": "execute_result"
    }
   ],
   "source": [
    "emit('''\n",
    "    process where process.pid != 0\n",
    "''')"
   ]
  },
  {
   "cell_type": "code",
   "execution_count": null,
   "id": "230dc77a",
   "metadata": {},
   "outputs": [
    {
     "data": {
      "text/plain": [
       "[{'event': {'category': ['process']}, 'process': {'pid': 2413373806}}]"
      ]
     },
     "execution_count": null,
     "metadata": {},
     "output_type": "execute_result"
    }
   ],
   "source": [
    "emit('''\n",
    "    process where process.pid >= 0\n",
    "''')"
   ]
  },
  {
   "cell_type": "code",
   "execution_count": null,
   "id": "6cfc7ee3",
   "metadata": {},
   "outputs": [
    {
     "data": {
      "text/plain": [
       "[{'event': {'category': ['process']}, 'process': {'pid': 57239544}}]"
      ]
     },
     "execution_count": null,
     "metadata": {},
     "output_type": "execute_result"
    }
   ],
   "source": [
    "emit('''\n",
    "    process where process.pid > 0\n",
    "''')"
   ]
  },
  {
   "cell_type": "code",
   "execution_count": null,
   "id": "a506cfd5",
   "metadata": {},
   "outputs": [
    {
     "data": {
      "text/plain": [
       "[{'event': {'category': ['process']}, 'process': {'code_signature': {'exists': True}}}]"
      ]
     },
     "execution_count": null,
     "metadata": {},
     "output_type": "execute_result"
    }
   ],
   "source": [
    "emit('''\n",
    "    process where process.code_signature.exists == true\n",
    "''')"
   ]
  },
  {
   "cell_type": "code",
   "execution_count": null,
   "id": "3033dcfa",
   "metadata": {},
   "outputs": [
    {
     "data": {
      "text/plain": [
       "[{'event': {'category': ['process']}, 'process': {'code_signature': {'exists': False}}}]"
      ]
     },
     "execution_count": null,
     "metadata": {},
     "output_type": "execute_result"
    }
   ],
   "source": [
    "emit('''\n",
    "    process where process.code_signature.exists != true\n",
    "''')"
   ]
  },
  {
   "cell_type": "code",
   "execution_count": null,
   "id": "9973b1e0",
   "metadata": {},
   "outputs": [
    {
     "data": {
      "text/plain": [
       "[{'network': {'protocol': 'some protocol'}}]"
      ]
     },
     "execution_count": null,
     "metadata": {},
     "output_type": "execute_result"
    }
   ],
   "source": [
    "emit('''\n",
    "    any where network.protocol == \"some protocol\"\n",
    "''')"
   ]
  },
  {
   "cell_type": "code",
   "execution_count": null,
   "id": "e69f3728",
   "metadata": {},
   "outputs": [
    {
     "data": {
      "text/plain": [
       "[{}]"
      ]
     },
     "execution_count": null,
     "metadata": {},
     "output_type": "execute_result"
    }
   ],
   "source": [
    "emit('''\n",
    "    any where process.pid == null\n",
    "''')"
   ]
  },
  {
   "cell_type": "code",
   "execution_count": null,
   "id": "745f0e3c",
   "metadata": {},
   "outputs": [
    {
     "data": {
      "text/plain": [
       "[{}]"
      ]
     },
     "execution_count": null,
     "metadata": {},
     "output_type": "execute_result"
    }
   ],
   "source": [
    "emit('''\n",
    "    any where not process.pid != null\n",
    "''')"
   ]
  },
  {
   "cell_type": "code",
   "execution_count": null,
   "id": "c32a04d3",
   "metadata": {},
   "outputs": [
    {
     "data": {
      "text/plain": [
       "[{'process': {'pid': 3617084353}}]"
      ]
     },
     "execution_count": null,
     "metadata": {},
     "output_type": "execute_result"
    }
   ],
   "source": [
    "emit('''\n",
    "    any where process.pid != null\n",
    "''')"
   ]
  },
  {
   "cell_type": "code",
   "execution_count": null,
   "id": "91b53cd7",
   "metadata": {},
   "outputs": [
    {
     "data": {
      "text/plain": [
       "[{'process': {'pid': 3003800358}}]"
      ]
     },
     "execution_count": null,
     "metadata": {},
     "output_type": "execute_result"
    }
   ],
   "source": [
    "emit('''\n",
    "    any where not process.pid == null\n",
    "''')"
   ]
  },
  {
   "cell_type": "code",
   "execution_count": null,
   "id": "2a441164",
   "metadata": {},
   "outputs": [
    {
     "data": {
      "text/plain": [
       "[{'event': {'category': ['process']}, 'process': {'name': 'regsvr32.exe', 'parent': {'name': 'cmd.exe'}}}]"
      ]
     },
     "execution_count": null,
     "metadata": {},
     "output_type": "execute_result"
    }
   ],
   "source": [
    "emit('''\n",
    "    process where process.name == \"regsvr32.exe\" and process.parent.name == \"cmd.exe\"\n",
    "''')"
   ]
  },
  {
   "cell_type": "code",
   "execution_count": null,
   "id": "a73ac097",
   "metadata": {},
   "outputs": [
    {
     "data": {
      "text/plain": [
       "[{'event': {'category': ['process']}, 'process': {'name': 'regsvr32.exe'}},\n",
       "{'event': {'category': ['process']}, 'process': {'parent': {'name': 'cmd.exe'}}}]"
      ]
     },
     "execution_count": null,
     "metadata": {},
     "output_type": "execute_result"
    }
   ],
   "source": [
    "emit('''\n",
    "    process where process.name == \"regsvr32.exe\" or process.parent.name == \"cmd.exe\"\n",
    "''')"
   ]
  },
  {
   "cell_type": "code",
   "execution_count": null,
   "id": "c131698f",
   "metadata": {},
   "outputs": [
    {
     "data": {
      "text/plain": [
       "[{'event': {'category': ['process']}, 'process': {'name': 'regsvr32.exe'}},\n",
       "{'event': {'category': ['process']}, 'process': {'name': 'cmd.exe'}},\n",
       "{'event': {'category': ['process']}, 'process': {'name': 'powershell.exe'}}]"
      ]
     },
     "execution_count": null,
     "metadata": {},
     "output_type": "execute_result"
    }
   ],
   "source": [
    "emit('''\n",
    "    process where process.name == \"regsvr32.exe\" or process.name == \"cmd.exe\" or process.name == \"powershell.exe\"\n",
    "''')"
   ]
  },
  {
   "cell_type": "code",
   "execution_count": null,
   "id": "a0fc0e14",
   "metadata": {},
   "outputs": [
    {
     "data": {
      "text/plain": [
       "[{'event': {'category': ['process']}, 'process': {'name': 'regsvr32.exe'}},\n",
       "{'event': {'category': ['process']}, 'process': {'name': 'cmd.exe'}},\n",
       "{'event': {'category': ['process']}, 'process': {'name': 'powershell.exe'}}]"
      ]
     },
     "execution_count": null,
     "metadata": {},
     "output_type": "execute_result"
    }
   ],
   "source": [
    "emit('''\n",
    "    process where process.name in (\"regsvr32.exe\", \"cmd.exe\", \"powershell.exe\")\n",
    "''')"
   ]
  },
  {
   "cell_type": "code",
   "execution_count": null,
   "id": "acee4804",
   "metadata": {},
   "outputs": [
    {
     "data": {
      "text/plain": [
       "[{'event': {'category': ['process']}, 'process': {'name': 'regsvr32.exe'}},\n",
       "{'event': {'category': ['process']}, 'process': {'name': 'cmd.exe'}},\n",
       "{'event': {'category': ['process']}, 'process': {'name': 'powershell.exe'}}]"
      ]
     },
     "execution_count": null,
     "metadata": {},
     "output_type": "execute_result"
    }
   ],
   "source": [
    "emit('''\n",
    "    process where process.name in (\"regsvr32.exe\", \"cmd.exe\") or process.name == \"powershell.exe\"\n",
    "''')"
   ]
  },
  {
   "cell_type": "code",
   "execution_count": null,
   "id": "152e4622",
   "metadata": {},
   "outputs": [
    {
     "data": {
      "text/plain": [
       "[{'event': {'category': ['process']}, 'process': {'name': 'hhkrsftx.dll'}}]"
      ]
     },
     "execution_count": null,
     "metadata": {},
     "output_type": "execute_result"
    }
   ],
   "source": [
    "emit('''\n",
    "    process where process.name : (\"*.EXE\", \"*.DLL\")\n",
    "''')"
   ]
  },
  {
   "cell_type": "code",
   "execution_count": null,
   "id": "10b1f78e",
   "metadata": {},
   "outputs": [
    {
     "data": {
      "text/plain": [
       "[{'event': {'category': ['process'], 'type': ['start']}, 'process': {'args': ['dump-keychain', '-d']}},\n",
       "{'event': {'category': ['process'], 'type': ['process_started']}, 'process': {'args': ['dump-keychain', '-d']}}]"
      ]
     },
     "execution_count": null,
     "metadata": {},
     "output_type": "execute_result"
    }
   ],
   "source": [
    "emit('''\n",
    "    process where event.type in (\"start\", \"process_started\") and process.args : \"dump-keychain\" and process.args : \"-d\"\n",
    "''')"
   ]
  },
  {
   "cell_type": "code",
   "execution_count": null,
   "id": "4110782a",
   "metadata": {},
   "outputs": [
    {
     "data": {
      "text/plain": [
       "[{'event': {'category': ['network']}, 'destination': {'ip': '127.0.0.1'}}]"
      ]
     },
     "execution_count": null,
     "metadata": {},
     "output_type": "execute_result"
    }
   ],
   "source": [
    "emit('''\n",
    "    network where destination.ip == \"127.0.0.1\"\n",
    "''')"
   ]
  },
  {
   "cell_type": "code",
   "execution_count": null,
   "id": "d92cb054",
   "metadata": {},
   "outputs": [
    {
     "data": {
      "text/plain": [
       "[{'event': {'category': ['network']}, 'destination': {'ip': '192.168.129.181'}}]"
      ]
     },
     "execution_count": null,
     "metadata": {},
     "output_type": "execute_result"
    }
   ],
   "source": [
    "emit('''\n",
    "    network where cidrMatch(destination.ip, \"10.0.0.0/8\", \"192.168.0.0/16\")\n",
    "''')"
   ]
  },
  {
   "cell_type": "code",
   "execution_count": null,
   "id": "587294ca",
   "metadata": {},
   "outputs": [
    {
     "data": {
      "text/plain": [
       "[{'event': {'category': ['network']}, 'destination': {'ip': '106.218.221.201'}}]"
      ]
     },
     "execution_count": null,
     "metadata": {},
     "output_type": "execute_result"
    }
   ],
   "source": [
    "emit('''\n",
    "    network where not cidrMatch(destination.ip, \"10.0.0.0/8\", \"192.168.0.0/16\")\n",
    "''')"
   ]
  },
  {
   "cell_type": "code",
   "execution_count": null,
   "id": "900b824f",
   "metadata": {},
   "outputs": [
    {
     "data": {
      "text/plain": [
       "[{'event': {'category': ['network']}, 'destination': {'ip': '::1'}}]"
      ]
     },
     "execution_count": null,
     "metadata": {},
     "output_type": "execute_result"
    }
   ],
   "source": [
    "emit('''\n",
    "    network where destination.ip == \"::1\"\n",
    "''')"
   ]
  },
  {
   "cell_type": "code",
   "execution_count": null,
   "id": "9771607c",
   "metadata": {},
   "outputs": [
    {
     "data": {
      "text/plain": [
       "[{'event': {'category': ['network']}, 'destination': {'ip': '822e:d242:3361:b181:c4c:ee59:cfdb:60aa'}}]"
      ]
     },
     "execution_count": null,
     "metadata": {},
     "output_type": "execute_result"
    }
   ],
   "source": [
    "emit('''\n",
    "    network where destination.ip == \"822e::/16\"\n",
    "''')"
   ]
  },
  {
   "cell_type": "markdown",
   "id": "9ebaae1d",
   "metadata": {},
   "source": [
    "## Sequence queries"
   ]
  },
  {
   "cell_type": "markdown",
   "id": "987586b0",
   "metadata": {},
   "source": [
    "Following queries instead require multiple _minimal matching documents_, it's not only the content of\n",
    "a single document that is analyzed but also the relation with the subsequent ones. Therefore a senquence\n",
    "of documents, with the appropriate relations, is generated each time and all the documents in the sequence\n",
    "are required for the signal to be generated."
   ]
  },
  {
   "cell_type": "code",
   "execution_count": null,
   "id": "79383aa0",
   "metadata": {},
   "outputs": [
    {
     "data": {
      "text/plain": [
       "[{'event': {'category': ['process']}, 'process': {'name': 'cmd.exe'}},\n",
       "{'event': {'category': ['process']}, 'process': {'parent': {'name': 'cmd.exe'}}}]"
      ]
     },
     "execution_count": null,
     "metadata": {},
     "output_type": "execute_result"
    }
   ],
   "source": [
    "emit('''\n",
    "    sequence\n",
    "        [process where process.name : \"cmd.exe\"]\n",
    "        [process where process.parent.name : \"cmd.exe\"]\n",
    "''')"
   ]
  },
  {
   "cell_type": "code",
   "execution_count": null,
   "id": "a28f3e6e",
   "metadata": {},
   "outputs": [
    {
     "data": {
      "text/plain": [
       "[{'event': {'category': ['process']}, 'process': {'name': 'cmd.exe'}, 'user': {'id': 'xgG'}},\n",
       "{'event': {'category': ['process']}, 'process': {'parent': {'name': 'cmd.exe'}}, 'user': {'id': 'xgG'}}]"
      ]
     },
     "execution_count": null,
     "metadata": {},
     "output_type": "execute_result"
    }
   ],
   "source": [
    "emit('''\n",
    "    sequence by user.id\n",
    "        [process where process.name : \"cmd.exe\"]\n",
    "        [process where process.parent.name : \"cmd.exe\"]\n",
    "''')"
   ]
  },
  {
   "cell_type": "code",
   "execution_count": null,
   "id": "e5e72392",
   "metadata": {},
   "outputs": [
    {
     "data": {
      "text/plain": [
       "[{'event': {'category': ['process']}, 'process': {'name': 'cmd.exe'}, 'user': {'id': 'Eev'}},\n",
       "{'event': {'category': ['process']}, 'process': {'parent': {'name': 'cmd.exe'}}, 'user': {'name': 'Eev'}}]"
      ]
     },
     "execution_count": null,
     "metadata": {},
     "output_type": "execute_result"
    }
   ],
   "source": [
    "emit('''\n",
    "    sequence\n",
    "        [process where process.name : \"cmd.exe\"] by user.id\n",
    "        [process where process.parent.name : \"cmd.exe\"] by user.name\n",
    "''')"
   ]
  },
  {
   "cell_type": "code",
   "execution_count": null,
   "id": "66dc50fd",
   "metadata": {},
   "outputs": [
    {
     "data": {
      "text/plain": [
       "[{'event': {'category': ['process']}, 'process': {'name': 'cmd.exe'}},\n",
       "{'event': {'category': ['process']}, 'process': {'parent': {'name': 'cmd.exe'}}},\n",
       "{'event': {'category': ['process']}, 'process': {'name': 'cmd.exe'}},\n",
       "{'event': {'category': ['process']}, 'process': {'name': 'powershell.exe'}}]"
      ]
     },
     "execution_count": null,
     "metadata": {},
     "output_type": "execute_result"
    }
   ],
   "source": [
    "emit('''\n",
    "    sequence\n",
    "        [process where process.name : \"cmd.exe\"]\n",
    "        [process where process.parent.name : \"cmd.exe\" or process.name : \"powershell.exe\"]\n",
    "''')"
   ]
  },
  {
   "cell_type": "code",
   "execution_count": null,
   "id": "5faad66e",
   "metadata": {},
   "outputs": [
    {
     "data": {
      "text/plain": [
       "[{'event': {'category': ['process']}, 'process': {'name': 'cmd.exe'}, 'user': {'id': 'GuM'}},\n",
       "{'event': {'category': ['process']}, 'process': {'parent': {'name': 'cmd.exe'}}, 'user': {'id': 'GuM'}},\n",
       "{'event': {'category': ['process']}, 'process': {'name': 'cmd.exe'}, 'user': {'id': 'etd'}},\n",
       "{'event': {'category': ['process']}, 'process': {'name': 'powershell.exe'}, 'user': {'id': 'etd'}}]"
      ]
     },
     "execution_count": null,
     "metadata": {},
     "output_type": "execute_result"
    }
   ],
   "source": [
    "emit('''\n",
    "    sequence by user.id\n",
    "        [process where process.name : \"cmd.exe\"]\n",
    "        [process where process.parent.name : \"cmd.exe\" or process.name : \"powershell.exe\"]\n",
    "''')"
   ]
  },
  {
   "cell_type": "code",
   "execution_count": null,
   "id": "48da33e5",
   "metadata": {},
   "outputs": [
    {
     "data": {
      "text/plain": [
       "[{'event': {'category': ['process']}, 'process': {'name': 'cmd.exe'}},\n",
       "{'event': {'category': ['process']}, 'process': {'name': 'cmd.exe', 'parent': {'name': 'cmd.exe'}}},\n",
       "{'event': {'category': ['process']}, 'process': {'name': 'cmd.exe'}},\n",
       "{'event': {'category': ['process']}, 'process': {'name': 'powershell.exe', 'parent': {'name': 'cmd.exe'}}},\n",
       "{'event': {'category': ['process']}, 'process': {'name': 'powershell.exe'}},\n",
       "{'event': {'category': ['process']}, 'process': {'name': 'cmd.exe', 'parent': {'name': 'powershell.exe'}}},\n",
       "{'event': {'category': ['process']}, 'process': {'name': 'powershell.exe'}},\n",
       "{'event': {'category': ['process']}, 'process': {'name': 'powershell.exe', 'parent': {'name': 'powershell.exe'}}}]"
      ]
     },
     "execution_count": null,
     "metadata": {},
     "output_type": "execute_result"
    }
   ],
   "source": [
    "emit('''\n",
    "    sequence\n",
    "        [process where process.name in (\"cmd.exe\", \"powershell.exe\")] by process.name\n",
    "        [process where process.name in (\"cmd.exe\", \"powershell.exe\")] by process.parent.name\n",
    "''')"
   ]
  },
  {
   "cell_type": "code",
   "execution_count": null,
   "id": "a52d7e03",
   "metadata": {},
   "outputs": [
    {
     "data": {
      "text/plain": [
       "[{'event': {'category': ['process']}, 'process': {'name': 'cmd.exe'}, 'user': {'id': 'Tkx'}},\n",
       "{'event': {'category': ['process']}, 'process': {'name': 'cmd.exe', 'parent': {'name': 'cmd.exe'}}, 'user': {'id': 'Tkx'}},\n",
       "{'event': {'category': ['process']}, 'process': {'name': 'cmd.exe'}, 'user': {'id': 'REt'}},\n",
       "{'event': {'category': ['process']}, 'process': {'name': 'powershell.exe', 'parent': {'name': 'cmd.exe'}}, 'user': {'id': 'REt'}},\n",
       "{'event': {'category': ['process']}, 'process': {'name': 'powershell.exe'}, 'user': {'id': 'dLh'}},\n",
       "{'event': {'category': ['process']}, 'process': {'name': 'cmd.exe', 'parent': {'name': 'powershell.exe'}}, 'user': {'id': 'dLh'}},\n",
       "{'event': {'category': ['process']}, 'process': {'name': 'powershell.exe'}, 'user': {'id': 'Bvu'}},\n",
       "{'event': {'category': ['process']}, 'process': {'name': 'powershell.exe', 'parent': {'name': 'powershell.exe'}}, 'user': {'id': 'Bvu'}}]"
      ]
     },
     "execution_count": null,
     "metadata": {},
     "output_type": "execute_result"
    }
   ],
   "source": [
    "emit('''\n",
    "    sequence by user.id\n",
    "        [process where process.name in (\"cmd.exe\", \"powershell.exe\")] by process.name\n",
    "        [process where process.name in (\"cmd.exe\", \"powershell.exe\")] by process.parent.name\n",
    "''')"
   ]
  },
  {
   "cell_type": "markdown",
   "id": "da7c1fd5",
   "metadata": {},
   "source": [
    "## Error conditions"
   ]
  },
  {
   "cell_type": "markdown",
   "id": "bb4e3f14",
   "metadata": {},
   "source": [
    "Not all the queries make sense, for those that cannot logically be ever triggered no single or sequence\n",
    "of documents can possibly be generated. In such cases an error is reported, as the following cells show.\n",
    "\n",
    "Of course you can challenge the generation engine first hand and see if the due errors are reported and\n",
    "make all sense to you."
   ]
  },
  {
   "cell_type": "code",
   "execution_count": null,
   "id": "8a80253c",
   "metadata": {},
   "outputs": [
    {
     "name": "stdout",
     "output_type": "stream",
     "text": [
      "Cannot trigger with any document"
     ]
    }
   ],
   "source": [
    "emit('''\n",
    "    any where false\n",
    "''')"
   ]
  },
  {
   "cell_type": "code",
   "execution_count": null,
   "id": "4226bc12",
   "metadata": {},
   "outputs": [
    {
     "name": "stdout",
     "output_type": "stream",
     "text": [
      "Cannot trigger with any document"
     ]
    }
   ],
   "source": [
    "emit('''\n",
    "    any where not true\n",
    "''')"
   ]
  },
  {
   "cell_type": "code",
   "execution_count": null,
   "id": "6d560a74",
   "metadata": {},
   "outputs": [
    {
     "name": "stdout",
     "output_type": "stream",
     "text": [
      "Cannot trigger with any document"
     ]
    }
   ],
   "source": [
    "emit('''\n",
    "    any where not (true and true)\n",
    "''')"
   ]
  },
  {
   "cell_type": "code",
   "execution_count": null,
   "id": "28d39c0c",
   "metadata": {},
   "outputs": [
    {
     "name": "stdout",
     "output_type": "stream",
     "text": [
      "Cannot trigger with any document"
     ]
    }
   ],
   "source": [
    "emit('''\n",
    "    any where not (true or false)\n",
    "''')"
   ]
  },
  {
   "cell_type": "code",
   "execution_count": null,
   "id": "4f41b08c",
   "metadata": {},
   "outputs": [
    {
     "name": "stdout",
     "output_type": "stream",
     "text": [
      "Unsolvable constraints: process.pid (cannot be non-null)"
     ]
    }
   ],
   "source": [
    "emit('''\n",
    "    any where process.pid == null and process.pid != null\n",
    "''')"
   ]
  },
  {
   "cell_type": "code",
   "execution_count": null,
   "id": "8c691b2e",
   "metadata": {},
   "outputs": [
    {
     "name": "stdout",
     "output_type": "stream",
     "text": [
      "Unsolvable constraints: process.pid (cannot be null)"
     ]
    }
   ],
   "source": [
    "emit('''\n",
    "    any where process.pid > 0 and process.pid == null\n",
    "''')"
   ]
  },
  {
   "cell_type": "code",
   "execution_count": null,
   "id": "545aec08",
   "metadata": {},
   "outputs": [
    {
     "name": "stdout",
     "output_type": "stream",
     "text": [
      "Unsolvable constraints: process.name (cannot be null)"
     ]
    }
   ],
   "source": [
    "emit('''\n",
    "    any where process.name != null and process.name == null\n",
    "''')"
   ]
  },
  {
   "cell_type": "code",
   "execution_count": null,
   "id": "376b05a2",
   "metadata": {},
   "outputs": [
    {
     "name": "stdout",
     "output_type": "stream",
     "text": [
      "Unsolvable constraints: process.name (cannot be null)"
     ]
    }
   ],
   "source": [
    "emit('''\n",
    "    any where process.name == \"cmd.exe\" and process.name == null\n",
    "''')"
   ]
  },
  {
   "cell_type": "code",
   "execution_count": null,
   "id": "3db95900",
   "metadata": {},
   "outputs": [
    {
     "name": "stdout",
     "output_type": "stream",
     "text": [
      "Unsolvable constraints: process.pid (out of boundary, 1 <= 0 <= 4294967295)"
     ]
    }
   ],
   "source": [
    "emit('''\n",
    "    process where process.pid == 0\n",
    "''')"
   ]
  },
  {
   "cell_type": "code",
   "execution_count": null,
   "id": "3818e5a9",
   "metadata": {},
   "outputs": [
    {
     "name": "stdout",
     "output_type": "stream",
     "text": [
      "Unsolvable constraints: process.pid (empty solution space, 1 <= x <= 0)"
     ]
    }
   ],
   "source": [
    "emit('''\n",
    "    process where process.pid <= 0\n",
    "''')"
   ]
  },
  {
   "cell_type": "code",
   "execution_count": null,
   "id": "6f8db492",
   "metadata": {},
   "outputs": [
    {
     "name": "stdout",
     "output_type": "stream",
     "text": [
      "Unsolvable constraints: process.pid (empty solution space, 1 <= x <= -1)"
     ]
    }
   ],
   "source": [
    "emit('''\n",
    "    process where process.pid < 0\n",
    "''')"
   ]
  },
  {
   "cell_type": "code",
   "execution_count": null,
   "id": "a822b93f",
   "metadata": {},
   "outputs": [
    {
     "name": "stdout",
     "output_type": "stream",
     "text": [
      "Unsolvable constraints ==: network.protocol (is already 'http', cannot set to 'https')"
     ]
    }
   ],
   "source": [
    "emit('''\n",
    "    any where network.protocol == \"http\" and network.protocol == \"https\"\n",
    "''')"
   ]
  },
  {
   "cell_type": "code",
   "execution_count": null,
   "id": "03234a86",
   "metadata": {},
   "outputs": [
    {
     "name": "stdout",
     "output_type": "stream",
     "text": [
      "Cannot trigger with any document"
     ]
    }
   ],
   "source": [
    "emit('''\n",
    "    network where destination.port == 22 and destination.port in (80, 443)\n",
    "''')"
   ]
  },
  {
   "cell_type": "code",
   "execution_count": null,
   "id": "ec212a44",
   "metadata": {},
   "outputs": [
    {
     "name": "stdout",
     "output_type": "stream",
     "text": [
      "Unsolvable constraints: source.port (empty solution space, 1024 <= x <= 512)"
     ]
    }
   ],
   "source": [
    "emit('''\n",
    "    network where not (source.port > 512 or source.port < 1024)\n",
    "''')"
   ]
  },
  {
   "cell_type": "code",
   "execution_count": null,
   "id": "2c4c041f",
   "metadata": {},
   "outputs": [
    {
     "name": "stdout",
     "output_type": "stream",
     "text": [
      "Unsolvable constraints ==: process.name (is already 'powershell.exe', cannot set to 'cmd.exe')"
     ]
    }
   ],
   "source": [
    "emit('''\n",
    "    sequence by process.name\n",
    "        [process where process.name : \"cmd.exe\"]\n",
    "        [process where process.name : \"powershell.exe\"]\n",
    "''')"
   ]
  },
  {
   "cell_type": "code",
   "execution_count": null,
   "id": "5a9a685d",
   "metadata": {},
   "outputs": [
    {
     "name": "stdout",
     "output_type": "stream",
     "text": [
      "Unsolvable constraints ==: process.parent.name (is already 'powershell.exe', cannot set to 'cmd.exe')"
     ]
    }
   ],
   "source": [
    "emit('''\n",
    "    sequence\n",
    "        [process where process.name : \"cmd.exe\"] by process.name\n",
    "        [process where process.parent.name : \"powershell.exe\"] by process.parent.name\n",
    "''')"
   ]
  },
  {
   "cell_type": "code",
   "execution_count": null,
   "id": "35f37d7c",
   "metadata": {},
   "outputs": [
    {
     "name": "stdout",
     "output_type": "stream",
     "text": [
      "Unsolvable constraints: process.name (cannot be non-null)"
     ]
    }
   ],
   "source": [
    "emit('''\n",
    "    sequence by process.name\n",
    "        [process where process.name == null]\n",
    "        [process where process.name : \"powershell.exe\"]\n",
    "''')"
   ]
  },
  {
   "cell_type": "markdown",
   "id": "efa06ce9",
   "metadata": {},
   "source": [
    "## Any oddities?"
   ]
  },
  {
   "cell_type": "markdown",
   "id": "6bcdb381",
   "metadata": {},
   "source": [
    "Did you find anything odd reviewing the report or playing with the documents emitter?\n",
    "We are interested to know."
   ]
  }
 ],
 "metadata": {
  "language_info": {
   "file_extension": ".py",
   "mimetype": "text/x-python",
   "name": "python",
   "version": "3.9.9"
  }
 },
 "nbformat": 4,
 "nbformat_minor": 5
}

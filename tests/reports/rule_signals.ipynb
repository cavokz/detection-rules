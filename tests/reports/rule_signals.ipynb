{
 "cells": [
  {
   "cell_type": "markdown",
   "id": "55cdd62c",
   "metadata": {},
   "source": [
    "# Rule signals generation progress\n",
    "\n",
    "This Jupyter Notebook captures the detection rules signals generation coverage. Here you can\n",
    "learn what rules are supported and what not and why.\n",
    "\n",
    "Reasons for rules being not supported:\n",
    "* rule type is not EQL or query (e.g. ML, threshold)\n",
    "* query language is not EQL or Kuery (e.g. Lucene)\n",
    "* fields type mismatch (i.e. non-ECS field with incorrect type definition)\n",
    "* incorrect document generation\n",
    "\n",
    "Curious about the inner workings? Read [here](signals_generation.md). Need help in using a Jupyter Notebook?\n",
    "Read [here](https://jupyter-notebook.readthedocs.io/en/stable/notebook.html#structure-of-a-notebook-document)."
   ]
  },
  {
   "cell_type": "markdown",
   "id": "3d162fb8",
   "metadata": {},
   "source": [
    "## Table of contents\n",
    " 1. [Preliminaries](#Preliminaries)\n",
    " 1. [Generation errors](#Generation-errors)\n",
    " 1. [Failed rules](#Failed-rules)\n",
    " 1. [Rules with too few signals](#Rules-with-too-few-signals)"
   ]
  },
  {
   "cell_type": "markdown",
   "id": "41fb2c5b",
   "metadata": {},
   "source": [
    "## Preliminaries"
   ]
  },
  {
   "cell_type": "markdown",
   "id": "480b2e9b",
   "metadata": {},
   "source": [
    "This is an auxiliary cell, it prepares the environment for all the subsequent cells. It's also\n",
    "a simple example of emitter API usage."
   ]
  },
  {
   "cell_type": "code",
   "execution_count": null,
   "id": "56bbd54e",
   "metadata": {},
   "outputs": [],
   "source": [
    "import os; os.chdir('../..')  # use the repo's root as base for local modules import\n",
    "import eql\n",
    "from detection_rules.events_emitter import emitter\n",
    "\n",
    "def emit(query):\n",
    "    with eql.parser.elasticsearch_syntax:\n",
    "        try:\n",
    "            return emitter.emit_docs(emitter.emit(eql.parse_query(query)))\n",
    "        except Exception as e:\n",
    "            print(e)"
   ]
  },
  {
   "cell_type": "markdown",
   "id": "09b1a904",
   "metadata": {},
   "source": [
    "## Generation errors"
   ]
  },
  {
   "cell_type": "markdown",
   "id": "562ab429",
   "metadata": {},
   "source": [
    "### Apple Scripting Execution with Administrator Privileges"
   ]
  },
  {
   "cell_type": "code",
   "execution_count": null,
   "id": "736fc06f",
   "metadata": {},
   "outputs": [
    {
     "name": "stdout",
     "output_type": "stream",
     "text": [
      "Constraints solver not implemented: wildcard"
     ]
    }
   ],
   "source": [
    "emit('''\n",
    "process where event.type in (\"start\", \"process_started\") and process.name : \"osascript\" and\n",
    "  process.command_line : \"osascript*with administrator privileges\"\n",
    "''')"
   ]
  },
  {
   "cell_type": "markdown",
   "id": "26e5e6be",
   "metadata": {},
   "source": [
    "### Command Shell Activity Started via RunDLL32"
   ]
  },
  {
   "cell_type": "code",
   "execution_count": null,
   "id": "2cc19844",
   "metadata": {},
   "outputs": [
    {
     "name": "stdout",
     "output_type": "stream",
     "text": [
      "Constraints solver not implemented: wildcard"
     ]
    }
   ],
   "source": [
    "emit('''\n",
    "process where event.type == \"start\" and\n",
    " process.name : (\"cmd.exe\", \"powershell.exe\") and\n",
    "  process.parent.name : \"rundll32.exe\" and process.parent.command_line != null and\n",
    "  /* common FPs can be added here */\n",
    "  not process.parent.args : (\"C:\\\\Windows\\\\System32\\\\SHELL32.dll,RunAsNewUser_RunDLL\",\n",
    "                             \"C:\\\\WINDOWS\\\\*.tmp,zzzzInvokeManagedCustomActionOutOfProc\")\n",
    "''')"
   ]
  },
  {
   "cell_type": "markdown",
   "id": "b6de3de9",
   "metadata": {},
   "source": [
    "### Component Object Model Hijacking"
   ]
  },
  {
   "cell_type": "code",
   "execution_count": null,
   "id": "5e4d5d3e",
   "metadata": {},
   "outputs": [
    {
     "name": "stdout",
     "output_type": "stream",
     "text": [
      "Constraints solver not implemented: wildcard"
     ]
    }
   ],
   "source": [
    "emit('''\n",
    "registry where\n",
    " /* uncomment once length is stable length(bytes_written_string) > 0 and */\n",
    " (registry.path : \"HK*}\\\\InprocServer32\\\\\" and registry.data.strings: (\"scrobj.dll\", \"C:\\\\*\\\\scrobj.dll\") and\n",
    " not registry.path : \"*\\\\{06290BD*-48AA-11D2-8432-006008C3FBFC}\\\\*\") \n",
    " or\n",
    " /* in general COM Registry changes on Users Hive is less noisy and worth alerting */\n",
    " (registry.path : (\"HKEY_USERS\\\\*Classes\\\\*\\\\InprocServer32\\\\\",\n",
    "                   \"HKEY_USERS\\\\*Classes\\\\*\\\\LocalServer32\\\\\",\n",
    "                   \"HKEY_USERS\\\\*Classes\\\\*\\\\DelegateExecute\\\\\", \n",
    "                   \"HKEY_USERS\\\\*Classes\\\\*\\\\TreatAs\\\\\", \n",
    "                   \"HKEY_USERS\\\\*Classes\\\\CLSID\\\\*\\\\ScriptletURL\\\\\") and\n",
    " not (process.executable : \"?:\\\\Program Files*\\\\Veeam\\\\Backup and Replication\\\\Console\\\\veeam.backup.shell.exe\" and\n",
    "      registry.path : \"HKEY_USERS\\\\S-1-5-21-*_Classes\\\\CLSID\\\\*\\\\LocalServer32\\\\\") and\n",
    " /* not necessary but good for filtering privileged installations */\n",
    " user.domain != \"NT AUTHORITY\")\n",
    "''')"
   ]
  },
  {
   "cell_type": "markdown",
   "id": "8d8ff771",
   "metadata": {},
   "source": [
    "### Control Panel Process with Unusual Arguments"
   ]
  },
  {
   "cell_type": "code",
   "execution_count": null,
   "id": "fd0a77df",
   "metadata": {},
   "outputs": [
    {
     "name": "stdout",
     "output_type": "stream",
     "text": [
      "Constraints solver not implemented: wildcard"
     ]
    }
   ],
   "source": [
    "emit('''\n",
    "process where event.type in (\"start\", \"process_started\") and\n",
    " process.executable : (\"?:\\\\Windows\\\\SysWOW64\\\\control.exe\", \"?:\\\\Windows\\\\System32\\\\control.exe\") and\n",
    " process.command_line :\n",
    "          (\"*.jpg*\",\n",
    "           \"*.png*\",\n",
    "           \"*.gif*\",\n",
    "           \"*.bmp*\",\n",
    "           \"*.jpeg*\",\n",
    "           \"*.TIFF*\",\n",
    "           \"*.inf*\",\n",
    "           \"*.dat*\",\n",
    "           \"*.cpl:*/*\",\n",
    "           \"*../../..*\",\n",
    "           \"*/AppData/Local/*\",\n",
    "           \"*:\\\\Users\\\\Public\\\\*\",\n",
    "           \"*\\\\AppData\\\\Local\\\\*\")\n",
    "''')"
   ]
  },
  {
   "cell_type": "markdown",
   "id": "85cbdd3e",
   "metadata": {},
   "source": [
    "### Creation of Hidden Files and Directories"
   ]
  },
  {
   "cell_type": "code",
   "execution_count": null,
   "id": "35a9c540",
   "metadata": {},
   "outputs": [
    {
     "name": "stdout",
     "output_type": "stream",
     "text": [
      "Unsupported function: match"
     ]
    }
   ],
   "source": [
    "emit('''\n",
    "process where event.type in (\"start\", \"process_started\") and\n",
    "  process.working_directory in (\"/tmp\", \"/var/tmp\", \"/dev/shm\") and\n",
    "  process.args regex~ \"\"\"\\.[a-z0-9_\\-][a-z0-9_\\-\\.]{1,254}\"\"\" and\n",
    "  not process.name in (\"ls\", \"find\")\n",
    "''')"
   ]
  },
  {
   "cell_type": "markdown",
   "id": "74338b5e",
   "metadata": {},
   "source": [
    "### Creation of Hidden Login Item via Apple Script"
   ]
  },
  {
   "cell_type": "code",
   "execution_count": null,
   "id": "57ea7e9a",
   "metadata": {},
   "outputs": [
    {
     "name": "stdout",
     "output_type": "stream",
     "text": [
      "Constraints solver not implemented: wildcard"
     ]
    }
   ],
   "source": [
    "emit('''\n",
    "process where event.type in (\"start\", \"process_started\") and process.name : \"osascript\" and\n",
    " process.command_line : \"osascript*login item*hidden:true*\"\n",
    "''')"
   ]
  },
  {
   "cell_type": "markdown",
   "id": "0eb8b54a",
   "metadata": {},
   "source": [
    "### DNS-over-HTTPS Enabled via Registry"
   ]
  },
  {
   "cell_type": "code",
   "execution_count": null,
   "id": "72863a8b",
   "metadata": {},
   "outputs": [
    {
     "name": "stdout",
     "output_type": "stream",
     "text": [
      "Constraints solver not implemented: wildcard"
     ]
    }
   ],
   "source": [
    "emit('''\n",
    "registry where event.type in (\"creation\", \"change\") and\n",
    "  (registry.path : \"*\\\\SOFTWARE\\\\Policies\\\\Microsoft\\\\Edge\\\\BuiltInDnsClientEnabled\" and\n",
    "  registry.data.strings : \"1\") or\n",
    "  (registry.path : \"*\\\\SOFTWARE\\\\Google\\\\Chrome\\\\DnsOverHttpsMode\" and\n",
    "  registry.data.strings : \"secure\") or\n",
    "  (registry.path : \"*\\\\SOFTWARE\\\\Policies\\\\Mozilla\\\\Firefox\\\\DNSOverHTTPS\" and\n",
    "  registry.data.strings : \"1\")\n",
    "''')"
   ]
  },
  {
   "cell_type": "markdown",
   "id": "1f2ea16c",
   "metadata": {},
   "source": [
    "### Disabling User Account Control via Registry Modification"
   ]
  },
  {
   "cell_type": "code",
   "execution_count": null,
   "id": "795eafa2",
   "metadata": {},
   "outputs": [
    {
     "name": "stdout",
     "output_type": "stream",
     "text": [
      "Constraints solver not implemented: wildcard"
     ]
    }
   ],
   "source": [
    "emit('''\n",
    "registry where event.type == \"change\" and\n",
    "  registry.path :\n",
    "    (\n",
    "      \"HKLM\\\\SOFTWARE\\\\Microsoft\\\\Windows\\\\CurrentVersion\\\\Policies\\\\System\\\\EnableLUA\",\n",
    "      \"HKLM\\\\SOFTWARE\\\\Microsoft\\\\Windows\\\\CurrentVersion\\\\Policies\\\\System\\\\ConsentPromptBehaviorAdmin\",\n",
    "      \"HKLM\\\\SOFTWARE\\\\Microsoft\\\\Windows\\\\CurrentVersion\\\\Policies\\\\System\\\\PromptOnSecureDesktop\"\n",
    "    ) and\n",
    "  registry.data.strings : \"0\"\n",
    "''')"
   ]
  },
  {
   "cell_type": "markdown",
   "id": "85bb6043",
   "metadata": {},
   "source": [
    "### Encoded Executable Stored in the Registry"
   ]
  },
  {
   "cell_type": "code",
   "execution_count": null,
   "id": "68da7f96",
   "metadata": {},
   "outputs": [
    {
     "name": "stdout",
     "output_type": "stream",
     "text": [
      "Constraints solver not implemented: wildcard"
     ]
    }
   ],
   "source": [
    "emit('''\n",
    "registry where\n",
    "/* update here with encoding combinations */\n",
    " registry.data.strings : \"TVqQAAMAAAAEAAAA*\"\n",
    "''')"
   ]
  },
  {
   "cell_type": "markdown",
   "id": "2841ad12",
   "metadata": {},
   "source": [
    "### Executable File Creation with Multiple Extensions"
   ]
  },
  {
   "cell_type": "code",
   "execution_count": null,
   "id": "68726c60",
   "metadata": {},
   "outputs": [
    {
     "name": "stdout",
     "output_type": "stream",
     "text": [
      "Unsupported function: match"
     ]
    }
   ],
   "source": [
    "emit('''\n",
    "file where event.type == \"creation\" and file.extension : \"exe\" and\n",
    "  file.name regex~ \"\"\".*\\.(vbs|vbe|bat|js|cmd|wsh|ps1|pdf|docx?|xlsx?|pptx?|txt|rtf|gif|jpg|png|bmp|hta|txt|img|iso)\\.exe\"\"\"\n",
    "''')"
   ]
  },
  {
   "cell_type": "markdown",
   "id": "28fff3a2",
   "metadata": {},
   "source": [
    "### Execution from Unusual Directory - Command Line"
   ]
  },
  {
   "cell_type": "code",
   "execution_count": null,
   "id": "dcb487ee",
   "metadata": {},
   "outputs": [
    {
     "name": "stdout",
     "output_type": "stream",
     "text": [
      "Unsolvable constraints: process.name (wildcard(s) both included and excluded: 'rundll32.exe')"
     ]
    }
   ],
   "source": [
    "emit('''\n",
    "process where event.type in (\"start\", \"process_started\", \"info\") and\n",
    "  process.name : (\"wscript.exe\", \n",
    "                  \"cscript.exe\", \n",
    "                  \"rundll32.exe\", \n",
    "                  \"regsvr32.exe\", \n",
    "                  \"cmstp.exe\",\n",
    "                  \"RegAsm.exe\",\n",
    "                  \"installutil.exe\",\n",
    "                  \"mshta.exe\",\n",
    "                  \"RegSvcs.exe\", \n",
    "                  \"powershell.exe\", \n",
    "                  \"pwsh.exe\", \n",
    "                  \"cmd.exe\") and\n",
    "\n",
    "  /* add suspicious execution paths here */\n",
    "  process.args : (\"C:\\\\PerfLogs\\\\*\",\n",
    "                  \"C:\\\\Users\\\\Public\\\\*\",\n",
    "                  \"C:\\\\Users\\\\Default\\\\*\",\n",
    "                  \"C:\\\\Windows\\\\Tasks\\\\*\",\n",
    "                  \"C:\\\\Intel\\\\*\", \n",
    "                  \"C:\\\\AMD\\\\Temp\\\\*\", \n",
    "                  \"C:\\\\Windows\\\\AppReadiness\\\\*\", \n",
    "                  \"C:\\\\Windows\\\\ServiceState\\\\*\",\n",
    "                  \"C:\\\\Windows\\\\security\\\\*\",\n",
    "                  \"C:\\\\Windows\\\\IdentityCRL\\\\*\",\n",
    "                  \"C:\\\\Windows\\\\Branding\\\\*\",\n",
    "                  \"C:\\\\Windows\\\\csc\\\\*\",\n",
    "                  \"C:\\\\Windows\\\\DigitalLocker\\\\*\",\n",
    "                  \"C:\\\\Windows\\\\en-US\\\\*\",\n",
    "                  \"C:\\\\Windows\\\\wlansvc\\\\*\",\n",
    "                  \"C:\\\\Windows\\\\Prefetch\\\\*\",\n",
    "                  \"C:\\\\Windows\\\\Fonts\\\\*\",\n",
    "                  \"C:\\\\Windows\\\\diagnostics\\\\*\",\n",
    "                  \"C:\\\\Windows\\\\TAPI\\\\*\",\n",
    "                  \"C:\\\\Windows\\\\INF\\\\*\",\n",
    "                  \"C:\\\\Windows\\\\System32\\\\Speech\\\\*\",\n",
    "                  \"C:\\\\windows\\\\tracing\\\\*\",\n",
    "                  \"c:\\\\windows\\\\IME\\\\*\",\n",
    "                  \"c:\\\\Windows\\\\Performance\\\\*\",\n",
    "                  \"c:\\\\windows\\\\intel\\\\*\",\n",
    "                  \"c:\\\\windows\\\\ms\\\\*\",\n",
    "                  \"C:\\\\Windows\\\\dot3svc\\\\*\",\n",
    "                  \"C:\\\\Windows\\\\ServiceProfiles\\\\*\",\n",
    "                  \"C:\\\\Windows\\\\panther\\\\*\",\n",
    "                  \"C:\\\\Windows\\\\RemotePackages\\\\*\",\n",
    "                  \"C:\\\\Windows\\\\OCR\\\\*\",\n",
    "                  \"C:\\\\Windows\\\\appcompat\\\\*\",\n",
    "                  \"C:\\\\Windows\\\\apppatch\\\\*\",\n",
    "                  \"C:\\\\Windows\\\\addins\\\\*\",\n",
    "                  \"C:\\\\Windows\\\\Setup\\\\*\",\n",
    "                  \"C:\\\\Windows\\\\Help\\\\*\",\n",
    "                  \"C:\\\\Windows\\\\SKB\\\\*\",\n",
    "                  \"C:\\\\Windows\\\\Vss\\\\*\",\n",
    "                  \"C:\\\\Windows\\\\Web\\\\*\",\n",
    "                  \"C:\\\\Windows\\\\servicing\\\\*\",\n",
    "                  \"C:\\\\Windows\\\\CbsTemp\\\\*\",\n",
    "                  \"C:\\\\Windows\\\\Logs\\\\*\",\n",
    "                  \"C:\\\\Windows\\\\WaaS\\\\*\",\n",
    "                  \"C:\\\\Windows\\\\twain_32\\\\*\",\n",
    "                  \"C:\\\\Windows\\\\ShellExperiences\\\\*\",\n",
    "                  \"C:\\\\Windows\\\\ShellComponents\\\\*\",\n",
    "                  \"C:\\\\Windows\\\\PLA\\\\*\",\n",
    "                  \"C:\\\\Windows\\\\Migration\\\\*\",\n",
    "                  \"C:\\\\Windows\\\\debug\\\\*\",\n",
    "                  \"C:\\\\Windows\\\\Cursors\\\\*\",\n",
    "                  \"C:\\\\Windows\\\\Containers\\\\*\",\n",
    "                  \"C:\\\\Windows\\\\Boot\\\\*\",\n",
    "                  \"C:\\\\Windows\\\\bcastdvr\\\\*\",\n",
    "                  \"C:\\\\Windows\\\\assembly\\\\*\",\n",
    "                  \"C:\\\\Windows\\\\TextInput\\\\*\",\n",
    "                  \"C:\\\\Windows\\\\security\\\\*\",\n",
    "                  \"C:\\\\Windows\\\\schemas\\\\*\",\n",
    "                  \"C:\\\\Windows\\\\SchCache\\\\*\",\n",
    "                  \"C:\\\\Windows\\\\Resources\\\\*\",\n",
    "                  \"C:\\\\Windows\\\\rescache\\\\*\",\n",
    "                  \"C:\\\\Windows\\\\Provisioning\\\\*\",\n",
    "                  \"C:\\\\Windows\\\\PrintDialog\\\\*\",\n",
    "                  \"C:\\\\Windows\\\\PolicyDefinitions\\\\*\",\n",
    "                  \"C:\\\\Windows\\\\media\\\\*\",\n",
    "                  \"C:\\\\Windows\\\\Globalization\\\\*\",\n",
    "                  \"C:\\\\Windows\\\\L2Schemas\\\\*\",\n",
    "                  \"C:\\\\Windows\\\\LiveKernelReports\\\\*\",\n",
    "                  \"C:\\\\Windows\\\\ModemLogs\\\\*\",\n",
    "                  \"C:\\\\Windows\\\\ImmersiveControlPanel\\\\*\",\n",
    "                  \"C:\\\\$Recycle.Bin\\\\*\") and\n",
    "  not process.parent.executable : (\"C:\\\\WINDOWS\\\\System32\\\\DriverStore\\\\FileRepository\\\\*\\\\igfxCUIService*.exe\",\n",
    "                                   \"C:\\\\Windows\\\\System32\\\\spacedeskService.exe\",\n",
    "                                   \"C:\\\\Program Files\\\\Dell\\\\SupportAssistAgent\\\\SRE\\\\SRE.exe\") and\n",
    "  not (process.name : \"rundll32.exe\" and process.args : (\"uxtheme.dll,#64\", \"PRINTUI.DLL,PrintUIEntry\"))\n",
    "''')"
   ]
  },
  {
   "cell_type": "markdown",
   "id": "3a0db65d",
   "metadata": {},
   "source": [
    "### Image File Execution Options Injection"
   ]
  },
  {
   "cell_type": "code",
   "execution_count": null,
   "id": "00a98cbe",
   "metadata": {},
   "outputs": [
    {
     "name": "stdout",
     "output_type": "stream",
     "text": [
      "Unsupported LHS type: <class 'eql.ast.FunctionCall'>"
     ]
    }
   ],
   "source": [
    "emit('''\n",
    "registry where length(registry.data.strings) > 0 and\n",
    " registry.path : (\"HKLM\\\\SOFTWARE\\\\Microsoft\\\\Windows NT\\\\CurrentVersion\\\\Image File Execution Options\\\\*.exe\\\\Debugger\", \n",
    "                  \"HKLM\\\\SOFTWARE\\\\WOW6432Node\\\\Microsoft\\\\Windows NT\\\\CurrentVersion\\\\Image File Execution Options\\\\*\\\\Debugger\", \n",
    "                  \"HKLM\\\\SOFTWARE\\\\Microsoft\\\\Windows NT\\\\CurrentVersion\\\\SilentProcessExit\\\\*\\\\MonitorProcess\", \n",
    "                  \"HKLM\\\\SOFTWARE\\\\WOW6432Node\\\\Microsoft\\\\Windows NT\\\\CurrentVersion\\\\SilentProcessExit\\\\*\\\\MonitorProcess\") and\n",
    "   /* add FPs here */\n",
    " not registry.data.strings regex~ (\"\"\"C:\\\\Program Files( \\(x86\\))?\\\\ThinKiosk\\\\thinkiosk\\.exe\"\"\", \"\"\".*\\\\PSAppDeployToolkit\\\\.*\"\"\")\n",
    "''')"
   ]
  },
  {
   "cell_type": "markdown",
   "id": "42860787",
   "metadata": {},
   "source": [
    "### Modification of AmsiEnable Registry Key"
   ]
  },
  {
   "cell_type": "code",
   "execution_count": null,
   "id": "030c0505",
   "metadata": {},
   "outputs": [
    {
     "name": "stdout",
     "output_type": "stream",
     "text": [
      "Constraints solver not implemented: wildcard"
     ]
    }
   ],
   "source": [
    "emit('''\n",
    "registry where event.type in (\"creation\", \"change\") and\n",
    "  registry.path: \"HKEY_USERS\\\\*\\\\Software\\\\Microsoft\\\\Windows Script\\\\Settings\\\\AmsiEnable\" and\n",
    "  registry.data.strings: \"0\"\n",
    "''')"
   ]
  },
  {
   "cell_type": "markdown",
   "id": "7c29399e",
   "metadata": {},
   "source": [
    "### Modification of WDigest Security Provider"
   ]
  },
  {
   "cell_type": "code",
   "execution_count": null,
   "id": "06253b21",
   "metadata": {},
   "outputs": [
    {
     "name": "stdout",
     "output_type": "stream",
     "text": [
      "Constraints solver not implemented: wildcard"
     ]
    }
   ],
   "source": [
    "emit('''\n",
    "registry where event.type in (\"creation\", \"change\") and\n",
    "  registry.path:\"HKLM\\\\SYSTEM\\\\*ControlSet*\\\\Control\\\\SecurityProviders\\\\WDigest\\\\UseLogonCredential\" and\n",
    "  registry.data.strings:\"1\"\n",
    "''')"
   ]
  },
  {
   "cell_type": "markdown",
   "id": "498f11f2",
   "metadata": {},
   "source": [
    "### Network Logon Provider Registry Modification"
   ]
  },
  {
   "cell_type": "code",
   "execution_count": null,
   "id": "8084967a",
   "metadata": {},
   "outputs": [
    {
     "name": "stdout",
     "output_type": "stream",
     "text": [
      "Constraints solver not implemented: wildcard"
     ]
    }
   ],
   "source": [
    "emit('''\n",
    "registry where registry.data.strings != null and\n",
    " registry.path : \"HKLM\\\\SYSTEM\\\\*ControlSet*\\\\Services\\\\*\\\\NetworkProvider\\\\ProviderPath\" and\n",
    " /* Excluding default NetworkProviders RDPNP, LanmanWorkstation and webclient. */\n",
    " not ( user.id : \"S-1-5-18\" and\n",
    "       registry.data.strings in\n",
    "                (\"%SystemRoot%\\\\System32\\\\ntlanman.dll\",\n",
    "                 \"%SystemRoot%\\\\System32\\\\drprov.dll\",\n",
    "                 \"%SystemRoot%\\\\System32\\\\davclnt.dll\")\n",
    "      )\n",
    "''')"
   ]
  },
  {
   "cell_type": "markdown",
   "id": "df7d2a3f",
   "metadata": {},
   "source": [
    "### NullSessionPipe Registry Modification"
   ]
  },
  {
   "cell_type": "code",
   "execution_count": null,
   "id": "36ea8926",
   "metadata": {},
   "outputs": [
    {
     "name": "stdout",
     "output_type": "stream",
     "text": [
      "Constraints solver not implemented: wildcard"
     ]
    }
   ],
   "source": [
    "emit('''\n",
    "registry where\n",
    "registry.path : \"HKLM\\\\SYSTEM\\\\*ControlSet*\\\\services\\\\LanmanServer\\\\Parameters\\\\NullSessionPipes\" and\n",
    "registry.data.strings != null\n",
    "''')"
   ]
  },
  {
   "cell_type": "markdown",
   "id": "40c5d53f",
   "metadata": {},
   "source": [
    "### Persistence via Login or Logout Hook"
   ]
  },
  {
   "cell_type": "code",
   "execution_count": null,
   "id": "ebad2019",
   "metadata": {},
   "outputs": [
    {
     "name": "stdout",
     "output_type": "stream",
     "text": [
      "Cannot trigger with any document"
     ]
    }
   ],
   "source": [
    "emit('''\n",
    "process where event.type == \"start\" and\n",
    " process.name == \"defaults\" and process.args == \"write\" and process.args in (\"LoginHook\", \"LogoutHook\") and\n",
    " not process.args :\n",
    "       (\n",
    "         \"Support/JAMF/ManagementFrameworkScripts/logouthook.sh\",\n",
    "         \"Support/JAMF/ManagementFrameworkScripts/loginhook.sh\",\n",
    "         \"/Library/Application Support/JAMF/ManagementFrameworkScripts/logouthook.sh\",\n",
    "         \"/Library/Application Support/JAMF/ManagementFrameworkScripts/loginhook.sh\"\n",
    "       )\n",
    "''')"
   ]
  },
  {
   "cell_type": "markdown",
   "id": "8912edbc",
   "metadata": {},
   "source": [
    "### Persistence via WMI Standard Registry Provider"
   ]
  },
  {
   "cell_type": "code",
   "execution_count": null,
   "id": "42eb751d",
   "metadata": {},
   "outputs": [
    {
     "name": "stdout",
     "output_type": "stream",
     "text": [
      "Constraints solver not implemented: wildcard"
     ]
    }
   ],
   "source": [
    "emit('''\n",
    "registry where \n",
    " registry.data.strings != null and process.name : \"WmiPrvSe.exe\" and\n",
    " registry.path : (\n",
    "                  \"HKEY_USERS\\\\*\\\\Software\\\\Microsoft\\\\Windows\\\\CurrentVersion\\\\Run\\\\*\",\n",
    "                  \"HKLM\\\\Software\\\\Microsoft\\\\Windows\\\\CurrentVersion\\\\Run\\\\*\",\n",
    "                  \"HKLM\\\\Software\\\\WOW6432Node\\\\Microsoft\\\\Windows\\\\CurrentVersion\\\\Run\\\\*\",\n",
    "                  \"HKEY_USERS\\\\*\\\\Software\\\\Microsoft\\\\Windows\\\\CurrentVersion\\\\Policies\\\\Explorer\\\\Run\\\\*\",\n",
    "                  \"HKLM\\\\Software\\\\Microsoft\\\\Windows\\\\CurrentVersion\\\\Policies\\\\Explorer\\\\Run\\\\*\",\n",
    "                  \"HKLM\\\\Software\\\\Microsoft\\\\Windows\\\\CurrentVersion\\\\RunOnce\\\\*\",\n",
    "                  \"HKLM\\\\Software\\\\Microsoft\\\\Windows\\\\CurrentVersion\\\\RunOnceEx\\\\*\",\n",
    "                  \"HKEY_USERS\\\\*\\\\Software\\\\Microsoft\\\\Windows\\\\CurrentVersion\\\\RunOnce\\\\*\",\n",
    "                  \"HKEY_USERS\\\\*\\\\Software\\\\Microsoft\\\\Windows\\\\CurrentVersion\\\\RunOnceEx\\\\*\",\n",
    "                  \"HKLM\\\\SYSTEM\\\\*ControlSet*\\\\Services\\\\*\\\\ServiceDLL\",\n",
    "                  \"HKLM\\\\SYSTEM\\\\*ControlSet*\\\\Services\\\\*\\\\ImagePath\",\n",
    "                  \"HKEY_USERS\\\\*\\\\Software\\\\Microsoft\\\\Windows NT\\\\CurrentVersion\\\\Winlogon\\\\Shell\\\\*\", \n",
    "                  \"HKEY_USERS\\\\*\\\\Environment\\\\UserInitMprLogonScript\", \n",
    "                  \"HKEY_USERS\\\\*\\\\SOFTWARE\\\\Microsoft\\\\Windows NT\\\\CurrentVersion\\\\Windows\\\\Load\", \n",
    "                  \"HKEY_USERS\\\\*\\\\SOFTWARE\\\\Microsoft\\\\Windows NT\\\\CurrentVersion\\\\Winlogon\\\\Shell\", \n",
    "                  \"HKEY_USERS\\\\*\\\\SOFTWARE\\\\Microsoft\\\\Windows\\\\CurrentVersion\\\\Policies\\\\System\\\\Shell\", \n",
    "                  \"HKEY_USERS\\\\*\\\\SOFTWARE\\\\Policies\\\\Microsoft\\\\Windows\\\\System\\\\Scripts\\\\Logoff\\\\Script\", \n",
    "                  \"HKEY_USERS\\\\*\\\\SOFTWARE\\\\Policies\\\\Microsoft\\\\Windows\\\\System\\\\Scripts\\\\Logon\\\\Script\", \n",
    "                  \"HKEY_USERS\\\\*\\\\SOFTWARE\\\\Policies\\\\Microsoft\\\\Windows\\\\System\\\\Scripts\\\\Shutdown\\\\Script\", \n",
    "                  \"HKEY_USERS\\\\*\\\\SOFTWARE\\\\Policies\\\\Microsoft\\\\Windows\\\\System\\\\Scripts\\\\Startup\\\\Script\", \n",
    "                  \"HKEY_USERS\\\\*\\\\SOFTWARE\\\\Microsoft\\\\Ctf\\\\LangBarAddin\\\\*\\\\FilePath\", \n",
    "                  \"HKEY_USERS\\\\*\\\\SOFTWARE\\\\Microsoft\\\\Internet Explorer\\\\Extensions\\\\*\\\\Exec\", \n",
    "                  \"HKEY_USERS\\\\*\\\\SOFTWARE\\\\Microsoft\\\\Internet Explorer\\\\Extensions\\\\*\\\\Script\", \n",
    "                  \"HKEY_USERS\\\\*\\\\SOFTWARE\\\\Microsoft\\\\Command Processor\\\\Autorun\"\n",
    "                  )\n",
    "''')"
   ]
  },
  {
   "cell_type": "markdown",
   "id": "f11666d8",
   "metadata": {},
   "source": [
    "### Potential Admin Group Account Addition"
   ]
  },
  {
   "cell_type": "code",
   "execution_count": null,
   "id": "b03b71df",
   "metadata": {},
   "outputs": [
    {
     "name": "stdout",
     "output_type": "stream",
     "text": [
      "Cannot trigger with any document"
     ]
    }
   ],
   "source": [
    "emit('''\n",
    "event.category:process and event.type:(start or process_started) and\n",
    " process.name:(dscl or dseditgroup) and process.args:((\"/Groups/admin\" or admin) and (\"-a\" or \"-append\"))\n",
    "''')"
   ]
  },
  {
   "cell_type": "markdown",
   "id": "7a1630f2",
   "metadata": {},
   "source": [
    "### Potential Hidden Local User Account Creation"
   ]
  },
  {
   "cell_type": "code",
   "execution_count": null,
   "id": "7ae7be9a",
   "metadata": {},
   "outputs": [
    {
     "name": "stdout",
     "output_type": "stream",
     "text": [
      "Cannot trigger with any document"
     ]
    }
   ],
   "source": [
    "emit('''\n",
    "event.category:process and event.type:(start or process_started) and\n",
    " process.name:dscl and process.args:(IsHidden and create and (true or 1 or yes))\n",
    "''')"
   ]
  },
  {
   "cell_type": "markdown",
   "id": "63fe7da0",
   "metadata": {},
   "source": [
    "### Potential Persistence via Time Provider Modification"
   ]
  },
  {
   "cell_type": "code",
   "execution_count": null,
   "id": "53639000",
   "metadata": {},
   "outputs": [
    {
     "name": "stdout",
     "output_type": "stream",
     "text": [
      "Constraints solver not implemented: wildcard"
     ]
    }
   ],
   "source": [
    "emit('''\n",
    "registry where event.type:\"change\" and\n",
    "  registry.path:\"HKLM\\\\SYSTEM\\\\*ControlSet*\\\\Services\\\\W32Time\\\\TimeProviders\\\\*\" and\n",
    "  registry.data.strings:\"*.dll\"\n",
    "''')"
   ]
  },
  {
   "cell_type": "markdown",
   "id": "6dab123e",
   "metadata": {},
   "source": [
    "### Potential Port Monitor or Print Processor Registration Abuse"
   ]
  },
  {
   "cell_type": "code",
   "execution_count": null,
   "id": "91c499ad",
   "metadata": {},
   "outputs": [
    {
     "name": "stdout",
     "output_type": "stream",
     "text": [
      "Constraints solver not implemented: wildcard"
     ]
    }
   ],
   "source": [
    "emit('''\n",
    "registry where event.type in (\"creation\", \"change\") and\n",
    "  registry.path : (\"HKLM\\\\SYSTEM\\\\*ControlSet*\\\\Control\\\\Print\\\\Monitors\\\\*\",\n",
    "    \"HLLM\\\\SYSTEM\\\\*ControlSet*\\\\Control\\\\Print\\\\Environments\\\\Windows*\\\\Print Processors\\\\*\") and\n",
    "  registry.data.strings : \"*.dll\" and\n",
    "  /* exclude SYSTEM SID - look for changes by non-SYSTEM user */\n",
    "  not user.id : \"S-1-5-18\"\n",
    "''')"
   ]
  },
  {
   "cell_type": "markdown",
   "id": "4ee4b9bb",
   "metadata": {},
   "source": [
    "### Potential Privacy Control Bypass via Localhost Secure Copy"
   ]
  },
  {
   "cell_type": "code",
   "execution_count": null,
   "id": "b9ad2af9",
   "metadata": {},
   "outputs": [
    {
     "name": "stdout",
     "output_type": "stream",
     "text": [
      "Constraints solver not implemented: wildcard"
     ]
    }
   ],
   "source": [
    "emit('''\n",
    "process where event.type in (\"start\", \"process_started\") and \n",
    " process.name:\"scp\" and\n",
    " process.args:\"StrictHostKeyChecking=no\" and \n",
    " process.command_line:(\"scp *localhost:/*\", \"scp *127.0.0.1:/*\") and\n",
    " not process.args:\"vagrant@*127.0.0.1*\"\n",
    "''')"
   ]
  },
  {
   "cell_type": "markdown",
   "id": "c1d44ec8",
   "metadata": {},
   "source": [
    "### Potential Process Injection via PowerShell"
   ]
  },
  {
   "cell_type": "code",
   "execution_count": null,
   "id": "c4efa4fa",
   "metadata": {},
   "outputs": [
    {
     "name": "stdout",
     "output_type": "stream",
     "text": [
      "Cannot trigger with any document"
     ]
    }
   ],
   "source": [
    "emit('''\n",
    "event.code:\"4104\" and \n",
    "  powershell.file.script_block_text : (\n",
    "   (VirtualAlloc or VirtualAllocEx or VirtualProtect or LdrLoadDll or LoadLibrary or LoadLibraryA or\n",
    "      LoadLibraryEx or GetProcAddress or OpenProcess or OpenProcessToken or AdjustTokenPrivileges) and\n",
    "   (WriteProcessMemory or CreateRemoteThread or NtCreateThreadEx or CreateThread or QueueUserAPC or\n",
    "      SuspendThread or ResumeThread)\n",
    "  )\n",
    "''')"
   ]
  },
  {
   "cell_type": "markdown",
   "id": "6d8c4e15",
   "metadata": {},
   "source": [
    "### Potential SharpRDP Behavior"
   ]
  },
  {
   "cell_type": "code",
   "execution_count": null,
   "id": "381e3658",
   "metadata": {},
   "outputs": [
    {
     "name": "stdout",
     "output_type": "stream",
     "text": [
      "Constraints solver not implemented: wildcard"
     ]
    }
   ],
   "source": [
    "emit('''\n",
    "/* Incoming RDP followed by a new RunMRU string value set to cmd, powershell, taskmgr or tsclient, followed by process execution within 1m */\n",
    "\n",
    "sequence by host.id with maxspan=1m\n",
    "  [network where event.type == \"start\" and process.name : \"svchost.exe\" and destination.port == 3389 and \n",
    "   network.direction : (\"incoming\", \"ingress\") and network.transport == \"tcp\" and\n",
    "   source.address != \"127.0.0.1\" and source.address != \"::1\"\n",
    "  ]\n",
    "\n",
    "  [registry where process.name : \"explorer.exe\" and \n",
    "   registry.path : (\"HKEY_USERS\\\\*\\\\Software\\\\Microsoft\\\\Windows\\\\CurrentVersion\\\\Explorer\\\\RunMRU\\\\*\") and\n",
    "   registry.data.strings : (\"cmd.exe*\", \"powershell.exe*\", \"taskmgr*\", \"\\\\\\\\tsclient\\\\*.exe\\\\*\")\n",
    "  ]\n",
    "\n",
    "  [process where event.type in (\"start\", \"process_started\") and\n",
    "   (process.parent.name : (\"cmd.exe\", \"powershell.exe\", \"taskmgr.exe\") or process.args : (\"\\\\\\\\tsclient\\\\*.exe\")) and \n",
    "   not process.name : \"conhost.exe\"\n",
    "   ]\n",
    "''')"
   ]
  },
  {
   "cell_type": "markdown",
   "id": "7fab4999",
   "metadata": {},
   "source": [
    "### Privilege Escalation via Windir Environment Variable"
   ]
  },
  {
   "cell_type": "code",
   "execution_count": null,
   "id": "df79ca0b",
   "metadata": {},
   "outputs": [
    {
     "name": "stdout",
     "output_type": "stream",
     "text": [
      "Constraints solver not implemented: wildcard"
     ]
    }
   ],
   "source": [
    "emit('''\n",
    "registry where registry.path : (\"HKEY_USERS\\\\*\\\\Environment\\\\windir\", \"HKEY_USERS\\\\*\\\\Environment\\\\systemroot\") and \n",
    " not registry.data.strings : (\"C:\\\\windows\", \"%SystemRoot%\")\n",
    "''')"
   ]
  },
  {
   "cell_type": "markdown",
   "id": "adc141ab",
   "metadata": {},
   "source": [
    "### Prompt for Credentials with OSASCRIPT"
   ]
  },
  {
   "cell_type": "code",
   "execution_count": null,
   "id": "8ff52812",
   "metadata": {},
   "outputs": [
    {
     "name": "stdout",
     "output_type": "stream",
     "text": [
      "Constraints solver not implemented: wildcard"
     ]
    }
   ],
   "source": [
    "emit('''\n",
    "process where event.type in (\"start\", \"process_started\") and process.name : \"osascript\" and\n",
    " process.command_line : \"osascript*display dialog*password*\"\n",
    "''')"
   ]
  },
  {
   "cell_type": "markdown",
   "id": "097a6230",
   "metadata": {},
   "source": [
    "### RDP Enabled via Registry"
   ]
  },
  {
   "cell_type": "code",
   "execution_count": null,
   "id": "65dff08d",
   "metadata": {},
   "outputs": [
    {
     "name": "stdout",
     "output_type": "stream",
     "text": [
      "Constraints solver not implemented: wildcard"
     ]
    }
   ],
   "source": [
    "emit('''\n",
    "registry where\n",
    "registry.path : \"HKLM\\\\SYSTEM\\\\ControlSet*\\\\Control\\\\Terminal Server\\\\fDenyTSConnections\" and\n",
    "registry.data.strings == \"0\" and not (process.name : \"svchost.exe\" and user.domain == \"NT AUTHORITY\") and\n",
    "not process.executable : \"C:\\\\Windows\\\\System32\\\\SystemPropertiesRemote.exe\"\n",
    "''')"
   ]
  },
  {
   "cell_type": "markdown",
   "id": "b873accc",
   "metadata": {},
   "source": [
    "### SIP Provider Modification"
   ]
  },
  {
   "cell_type": "code",
   "execution_count": null,
   "id": "752cc3f8",
   "metadata": {},
   "outputs": [
    {
     "name": "stdout",
     "output_type": "stream",
     "text": [
      "Constraints solver not implemented: wildcard"
     ]
    }
   ],
   "source": [
    "emit('''\n",
    "registry where event.type:\"change\" and\n",
    "  registry.path: (\n",
    "    \"HKLM\\\\SOFTWARE\\\\Microsoft\\\\Cryptography\\\\OID\\\\EncodingType 0\\\\CryptSIPDllPutSignedDataMsg\\\\{*}\\\\Dll\",\n",
    "    \"HKLM\\\\SOFTWARE\\\\WOW6432Node\\\\Microsoft\\\\Cryptography\\\\OID\\\\EncodingType 0\\\\CryptSIPDllPutSignedDataMsg\\\\{*}\\\\Dll\",\n",
    "    \"HKLM\\\\SOFTWARE\\\\Microsoft\\\\Cryptography\\\\Providers\\\\Trust\\\\FinalPolicy\\\\{*}\\\\$Dll\",\n",
    "    \"HKLM\\\\SOFTWARE\\\\WOW6432Node\\\\Microsoft\\\\Cryptography\\\\Providers\\\\Trust\\\\FinalPolicy\\\\{*}\\\\$Dll\"\n",
    "    ) and\n",
    "  registry.data.strings:\"*.dll\"\n",
    "''')"
   ]
  },
  {
   "cell_type": "markdown",
   "id": "b3813b80",
   "metadata": {},
   "source": [
    "### SUNBURST Command and Control Activity"
   ]
  },
  {
   "cell_type": "code",
   "execution_count": null,
   "id": "5a2e1c96",
   "metadata": {},
   "outputs": [
    {
     "name": "stdout",
     "output_type": "stream",
     "text": [
      "Constraints solver not implemented: wildcard"
     ]
    }
   ],
   "source": [
    "emit('''\n",
    "network where event.type == \"protocol\" and network.protocol == \"http\" and\n",
    "  process.name : (\"ConfigurationWizard.exe\",\n",
    "                  \"NetFlowService.exe\",\n",
    "                  \"NetflowDatabaseMaintenance.exe\",\n",
    "                  \"SolarWinds.Administration.exe\",\n",
    "                  \"SolarWinds.BusinessLayerHost.exe\",\n",
    "                  \"SolarWinds.BusinessLayerHostx64.exe\",\n",
    "                  \"SolarWinds.Collector.Service.exe\",\n",
    "                  \"SolarwindsDiagnostics.exe\") and\n",
    "  (http.request.body.content : \"*/swip/Upload.ashx*\" and http.request.body.content : (\"POST*\", \"PUT*\")) or\n",
    "  (http.request.body.content : (\"*/swip/SystemDescription*\", \"*/swip/Events*\") and http.request.body.content : (\"GET*\", \"HEAD*\")) and\n",
    "  not http.request.body.content : \"*solarwinds.com*\"\n",
    "''')"
   ]
  },
  {
   "cell_type": "markdown",
   "id": "28b81a48",
   "metadata": {},
   "source": [
    "### Scheduled Tasks AT Command Enabled"
   ]
  },
  {
   "cell_type": "code",
   "execution_count": null,
   "id": "95df9d21",
   "metadata": {},
   "outputs": [
    {
     "name": "stdout",
     "output_type": "stream",
     "text": [
      "Constraints solver not implemented: wildcard"
     ]
    }
   ],
   "source": [
    "emit('''\n",
    "registry where \n",
    " registry.path : \"HKLM\\\\SOFTWARE\\\\Microsoft\\\\Windows NT\\\\CurrentVersion\\\\Schedule\\\\Configuration\\\\EnableAt\" and registry.data.strings == \"1\"\n",
    "''')"
   ]
  },
  {
   "cell_type": "markdown",
   "id": "791b6f26",
   "metadata": {},
   "source": [
    "### SoftwareUpdate Preferences Modification"
   ]
  },
  {
   "cell_type": "code",
   "execution_count": null,
   "id": "0ac85bee",
   "metadata": {},
   "outputs": [
    {
     "name": "stdout",
     "output_type": "stream",
     "text": [
      "Cannot trigger with any document"
     ]
    }
   ],
   "source": [
    "emit('''\n",
    "event.category:process and event.type:(start or process_started) and\n",
    " process.name:defaults and \n",
    " process.args:(write and \"-bool\" and (com.apple.SoftwareUpdate or /Library/Preferences/com.apple.SoftwareUpdate.plist) and not (TRUE or true))\n",
    "''')"
   ]
  },
  {
   "cell_type": "markdown",
   "id": "1bc555e7",
   "metadata": {},
   "source": [
    "### SolarWinds Process Disabling Services via Registry"
   ]
  },
  {
   "cell_type": "code",
   "execution_count": null,
   "id": "3534bdd2",
   "metadata": {},
   "outputs": [
    {
     "name": "stdout",
     "output_type": "stream",
     "text": [
      "Constraints solver not implemented: wildcard"
     ]
    }
   ],
   "source": [
    "emit('''\n",
    "registry where registry.path : \"HKLM\\\\SYSTEM\\\\*ControlSet*\\\\Services\\\\*\\\\Start\" and registry.data.strings == \"4\" and\n",
    " process.name : (\n",
    "     \"SolarWinds.BusinessLayerHost*.exe\", \n",
    "     \"ConfigurationWizard*.exe\", \n",
    "     \"NetflowDatabaseMaintenance*.exe\", \n",
    "     \"NetFlowService*.exe\", \n",
    "     \"SolarWinds.Administration*.exe\", \n",
    "     \"SolarWinds.Collector.Service*.exe\" , \n",
    "     \"SolarwindsDiagnostics*.exe\")\n",
    "''')"
   ]
  },
  {
   "cell_type": "markdown",
   "id": "bb8cf355",
   "metadata": {},
   "source": [
    "### Startup or Run Key Registry Modification"
   ]
  },
  {
   "cell_type": "code",
   "execution_count": null,
   "id": "14758e60",
   "metadata": {},
   "outputs": [
    {
     "name": "stdout",
     "output_type": "stream",
     "text": [
      "Constraints solver not implemented: wildcard"
     ]
    }
   ],
   "source": [
    "emit('''\n",
    "registry where registry.data.strings != null and\n",
    " registry.path : (\n",
    "     /* Machine Hive */\n",
    "     \"HKLM\\\\Software\\\\Microsoft\\\\Windows\\\\CurrentVersion\\\\Run\\\\*\", \n",
    "     \"HKLM\\\\Software\\\\Microsoft\\\\Windows\\\\CurrentVersion\\\\RunOnce\\\\*\", \n",
    "     \"HKLM\\\\Software\\\\Microsoft\\\\Windows\\\\CurrentVersion\\\\RunOnceEx\\\\*\",\n",
    "     \"HKLM\\\\Software\\\\Microsoft\\\\Windows\\\\CurrentVersion\\\\Policies\\\\Explorer\\\\Run\\\\*\", \n",
    "     \"HKLM\\\\Software\\\\Microsoft\\\\Windows NT\\\\CurrentVersion\\\\Winlogon\\\\Shell\\\\*\",   \n",
    "     /* Users Hive */\n",
    "     \"HKEY_USERS\\\\*\\\\Software\\\\Microsoft\\\\Windows\\\\CurrentVersion\\\\Run\\\\*\", \n",
    "     \"HKEY_USERS\\\\*\\\\Software\\\\Microsoft\\\\Windows\\\\CurrentVersion\\\\RunOnce\\\\*\", \n",
    "     \"HKEY_USERS\\\\*\\\\Software\\\\Microsoft\\\\Windows\\\\CurrentVersion\\\\RunOnceEx\\\\*\",\n",
    "     \"HKEY_USERS\\\\*\\\\Software\\\\Microsoft\\\\Windows\\\\CurrentVersion\\\\Policies\\\\Explorer\\\\Run\\\\*\", \n",
    "     \"HKEY_USERS\\\\*\\\\Software\\\\Microsoft\\\\Windows NT\\\\CurrentVersion\\\\Winlogon\\\\Shell\\\\*\"\n",
    "     ) and\n",
    "  /* add common legitimate changes without being too restrictive as this is one of the most abused AESPs */\n",
    "  not registry.data.strings : \"ctfmon.exe /n\" and\n",
    "  not (registry.value : \"Application Restart #*\" and process.name : \"csrss.exe\") and\n",
    "  user.id not in (\"S-1-5-18\", \"S-1-5-19\", \"S-1-5-20\") and\n",
    "  not registry.data.strings : (\"?:\\\\Program Files\\\\*.exe\", \"?:\\\\Program Files (x86)\\\\*.exe\") and\n",
    "  not process.executable : (\"?:\\\\Windows\\\\System32\\\\msiexec.exe\", \"?:\\\\Windows\\\\SysWOW64\\\\msiexec.exe\") and\n",
    "  not (process.name : \"OneDriveSetup.exe\" and\n",
    "       registry.value : (\"Delete Cached Standalone Update Binary\", \"Delete Cached Update Binary\", \"amd64\", \"Uninstall *\") and\n",
    "       registry.data.strings : \"?:\\\\Windows\\\\system32\\\\cmd.exe /q /c * \\\"?:\\\\Users\\\\*\\\\AppData\\\\Local\\\\Microsoft\\\\OneDrive\\\\*\\\"\")\n",
    "''')"
   ]
  },
  {
   "cell_type": "markdown",
   "id": "0efaa561",
   "metadata": {},
   "source": [
    "### Suspicious Browser Child Process"
   ]
  },
  {
   "cell_type": "code",
   "execution_count": null,
   "id": "97fa521f",
   "metadata": {},
   "outputs": [
    {
     "name": "stdout",
     "output_type": "stream",
     "text": [
      "Constraints solver not implemented: wildcard"
     ]
    }
   ],
   "source": [
    "emit('''\n",
    "process where event.type in (\"start\", \"process_started\") and\n",
    "  process.parent.name : (\"Google Chrome\", \"Google Chrome Helper*\", \"firefox\", \"Opera\", \"Safari\", \"com.apple.WebKit.WebContent\", \"Microsoft Edge\") and\n",
    "  process.name : (\"sh\", \"bash\", \"dash\", \"ksh\", \"tcsh\", \"zsh\", \"curl\", \"wget\", \"python*\", \"perl*\", \"php*\", \"osascript\", \"pwsh\") and \n",
    "  process.command_line != null and \n",
    "  not process.args : \n",
    "    ( \n",
    "      \"/Library/Application Support/Microsoft/MAU*/Microsoft AutoUpdate.app/Contents/MacOS/msupdate\", \n",
    "      \"hw.model\", \n",
    "      \"IOPlatformExpertDevice\", \n",
    "      \"/Volumes/Google Chrome/Google Chrome.app/Contents/Frameworks/*/Resources/install.sh\",\n",
    "      \"--defaults-torrc\", \n",
    "      \"Chrome.app\", \n",
    "      \"Framework.framework/Versions/*/Resources/keystone_promote_preflight.sh\", \n",
    "      \"/Users/*/Library/Application Support/Google/Chrome/recovery/*/ChromeRecovery\", \n",
    "      \"$DISPLAY\", \n",
    "      \"GIO_LAUNCHED_DESKTOP_FILE_PID=$$\"\n",
    "    )\n",
    "''')"
   ]
  },
  {
   "cell_type": "markdown",
   "id": "7ce5f114",
   "metadata": {},
   "source": [
    "### Suspicious Execution - Short Program Name"
   ]
  },
  {
   "cell_type": "code",
   "execution_count": null,
   "id": "ee8d131a",
   "metadata": {},
   "outputs": [
    {
     "name": "stdout",
     "output_type": "stream",
     "text": [
      "Unsupported LHS type: <class 'eql.ast.FunctionCall'>"
     ]
    }
   ],
   "source": [
    "emit('''\n",
    "process where event.type in (\"start\", \"process_started\") and length(process.name) > 0 and\n",
    " length(process.name) == 5 and host.os.name == \"Windows\" and length(process.pe.original_file_name) > 5\n",
    "''')"
   ]
  },
  {
   "cell_type": "markdown",
   "id": "ab6b1ed9",
   "metadata": {},
   "source": [
    "### Suspicious ImagePath Service Creation"
   ]
  },
  {
   "cell_type": "code",
   "execution_count": null,
   "id": "ab04c48b",
   "metadata": {},
   "outputs": [
    {
     "name": "stdout",
     "output_type": "stream",
     "text": [
      "Constraints solver not implemented: wildcard"
     ]
    }
   ],
   "source": [
    "emit('''\n",
    "registry where registry.path : \"HKLM\\\\SYSTEM\\\\ControlSet*\\\\Services\\\\*\\\\ImagePath\" and\n",
    " /* add suspicious registry ImagePath values here */\n",
    " registry.data.strings : (\"%COMSPEC%*\", \"*\\\\.\\\\pipe\\\\*\")\n",
    "''')"
   ]
  },
  {
   "cell_type": "markdown",
   "id": "805b6e48",
   "metadata": {},
   "source": [
    "### Suspicious PowerShell Engine ImageLoad"
   ]
  },
  {
   "cell_type": "code",
   "execution_count": null,
   "id": "8f0b219f",
   "metadata": {},
   "outputs": [
    {
     "name": "stdout",
     "output_type": "stream",
     "text": [
      "Unsupported function: match"
     ]
    }
   ],
   "source": [
    "emit('''\n",
    "library where dll.name : (\"System.Management.Automation.ni.dll\", \"System.Management.Automation.dll\") and\n",
    "/* add false positives relevant to your environment here */\n",
    "not process.executable : (\"C:\\\\Windows\\\\System32\\\\RemoteFXvGPUDisablement.exe\", \"C:\\\\Windows\\\\System32\\\\sdiagnhost.exe\") and\n",
    "not process.executable regex~ \"\"\"C:\\\\Program Files( \\(x86\\))?\\\\*\\.exe\"\"\" and\n",
    "  not process.name :\n",
    "  (\n",
    "    \"Altaro.SubAgent.exe\",\n",
    "    \"AppV_Manage.exe\",\n",
    "    \"azureadconnect.exe\",\n",
    "    \"CcmExec.exe\",\n",
    "    \"configsyncrun.exe\",\n",
    "    \"choco.exe\",\n",
    "    \"ctxappvservice.exe\",\n",
    "    \"DVLS.Console.exe\",\n",
    "    \"edgetransport.exe\",\n",
    "    \"exsetup.exe\",\n",
    "    \"forefrontactivedirectoryconnector.exe\",\n",
    "    \"InstallUtil.exe\",\n",
    "    \"JenkinsOnDesktop.exe\",\n",
    "    \"Microsoft.EnterpriseManagement.ServiceManager.UI.Console.exe\",\n",
    "    \"mmc.exe\",\n",
    "    \"mscorsvw.exe\",\n",
    "    \"msexchangedelivery.exe\",\n",
    "    \"msexchangefrontendtransport.exe\",\n",
    "    \"msexchangehmworker.exe\",\n",
    "    \"msexchangesubmission.exe\",\n",
    "    \"msiexec.exe\",\n",
    "    \"MsiExec.exe\",\n",
    "    \"noderunner.exe\",\n",
    "    \"NServiceBus.Host.exe\",\n",
    "    \"NServiceBus.Host32.exe\",\n",
    "    \"NServiceBus.Hosting.Azure.HostProcess.exe\",\n",
    "    \"OuiGui.WPF.exe\",\n",
    "    \"powershell.exe\",\n",
    "    \"powershell_ise.exe\",\n",
    "    \"pwsh.exe\",\n",
    "    \"SCCMCliCtrWPF.exe\",\n",
    "    \"ScriptEditor.exe\",\n",
    "    \"ScriptRunner.exe\",\n",
    "    \"sdiagnhost.exe\",\n",
    "    \"servermanager.exe\",\n",
    "    \"setup100.exe\",\n",
    "    \"ServiceHub.VSDetouredHost.exe\",\n",
    "    \"SPCAF.Client.exe\",\n",
    "    \"SPCAF.SettingsEditor.exe\",\n",
    "    \"SQLPS.exe\",\n",
    "    \"telemetryservice.exe\",\n",
    "    \"UMWorkerProcess.exe\",\n",
    "    \"w3wp.exe\",\n",
    "    \"wsmprovhost.exe\"\n",
    "  )\n",
    "''')"
   ]
  },
  {
   "cell_type": "markdown",
   "id": "72d9ad78",
   "metadata": {},
   "source": [
    "### Suspicious Print Spooler Point and Print DLL"
   ]
  },
  {
   "cell_type": "code",
   "execution_count": null,
   "id": "4f7aba4f",
   "metadata": {},
   "outputs": [
    {
     "name": "stdout",
     "output_type": "stream",
     "text": [
      "Constraints solver not implemented: wildcard"
     ]
    }
   ],
   "source": [
    "emit('''\n",
    "sequence by host.id with maxspan=30s\n",
    "[registry where\n",
    " registry.path : \"HKLM\\\\SOFTWARE\\\\Microsoft\\\\Windows NT\\\\CurrentVersion\\\\Print\\\\Printers\\\\*\\\\SpoolDirectory\" and\n",
    " registry.data.strings : \"C:\\\\Windows\\\\System32\\\\spool\\\\drivers\\\\x64\\\\4\"]\n",
    "[registry where\n",
    " registry.path : \"HKLM\\\\SOFTWARE\\\\Microsoft\\\\Windows NT\\\\CurrentVersion\\\\Print\\\\Printers\\\\*\\\\CopyFiles\\\\Payload\\\\Module\" and\n",
    " registry.data.strings : \"C:\\\\Windows\\\\System32\\\\spool\\\\drivers\\\\x64\\\\4\\\\*\"]\n",
    "''')"
   ]
  },
  {
   "cell_type": "markdown",
   "id": "3599f582",
   "metadata": {},
   "source": [
    "### Suspicious Process Access via Direct System Call"
   ]
  },
  {
   "cell_type": "code",
   "execution_count": null,
   "id": "f82c9e35",
   "metadata": {},
   "outputs": [
    {
     "name": "stdout",
     "output_type": "stream",
     "text": [
      "Unsupported LHS type: <class 'eql.ast.FunctionCall'>"
     ]
    }
   ],
   "source": [
    "emit('''\n",
    "process where event.code == \"10\" and\n",
    " length(winlog.event_data.CallTrace) > 0 and\n",
    "\n",
    " /* Sysmon CallTrace starting with unknown memory module instead of ntdll which host Windows NT Syscalls */\n",
    " not winlog.event_data.CallTrace : (\"?:\\\\WINDOWS\\\\SYSTEM32\\\\ntdll.dll*\", \"?:\\\\WINDOWS\\\\SysWOW64\\\\ntdll.dll*\")\n",
    "''')"
   ]
  },
  {
   "cell_type": "markdown",
   "id": "38ab687d",
   "metadata": {},
   "source": [
    "### Suspicious Startup Shell Folder Modification"
   ]
  },
  {
   "cell_type": "code",
   "execution_count": null,
   "id": "1cdecce2",
   "metadata": {},
   "outputs": [
    {
     "name": "stdout",
     "output_type": "stream",
     "text": [
      "Constraints solver not implemented: wildcard"
     ]
    }
   ],
   "source": [
    "emit('''\n",
    "registry where\n",
    " registry.path : (\n",
    "     \"HKLM\\\\Software\\\\Microsoft\\\\Windows\\\\CurrentVersion\\\\Explorer\\\\User Shell Folders\\\\Common Startup\",\n",
    "     \"HKLM\\\\Software\\\\Microsoft\\\\Windows\\\\CurrentVersion\\\\Explorer\\\\Shell Folders\\\\Common Startup\",\n",
    "     \"HKEY_USERS\\\\*\\\\Software\\\\Microsoft\\\\Windows\\\\CurrentVersion\\\\Explorer\\\\User Shell Folders\\\\Startup\",\n",
    "     \"HKEY_USERS\\\\*\\\\Software\\\\Microsoft\\\\Windows\\\\CurrentVersion\\\\Explorer\\\\Shell Folders\\\\Startup\"\n",
    "     ) and\n",
    "  registry.data.strings != null and\n",
    "  /* Normal Startup Folder Paths */\n",
    "  not registry.data.strings : (\n",
    "           \"C:\\\\ProgramData\\\\Microsoft\\\\Windows\\\\Start Menu\\\\Programs\\\\Startup\",\n",
    "           \"%ProgramData%\\\\Microsoft\\\\Windows\\\\Start Menu\\\\Programs\\\\Startup\",\n",
    "           \"%USERPROFILE%\\\\AppData\\\\Roaming\\\\Microsoft\\\\Windows\\\\Start Menu\\\\Programs\\\\Startup\",\n",
    "           \"C:\\\\Users\\\\*\\\\AppData\\\\Roaming\\\\Microsoft\\\\Windows\\\\Start Menu\\\\Programs\\\\Startup\"\n",
    "           )\n",
    "''')"
   ]
  },
  {
   "cell_type": "markdown",
   "id": "bea6c4a7",
   "metadata": {},
   "source": [
    "### Suspicious WMIC XSL Script Execution"
   ]
  },
  {
   "cell_type": "code",
   "execution_count": null,
   "id": "d6bd1c98",
   "metadata": {},
   "outputs": [
    {
     "name": "stdout",
     "output_type": "stream",
     "text": [
      "Constraints solver not implemented: wildcard"
     ]
    }
   ],
   "source": [
    "emit('''\n",
    "sequence by process.entity_id with maxspan = 2m\n",
    "[process where event.type in (\"start\", \"process_started\") and\n",
    "   (process.name : \"WMIC.exe\" or process.pe.original_file_name : \"wmic.exe\") and\n",
    "   process.args : (\"format*:*\", \"/format*:*\", \"*-format*:*\") and\n",
    "   not process.command_line : \"* /format:table *\"]\n",
    "[library where event.type == \"start\" and dll.name : (\"jscript.dll\", \"vbscript.dll\")]\n",
    "''')"
   ]
  },
  {
   "cell_type": "markdown",
   "id": "888928ba",
   "metadata": {},
   "source": [
    "### Uncommon Registry Persistence Change"
   ]
  },
  {
   "cell_type": "code",
   "execution_count": null,
   "id": "5093d4b1",
   "metadata": {},
   "outputs": [
    {
     "name": "stdout",
     "output_type": "stream",
     "text": [
      "Constraints solver not implemented: wildcard"
     ]
    }
   ],
   "source": [
    "emit('''\n",
    "registry where\n",
    "  /* uncomment once stable length(registry.data.strings) > 0 and */\n",
    " registry.path : (\n",
    "      \"HKLM\\\\SOFTWARE\\\\Microsoft\\\\Windows NT\\\\CurrentVersion\\\\Terminal Server\\\\Install\\\\SOFTWARE\\\\Microsoft\\\\Windows\\\\CurrentVersion\\\\Run\\\\*\",\n",
    "      \"HKLM\\\\SOFTWARE\\\\Microsoft\\\\Windows NT\\\\CurrentVersion\\\\Terminal Server\\\\Install\\\\SOFTWARE\\\\Microsoft\\\\Windows\\\\CurrentVersion\\\\Runonce\\\\*\",\n",
    "      \"HKEY_USERS\\\\*\\\\SOFTWARE\\\\Microsoft\\\\Windows NT\\\\CurrentVersion\\\\Windows\\\\Load\",\n",
    "      \"HKEY_USERS\\\\*\\\\SOFTWARE\\\\Microsoft\\\\Windows NT\\\\CurrentVersion\\\\Windows\\\\Run\",\n",
    "      \"HKLM\\\\SOFTWARE\\\\Microsoft\\\\Windows NT\\\\CurrentVersion\\\\Windows\\\\IconServiceLib\",\n",
    "      \"HKLM\\\\SOFTWARE\\\\Microsoft\\\\Windows NT\\\\CurrentVersion\\\\Winlogon\\\\Shell\",\n",
    "      \"HKEY_USERS\\\\*\\\\SOFTWARE\\\\Microsoft\\\\Windows NT\\\\CurrentVersion\\\\Winlogon\\\\Shell\",\n",
    "      \"HKLM\\\\SOFTWARE\\\\Microsoft\\\\Windows NT\\\\CurrentVersion\\\\Winlogon\\\\AppSetup\",\n",
    "      \"HKLM\\\\SOFTWARE\\\\Microsoft\\\\Windows NT\\\\CurrentVersion\\\\Winlogon\\\\Taskman\",\n",
    "      \"HKLM\\\\SOFTWARE\\\\Microsoft\\\\Windows NT\\\\CurrentVersion\\\\Winlogon\\\\Userinit\",\n",
    "      \"HKLM\\\\SOFTWARE\\\\Microsoft\\\\Windows NT\\\\CurrentVersion\\\\Winlogon\\\\VmApplet\",\n",
    "      \"HKLM\\\\SOFTWARE\\\\Microsoft\\\\Windows\\\\CurrentVersion\\\\Policies\\\\Explorer\\\\Run\\\\*\",\n",
    "      \"HKLM\\\\SOFTWARE\\\\Microsoft\\\\Windows\\\\CurrentVersion\\\\Policies\\\\System\\\\Shell\",\n",
    "      \"HKLM\\\\SOFTWARE\\\\Policies\\\\Microsoft\\\\Windows\\\\System\\\\Scripts\\\\Logoff\\\\Script\",\n",
    "      \"HKLM\\\\SOFTWARE\\\\Policies\\\\Microsoft\\\\Windows\\\\System\\\\Scripts\\\\Logon\\\\Script\",\n",
    "      \"HKLM\\\\SOFTWARE\\\\Policies\\\\Microsoft\\\\Windows\\\\System\\\\Scripts\\\\Shutdown\\\\Script\",\n",
    "      \"HKLM\\\\SOFTWARE\\\\Policies\\\\Microsoft\\\\Windows\\\\System\\\\Scripts\\\\Startup\\\\Script\",\n",
    "      \"HKEY_USERS\\\\*\\\\SOFTWARE\\\\Microsoft\\\\Windows\\\\CurrentVersion\\\\Policies\\\\Explorer\\\\Run\\\\*\",\n",
    "      \"HKEY_USERS\\\\*\\\\SOFTWARE\\\\Microsoft\\\\Windows\\\\CurrentVersion\\\\Policies\\\\System\\\\Shell\",\n",
    "      \"HKEY_USERS\\\\*\\\\SOFTWARE\\\\Policies\\\\Microsoft\\\\Windows\\\\System\\\\Scripts\\\\Logoff\\\\Script\",\n",
    "      \"HKEY_USERS\\\\*\\\\SOFTWARE\\\\Policies\\\\Microsoft\\\\Windows\\\\System\\\\Scripts\\\\Logon\\\\Script\",\n",
    "      \"HKEY_USERS\\\\*\\\\SOFTWARE\\\\Policies\\\\Microsoft\\\\Windows\\\\System\\\\Scripts\\\\Shutdown\\\\Script\",\n",
    "      \"HKEY_USERS\\\\*\\\\SOFTWARE\\\\Policies\\\\Microsoft\\\\Windows\\\\System\\\\Scripts\\\\Startup\\\\Script\",\n",
    "      \"HKLM\\\\SOFTWARE\\\\Microsoft\\\\Active Setup\\\\Installed Components\\\\*\\\\ShellComponent\",\n",
    "      \"HKLM\\\\SOFTWARE\\\\Microsoft\\\\Windows CE Services\\\\AutoStartOnConnect\\\\MicrosoftActiveSync\",\n",
    "      \"HKLM\\\\SOFTWARE\\\\Microsoft\\\\Windows CE Services\\\\AutoStartOnDisconnect\\\\MicrosoftActiveSync\",\n",
    "      \"HKLM\\\\SOFTWARE\\\\Microsoft\\\\Ctf\\\\LangBarAddin\\\\*\\\\FilePath\",\n",
    "      \"HKLM\\\\SOFTWARE\\\\Microsoft\\\\Internet Explorer\\\\Extensions\\\\*\\\\Exec\",\n",
    "      \"HKLM\\\\SOFTWARE\\\\Microsoft\\\\Internet Explorer\\\\Extensions\\\\*\\\\Script\",\n",
    "      \"HKLM\\\\SOFTWARE\\\\Microsoft\\\\Command Processor\\\\Autorun\",\n",
    "      \"HKEY_USERS\\\\*\\\\SOFTWARE\\\\Microsoft\\\\Ctf\\\\LangBarAddin\\\\*\\\\FilePath\",\n",
    "      \"HKEY_USERS\\\\*\\\\SOFTWARE\\\\Microsoft\\\\Internet Explorer\\\\Extensions\\\\*\\\\Exec\",\n",
    "      \"HKEY_USERS\\\\*\\\\SOFTWARE\\\\Microsoft\\\\Internet Explorer\\\\Extensions\\\\*\\\\Script\",\n",
    "      \"HKEY_USERS\\\\*\\\\SOFTWARE\\\\Microsoft\\\\Command Processor\\\\Autorun\",\n",
    "      \"HKLM\\\\SOFTWARE\\\\Microsoft\\\\Windows NT\\\\CurrentVersion\\\\Image File Execution Options\\\\*\\\\VerifierDlls\",\n",
    "      \"HKLM\\\\SOFTWARE\\\\Microsoft\\\\Windows NT\\\\CurrentVersion\\\\Winlogon\\\\GpExtensions\\\\*\\\\DllName\",\n",
    "      \"HKLM\\\\SYSTEM\\\\ControlSet*\\\\Control\\\\SafeBoot\\\\AlternateShell\",\n",
    "      \"HKLM\\\\SYSTEM\\\\ControlSet*\\\\Control\\\\Terminal Server\\\\Wds\\\\rdpwd\\\\StartupPrograms\",\n",
    "      \"HKLM\\\\SYSTEM\\\\ControlSet*\\\\Control\\\\Terminal Server\\\\WinStations\\\\RDP-Tcp\\\\InitialProgram\",\n",
    "      \"HKLM\\\\SYSTEM\\\\ControlSet*\\\\Control\\\\Session Manager\\\\BootExecute\",\n",
    "      \"HKLM\\\\SYSTEM\\\\ControlSet*\\\\Control\\\\Session Manager\\\\SetupExecute\",\n",
    "      \"HKLM\\\\SYSTEM\\\\ControlSet*\\\\Control\\\\Session Manager\\\\Execute\",\n",
    "      \"HKLM\\\\SYSTEM\\\\ControlSet*\\\\Control\\\\Session Manager\\\\S0InitialCommand\",\n",
    "      \"HKLM\\\\SYSTEM\\\\ControlSet*\\\\Control\\\\ServiceControlManagerExtension\",\n",
    "      \"HKLM\\\\SYSTEM\\\\ControlSet*\\\\Control\\\\BootVerificationProgram\\\\ImagePath\",\n",
    "      \"HKLM\\\\SYSTEM\\\\Setup\\\\CmdLine\",\n",
    "      \"HKEY_USERS\\\\*\\\\Environment\\\\UserInitMprLogonScript\") and\n",
    "\n",
    " not registry.data.strings : (\"C:\\\\Windows\\\\system32\\\\userinit.exe\", \"cmd.exe\", \"C:\\\\Program Files (x86)\\\\*.exe\",\n",
    "                              \"C:\\\\Program Files\\\\*.exe\") and\n",
    " not (process.name : \"rundll32.exe\" and registry.path : \"*\\\\Software\\\\Microsoft\\\\Internet Explorer\\\\Extensions\\\\*\\\\Script\") and\n",
    " not process.executable : (\"C:\\\\Windows\\\\System32\\\\msiexec.exe\",\n",
    "                           \"C:\\\\Windows\\\\SysWOW64\\\\msiexec.exe\",\n",
    "                           \"C:\\\\ProgramData\\\\Microsoft\\\\Windows Defender\\\\Platform\\\\*\\\\MsMpEng.exe\",\n",
    "                           \"C:\\\\Program Files\\\\*.exe\",\n",
    "                           \"C:\\\\Program Files (x86)\\\\*.exe\")\n",
    "''')"
   ]
  },
  {
   "cell_type": "markdown",
   "id": "2f0ef5c5",
   "metadata": {},
   "source": [
    "### Unusual Persistence via Services Registry"
   ]
  },
  {
   "cell_type": "code",
   "execution_count": null,
   "id": "4c4d0763",
   "metadata": {},
   "outputs": [
    {
     "name": "stdout",
     "output_type": "stream",
     "text": [
      "Constraints solver not implemented: wildcard"
     ]
    }
   ],
   "source": [
    "emit('''\n",
    "registry where registry.path : (\"HKLM\\\\SYSTEM\\\\ControlSet*\\\\Services\\\\*\\\\ServiceDLL\", \"HKLM\\\\SYSTEM\\\\ControlSet*\\\\Services\\\\*\\\\ImagePath\") and\n",
    "  not registry.data.strings : (\"?:\\\\windows\\\\system32\\\\Drivers\\\\*.sys\",\n",
    "                               \"\\\\SystemRoot\\\\System32\\\\drivers\\\\*.sys\",\n",
    "                               \"\\\\??\\\\?:\\\\Windows\\\\system32\\\\Drivers\\\\*.SYS\",\n",
    "                               \"system32\\\\DRIVERS\\\\USBSTOR\") and\n",
    "  not (process.name : \"procexp??.exe\" and registry.data.strings : \"?:\\\\*\\\\procexp*.sys\") and\n",
    "  not process.executable : (\"?:\\\\Program Files\\\\*.exe\",\n",
    "                            \"?:\\\\Program Files (x86)\\\\*.exe\",\n",
    "                            \"?:\\\\Windows\\\\System32\\\\svchost.exe\",\n",
    "                            \"?:\\\\Windows\\\\winsxs\\\\*\\\\TiWorker.exe\",\n",
    "                            \"?:\\\\Windows\\\\System32\\\\drvinst.exe\",\n",
    "                            \"?:\\\\Windows\\\\System32\\\\services.exe\",\n",
    "                            \"?:\\\\Windows\\\\System32\\\\msiexec.exe\",\n",
    "                            \"?:\\\\Windows\\\\System32\\\\regsvr32.exe\")\n",
    "''')"
   ]
  },
  {
   "cell_type": "markdown",
   "id": "75f89194",
   "metadata": {},
   "source": [
    "### Unusual Print Spooler Child Process"
   ]
  },
  {
   "cell_type": "code",
   "execution_count": null,
   "id": "b4e19771",
   "metadata": {},
   "outputs": [
    {
     "name": "stdout",
     "output_type": "stream",
     "text": [
      "Constraints solver not implemented: wildcard"
     ]
    }
   ],
   "source": [
    "emit('''\n",
    "process where event.type == \"start\" and\n",
    " process.parent.name : \"spoolsv.exe\" and user.id : \"S-1-5-18\" and\n",
    "\n",
    " /* exclusions for FP control below */\n",
    " not process.name : (\"splwow64.exe\", \"PDFCreator.exe\", \"acrodist.exe\", \"spoolsv.exe\", \"msiexec.exe\", \"route.exe\", \"WerFault.exe\") and\n",
    " not process.command_line : \"*\\\\WINDOWS\\\\system32\\\\spool\\\\DRIVERS*\" and\n",
    " not (process.name : \"net.exe\" and process.command_line : (\"*stop*\", \"*start*\")) and\n",
    " not (process.name : (\"cmd.exe\", \"powershell.exe\") and process.command_line : (\"*.spl*\", \"*\\\\program files*\", \"*route add*\")) and\n",
    " not (process.name : \"netsh.exe\" and process.command_line : (\"*add portopening*\", \"*rule name*\")) and\n",
    " not (process.name : \"regsvr32.exe\" and process.command_line : \"*PrintConfig.dll*\")\n",
    "''')"
   ]
  },
  {
   "cell_type": "markdown",
   "id": "245af741",
   "metadata": {},
   "source": [
    "### Web Application Suspicious Activity: No User Agent"
   ]
  },
  {
   "cell_type": "code",
   "execution_count": null,
   "id": "c75ee5f9",
   "metadata": {},
   "outputs": [
    {
     "name": "stdout",
     "output_type": "stream",
     "text": [
      "Constraints solver not implemented: wildcard"
     ]
    }
   ],
   "source": [
    "emit('''\n",
    "url.path:*\n",
    "''')"
   ]
  },
  {
   "cell_type": "markdown",
   "id": "1c8b6ee6",
   "metadata": {},
   "source": [
    "### Whitespace Padding in Process Command Line"
   ]
  },
  {
   "cell_type": "code",
   "execution_count": null,
   "id": "dbd66370",
   "metadata": {},
   "outputs": [
    {
     "name": "stdout",
     "output_type": "stream",
     "text": [
      "Unsupported function: match"
     ]
    }
   ],
   "source": [
    "emit('''\n",
    "process where event.type in (\"start\", \"process_started\") and\n",
    "  process.command_line regex \".*[ ]{20,}.*\" or \n",
    "\n",
    "  /* this will match on 3 or more separate occurrences of 5+ contiguous whitespace characters */\n",
    "  process.command_line regex \".*(.*[ ]{5,}[^ ]*){3,}.*\"\n",
    "''')"
   ]
  },
  {
   "cell_type": "markdown",
   "id": "d14ed1e9",
   "metadata": {},
   "source": [
    "### Windows CryptoAPI Spoofing Vulnerability (CVE-2020-0601 - CurveBall)"
   ]
  },
  {
   "cell_type": "code",
   "execution_count": null,
   "id": "bcfcf143",
   "metadata": {},
   "outputs": [
    {
     "name": "stdout",
     "output_type": "stream",
     "text": [
      "Constraints solver not implemented: match_only_text"
     ]
    }
   ],
   "source": [
    "emit('''\n",
    "event.provider:\"Microsoft-Windows-Audit-CVE\" and message:\"[CVE-2020-0601]\"\n",
    "''')"
   ]
  },
  {
   "cell_type": "markdown",
   "id": "dbdeb4f9",
   "metadata": {},
   "source": [
    "### Windows Defender Disabled via Registry Modification"
   ]
  },
  {
   "cell_type": "code",
   "execution_count": null,
   "id": "bda93496",
   "metadata": {},
   "outputs": [
    {
     "name": "stdout",
     "output_type": "stream",
     "text": [
      "Constraints solver not implemented: wildcard"
     ]
    }
   ],
   "source": [
    "emit('''\n",
    "registry where event.type in (\"creation\", \"change\") and\n",
    "  ((registry.path:\"HKLM\\\\SOFTWARE\\\\Policies\\\\Microsoft\\\\Windows Defender\\\\DisableAntiSpyware\" and\n",
    "     registry.data.strings:\"1\") or\n",
    "  (registry.path:\"HKLM\\\\System\\\\ControlSet*\\\\Services\\\\WinDefend\\\\Start\" and\n",
    "     registry.data.strings in (\"3\", \"4\")))\n",
    "''')"
   ]
  },
  {
   "cell_type": "markdown",
   "id": "d5b7e5a8",
   "metadata": {},
   "source": [
    "## Failed rules"
   ]
  },
  {
   "cell_type": "markdown",
   "id": "fd3cbf32",
   "metadata": {},
   "source": [
    "### Account Password Reset Remotely"
   ]
  },
  {
   "cell_type": "code",
   "execution_count": null,
   "id": "e90598e0",
   "metadata": {},
   "outputs": [
    {
     "data": {
      "text/plain": [
       "[{'event': {'action': 'logged-in', 'outcome': 'success', 'category': ['authentication']}, 'winlog': {'logon': {'type': 'Network'}, 'event_data': {'TargetLogonId': 'yFj'}}, 'source': {'ip': 'aa79:ec58:8d14:2981:f18d:f2a6:6b1f:4182'}, 'host': {'id': 'fUy'}, '@timestamp': 0, 'ecs': {'version': '1.12.1'}},\n",
       "{'event': {'action': 'reset-password', 'category': ['iam']}, '@timestamp': 1, 'ecs': {'version': '1.12.1'}, 'host': {'id': 'fUy'}, 'winlog': {'event_data': {'SubjectLogonId': 'yFj'}}}]"
      ]
     },
     "execution_count": null,
     "metadata": {},
     "output_type": "execute_result"
    }
   ],
   "source": [
    "emit('''\n",
    "sequence by host.id with maxspan=5m\n",
    "  [authentication where event.action == \"logged-in\" and\n",
    "    /* event 4624 need to be logged */\n",
    "    winlog.logon.type : \"Network\" and event.outcome == \"success\" and source.ip != null and\n",
    "    not source.ip in (\"127.0.0.1\", \"::1\")] by winlog.event_data.TargetLogonId\n",
    "   /* event 4724 need to be logged */\n",
    "  [iam where event.action == \"reset-password\"] by winlog.event_data.SubjectLogonId\n",
    "''')"
   ]
  },
  {
   "cell_type": "markdown",
   "id": "811511c0",
   "metadata": {},
   "source": [
    "SDE says:\n",
    "> An error occurred during rule execution: message: \"verification_exception: [verification_exception] Reason: Found 1 problem\n",
    "line 5:9: 1st argument of [source.ip in (\"127.0.0.1\", \"::1\")] must be [ip], found value [\"127.0.0.1\"] type [keyword]\" name: \"Account Password Reset Remotely\" id: \"<i>&lt;redacted&gt;</i>\" rule id: \"2820c9c2-bcd7-4d6e-9eba-faf3891ba450\" signals index: \".siem-signals-default\""
   ]
  },
  {
   "cell_type": "markdown",
   "id": "261e5ce8",
   "metadata": {},
   "source": [
    "### Apple Scripting Execution with Administrator Privileges"
   ]
  },
  {
   "cell_type": "code",
   "execution_count": null,
   "id": "4ae577f4",
   "metadata": {},
   "outputs": [
    {
     "data": {
      "text/plain": [
       "[]"
      ]
     },
     "execution_count": null,
     "metadata": {},
     "output_type": "execute_result"
    }
   ],
   "source": [
    "emit('''\n",
    "process where event.type in (\"start\", \"process_started\") and process.name : \"osascript\" and\n",
    "  process.command_line : \"osascript*with administrator privileges\"\n",
    "''')"
   ]
  },
  {
   "cell_type": "markdown",
   "id": "02fd1eb4",
   "metadata": {},
   "source": [
    "SDE says:\n",
    "> An error occurred during rule execution: message: \"index_not_found_exception: [verification_exception] Reason: Found 1 problem\n",
    "line -1:-1: Unknown index [*,-*]\" name: \"Apple Scripting Execution with Administrator Privileges\" id: \"<i>&lt;redacted&gt;</i>\" rule id: \"827f8d8f-4117-4ae4-b551-f56d54b9da6b\" signals index: \".siem-signals-default\""
   ]
  },
  {
   "cell_type": "markdown",
   "id": "cc6b8acc",
   "metadata": {},
   "source": [
    "### Attempt to Mount SMB Share via Command Line"
   ]
  },
  {
   "cell_type": "code",
   "execution_count": null,
   "id": "311dc8ac",
   "metadata": {},
   "outputs": [
    {
     "data": {
      "text/plain": [
       "[{'event': {'type': ['start'], 'category': ['process']}, 'process': {'name': 'mount_smbfs'}, '@timestamp': 0, 'ecs': {'version': '1.12.1'}}]"
      ]
     },
     "execution_count": null,
     "metadata": {},
     "output_type": "execute_result"
    }
   ],
   "source": [
    "emit('''\n",
    "process where event.type in (\"start\", \"process_started\") and\n",
    "  (\n",
    "    process.name : \"mount_smbfs\" or\n",
    "    (process.name : \"open\" and process.args : \"smb://*\") or\n",
    "    (process.name : \"mount\" and process.args : \"smbfs\") or\n",
    "    (process.name : \"osascript\" and process.command_line : \"osascript*mount volume*smb://*\")\n",
    "  )\n",
    "''')"
   ]
  },
  {
   "cell_type": "markdown",
   "id": "473fca92",
   "metadata": {},
   "source": [
    "SDE says:\n",
    "> An error occurred during rule execution: message: \"verification_exception: [verification_exception] Reason: Found 1 problem\n",
    "line 6:37: Unknown column [process.command_line], did you mean any of [process.working_directory, process.entity_id, process.executable, process.name, process.parent.name, process.parent.pid]?\" name: \"Attempt to Mount SMB Share via Command Line\" id: \"<i>&lt;redacted&gt;</i>\" rule id: \"661545b4-1a90-4f45-85ce-2ebd7c6a15d0\" signals index: \".siem-signals-default\""
   ]
  },
  {
   "cell_type": "markdown",
   "id": "388ea500",
   "metadata": {},
   "source": [
    "### Attempt to Remove File Quarantine Attribute"
   ]
  },
  {
   "cell_type": "code",
   "execution_count": null,
   "id": "3e34c7a7",
   "metadata": {},
   "outputs": [
    {
     "data": {
      "text/plain": [
       "[{'event': {'type': ['start'], 'category': ['process']}, 'process': {'args': ['xattr', 'com.apple.quarantine', '-d', '-w']}, '@timestamp': 0, 'ecs': {'version': '1.12.1'}}]"
      ]
     },
     "execution_count": null,
     "metadata": {},
     "output_type": "execute_result"
    }
   ],
   "source": [
    "emit('''\n",
    "process where event.type in (\"start\", \"process_started\") and\n",
    "  process.args : \"xattr\" and\n",
    "  (\n",
    "    (process.args : \"com.apple.quarantine\" and process.args : (\"-d\", \"-w\")) or\n",
    "    (process.args : \"-c\" and process.command_line :\n",
    "      (\n",
    "        \"/bin/bash -c xattr -c *\",\n",
    "        \"/bin/zsh -c xattr -c *\",\n",
    "        \"/bin/sh -c xattr -c *\"\n",
    "      )\n",
    "    )\n",
    "  )\n",
    "''')"
   ]
  },
  {
   "cell_type": "markdown",
   "id": "014529d6",
   "metadata": {},
   "source": [
    "SDE says:\n",
    "> An error occurred during rule execution: message: \"verification_exception: [verification_exception] Reason: Found 1 problem\n",
    "line 5:30: Unknown column [process.command_line], did you mean any of [process.working_directory, process.entity_id, process.executable, process.name, process.parent.name, process.parent.pid]?\" name: \"Attempt to Remove File Quarantine Attribute\" id: \"<i>&lt;redacted&gt;</i>\" rule id: \"f0b48bbc-549e-4bcf-8ee0-a7a72586c6a7\" signals index: \".siem-signals-default\""
   ]
  },
  {
   "cell_type": "markdown",
   "id": "f0feec98",
   "metadata": {},
   "source": [
    "### Azure Virtual Network Device Modified or Deleted"
   ]
  },
  {
   "cell_type": "code",
   "execution_count": null,
   "id": "28143419",
   "metadata": {},
   "outputs": [
    {
     "data": {
      "text/plain": [
       "[{'event': {'dataset': 'azure.activitylogs', 'outcome': 'Success'}, 'azure': {'activitylogs': {'operation_name': 'MICROSOFT.NETWORK/NETWORKINTERFACES/TAPCONFIGURATIONS/WRITE'}}, '@timestamp': 0, 'ecs': {'version': '1.12.1'}}]"
      ]
     },
     "execution_count": null,
     "metadata": {},
     "output_type": "execute_result"
    }
   ],
   "source": [
    "emit('''\n",
    "event.dataset:azure.activitylogs and azure.activitylogs.operation_name:(\"MICROSOFT.NETWORK/NETWORKINTERFACES/TAPCONFIGURATIONS/WRITE\" or\n",
    "\"MICROSOFT.NETWORK/NETWORKINTERFACES/TAPCONFIGURATIONS/DELETE\" or \"MICROSOFT.NETWORK/NETWORKINTERFACES/WRITE\" or\n",
    "\"MICROSOFT.NETWORK/NETWORKINTERFACES/JOIN/ACTION\" or \"MICROSOFT.NETWORK/NETWORKINTERFACES/DELETE\"or\n",
    "\"MICROSOFT.NETWORK/NETWORKVIRTUALAPPLIANCES/DELETE\" or \"MICROSOFT.NETWORK/NETWORKVIRTUALAPPLIANCES/WRITE\" or\n",
    "\"MICROSOFT.NETWORK/VIRTUALHUBS/DELETE\" or \"MICROSOFT.NETWORK/VIRTUALHUBS/WRITE\" or\n",
    "\"MICROSOFT.NETWORK/VIRTUALROUTERS/WRITE\" or \"MICROSOFT.NETWORK/VIRTUALROUTERS/DELETE\") and \n",
    "event.outcome:(Success or success)\n",
    "''')"
   ]
  },
  {
   "cell_type": "markdown",
   "id": "ce471f32",
   "metadata": {},
   "source": [
    "SDE says:\n",
    "> An error occurred during rule execution: message: \"Expected \")\", AND, OR, whitespace but \"o\" found.\n",
    "event.dataset:azure.activitylogs and azure.activitylogs.operation_name:(\"MICROSOFT.NETWORK/NETWORKINTERFACES/TAPCONFIGURATIONS/WRITE\" or\n",
    "\"MICROSOFT.NETWORK/NETWORKINTERFACES/TAPCONFIGURATIONS/DELETE\" or \"MICROSOFT.NETWORK/NETWORKINTERFACES/WRITE\" or\n",
    "\"MICROSOFT.NETWORK/NETWORKINTERFACES/JOIN/ACTION\" or \"MICROSOFT.NETWORK/NETWORKINTERFACES/DELETE\"or\n",
    "\"MICROSOFT.NETWORK/NETWORKVIRTUALAPPLIANCES/DELETE\" or \"MICROSOFT.NETWORK/NETWORKVIRTUALAPPLIANCES/WRITE\" or\n",
    "\"MICROSOFT.NETWORK/VIRTUALHUBS/DELETE\" or \"MICROSOFT.NETWORK/VIRTUALHUBS/WRITE\" or\n",
    "\"MICROSOFT.NETWORK/VIRTUALROUTERS/WRITE\" or \"MICROSOFT.NETWORK/VIRTUALROUTERS/DELETE\") and \n",
    "event.outcome:(Success or success)\n",
    "\n",
    "-----------------------------------------------------------------------------------------------------------------------------------------------------------------------------------------------------------------------------------------------------------------------------------------------------------------------------------------------------------^\" name: \"Azure Virtual Network Device Modified or Deleted\" id: \"<i>&lt;redacted&gt;</i>\" rule id: \"573f6e7a-7acf-4bcd-ad42-c4969124d3c0\" signals index: \".siem-signals-default\""
   ]
  },
  {
   "cell_type": "markdown",
   "id": "2cf02e2b",
   "metadata": {},
   "source": [
    "### Command Shell Activity Started via RunDLL32"
   ]
  },
  {
   "cell_type": "code",
   "execution_count": null,
   "id": "f0185ce3",
   "metadata": {},
   "outputs": [
    {
     "data": {
      "text/plain": [
       "[]"
      ]
     },
     "execution_count": null,
     "metadata": {},
     "output_type": "execute_result"
    }
   ],
   "source": [
    "emit('''\n",
    "process where event.type == \"start\" and\n",
    " process.name : (\"cmd.exe\", \"powershell.exe\") and\n",
    "  process.parent.name : \"rundll32.exe\" and process.parent.command_line != null and\n",
    "  /* common FPs can be added here */\n",
    "  not process.parent.args : (\"C:\\\\Windows\\\\System32\\\\SHELL32.dll,RunAsNewUser_RunDLL\",\n",
    "                             \"C:\\\\WINDOWS\\\\*.tmp,zzzzInvokeManagedCustomActionOutOfProc\")\n",
    "''')"
   ]
  },
  {
   "cell_type": "markdown",
   "id": "577cd568",
   "metadata": {},
   "source": [
    "SDE says:\n",
    "> An error occurred during rule execution: message: \"index_not_found_exception: [verification_exception] Reason: Found 1 problem\n",
    "line -1:-1: Unknown index [*,-*]\" name: \"Command Shell Activity Started via RunDLL32\" id: \"<i>&lt;redacted&gt;</i>\" rule id: \"9ccf3ce0-0057-440a-91f5-870c6ad39093\" signals index: \".siem-signals-default\""
   ]
  },
  {
   "cell_type": "markdown",
   "id": "7d85bdd6",
   "metadata": {},
   "source": [
    "### Component Object Model Hijacking"
   ]
  },
  {
   "cell_type": "code",
   "execution_count": null,
   "id": "0f021cf8",
   "metadata": {},
   "outputs": [
    {
     "data": {
      "text/plain": [
       "[]"
      ]
     },
     "execution_count": null,
     "metadata": {},
     "output_type": "execute_result"
    }
   ],
   "source": [
    "emit('''\n",
    "registry where\n",
    " /* uncomment once length is stable length(bytes_written_string) > 0 and */\n",
    " (registry.path : \"HK*}\\\\InprocServer32\\\\\" and registry.data.strings: (\"scrobj.dll\", \"C:\\\\*\\\\scrobj.dll\") and\n",
    " not registry.path : \"*\\\\{06290BD*-48AA-11D2-8432-006008C3FBFC}\\\\*\") \n",
    " or\n",
    " /* in general COM Registry changes on Users Hive is less noisy and worth alerting */\n",
    " (registry.path : (\"HKEY_USERS\\\\*Classes\\\\*\\\\InprocServer32\\\\\",\n",
    "                   \"HKEY_USERS\\\\*Classes\\\\*\\\\LocalServer32\\\\\",\n",
    "                   \"HKEY_USERS\\\\*Classes\\\\*\\\\DelegateExecute\\\\\", \n",
    "                   \"HKEY_USERS\\\\*Classes\\\\*\\\\TreatAs\\\\\", \n",
    "                   \"HKEY_USERS\\\\*Classes\\\\CLSID\\\\*\\\\ScriptletURL\\\\\") and\n",
    " not (process.executable : \"?:\\\\Program Files*\\\\Veeam\\\\Backup and Replication\\\\Console\\\\veeam.backup.shell.exe\" and\n",
    "      registry.path : \"HKEY_USERS\\\\S-1-5-21-*_Classes\\\\CLSID\\\\*\\\\LocalServer32\\\\\") and\n",
    " /* not necessary but good for filtering privileged installations */\n",
    " user.domain != \"NT AUTHORITY\")\n",
    "''')"
   ]
  },
  {
   "cell_type": "markdown",
   "id": "004fb42b",
   "metadata": {},
   "source": [
    "SDE says:\n",
    "> An error occurred during rule execution: message: \"index_not_found_exception: [verification_exception] Reason: Found 1 problem\n",
    "line -1:-1: Unknown index [*,-*]\" name: \"Component Object Model Hijacking\" id: \"<i>&lt;redacted&gt;</i>\" rule id: \"16a52c14-7883-47af-8745-9357803f0d4c\" signals index: \".siem-signals-default\""
   ]
  },
  {
   "cell_type": "markdown",
   "id": "45450d62",
   "metadata": {},
   "source": [
    "### Control Panel Process with Unusual Arguments"
   ]
  },
  {
   "cell_type": "code",
   "execution_count": null,
   "id": "93e9f82f",
   "metadata": {},
   "outputs": [
    {
     "data": {
      "text/plain": [
       "[]"
      ]
     },
     "execution_count": null,
     "metadata": {},
     "output_type": "execute_result"
    }
   ],
   "source": [
    "emit('''\n",
    "process where event.type in (\"start\", \"process_started\") and\n",
    " process.executable : (\"?:\\\\Windows\\\\SysWOW64\\\\control.exe\", \"?:\\\\Windows\\\\System32\\\\control.exe\") and\n",
    " process.command_line :\n",
    "          (\"*.jpg*\",\n",
    "           \"*.png*\",\n",
    "           \"*.gif*\",\n",
    "           \"*.bmp*\",\n",
    "           \"*.jpeg*\",\n",
    "           \"*.TIFF*\",\n",
    "           \"*.inf*\",\n",
    "           \"*.dat*\",\n",
    "           \"*.cpl:*/*\",\n",
    "           \"*../../..*\",\n",
    "           \"*/AppData/Local/*\",\n",
    "           \"*:\\\\Users\\\\Public\\\\*\",\n",
    "           \"*\\\\AppData\\\\Local\\\\*\")\n",
    "''')"
   ]
  },
  {
   "cell_type": "markdown",
   "id": "b8c91c2d",
   "metadata": {},
   "source": [
    "SDE says:\n",
    "> An error occurred during rule execution: message: \"index_not_found_exception: [verification_exception] Reason: Found 1 problem\n",
    "line -1:-1: Unknown index [*,-*]\" name: \"Control Panel Process with Unusual Arguments\" id: \"<i>&lt;redacted&gt;</i>\" rule id: \"416697ae-e468-4093-a93d-59661fa619ec\" signals index: \".siem-signals-default\""
   ]
  },
  {
   "cell_type": "markdown",
   "id": "7282ed33",
   "metadata": {},
   "source": [
    "### Creation of Hidden Files and Directories"
   ]
  },
  {
   "cell_type": "code",
   "execution_count": null,
   "id": "4a9e460f",
   "metadata": {},
   "outputs": [
    {
     "data": {
      "text/plain": [
       "[]"
      ]
     },
     "execution_count": null,
     "metadata": {},
     "output_type": "execute_result"
    }
   ],
   "source": [
    "emit('''\n",
    "process where event.type in (\"start\", \"process_started\") and\n",
    "  process.working_directory in (\"/tmp\", \"/var/tmp\", \"/dev/shm\") and\n",
    "  process.args regex~ \"\"\"\\.[a-z0-9_\\-][a-z0-9_\\-\\.]{1,254}\"\"\" and\n",
    "  not process.name in (\"ls\", \"find\")\n",
    "''')"
   ]
  },
  {
   "cell_type": "markdown",
   "id": "b2924f1a",
   "metadata": {},
   "source": [
    "SDE says:\n",
    "> An error occurred during rule execution: message: \"index_not_found_exception: [verification_exception] Reason: Found 1 problem\n",
    "line -1:-1: Unknown index [*,-*]\" name: \"Creation of Hidden Files and Directories\" id: \"<i>&lt;redacted&gt;</i>\" rule id: \"b9666521-4742-49ce-9ddc-b8e84c35acae\" signals index: \".siem-signals-default\""
   ]
  },
  {
   "cell_type": "markdown",
   "id": "6f3f38d3",
   "metadata": {},
   "source": [
    "### Creation of Hidden Login Item via Apple Script"
   ]
  },
  {
   "cell_type": "code",
   "execution_count": null,
   "id": "1de9a502",
   "metadata": {},
   "outputs": [
    {
     "data": {
      "text/plain": [
       "[]"
      ]
     },
     "execution_count": null,
     "metadata": {},
     "output_type": "execute_result"
    }
   ],
   "source": [
    "emit('''\n",
    "process where event.type in (\"start\", \"process_started\") and process.name : \"osascript\" and\n",
    " process.command_line : \"osascript*login item*hidden:true*\"\n",
    "''')"
   ]
  },
  {
   "cell_type": "markdown",
   "id": "d251d85f",
   "metadata": {},
   "source": [
    "SDE says:\n",
    "> An error occurred during rule execution: message: \"index_not_found_exception: [verification_exception] Reason: Found 1 problem\n",
    "line -1:-1: Unknown index [*,-*]\" name: \"Creation of Hidden Login Item via Apple Script\" id: \"<i>&lt;redacted&gt;</i>\" rule id: \"f24bcae1-8980-4b30-b5dd-f851b055c9e7\" signals index: \".siem-signals-default\""
   ]
  },
  {
   "cell_type": "markdown",
   "id": "a8babb52",
   "metadata": {},
   "source": [
    "### DNS-over-HTTPS Enabled via Registry"
   ]
  },
  {
   "cell_type": "code",
   "execution_count": null,
   "id": "38554036",
   "metadata": {},
   "outputs": [
    {
     "data": {
      "text/plain": [
       "[]"
      ]
     },
     "execution_count": null,
     "metadata": {},
     "output_type": "execute_result"
    }
   ],
   "source": [
    "emit('''\n",
    "registry where event.type in (\"creation\", \"change\") and\n",
    "  (registry.path : \"*\\\\SOFTWARE\\\\Policies\\\\Microsoft\\\\Edge\\\\BuiltInDnsClientEnabled\" and\n",
    "  registry.data.strings : \"1\") or\n",
    "  (registry.path : \"*\\\\SOFTWARE\\\\Google\\\\Chrome\\\\DnsOverHttpsMode\" and\n",
    "  registry.data.strings : \"secure\") or\n",
    "  (registry.path : \"*\\\\SOFTWARE\\\\Policies\\\\Mozilla\\\\Firefox\\\\DNSOverHTTPS\" and\n",
    "  registry.data.strings : \"1\")\n",
    "''')"
   ]
  },
  {
   "cell_type": "markdown",
   "id": "1275ac27",
   "metadata": {},
   "source": [
    "SDE says:\n",
    "> An error occurred during rule execution: message: \"index_not_found_exception: [verification_exception] Reason: Found 1 problem\n",
    "line -1:-1: Unknown index [*,-*]\" name: \"DNS-over-HTTPS Enabled via Registry\" id: \"<i>&lt;redacted&gt;</i>\" rule id: \"a22a09c2-2162-4df0-a356-9aacbeb56a04\" signals index: \".siem-signals-default\""
   ]
  },
  {
   "cell_type": "markdown",
   "id": "67f2bfb5",
   "metadata": {},
   "source": [
    "### Disabling User Account Control via Registry Modification"
   ]
  },
  {
   "cell_type": "code",
   "execution_count": null,
   "id": "2784a970",
   "metadata": {},
   "outputs": [
    {
     "data": {
      "text/plain": [
       "[]"
      ]
     },
     "execution_count": null,
     "metadata": {},
     "output_type": "execute_result"
    }
   ],
   "source": [
    "emit('''\n",
    "registry where event.type == \"change\" and\n",
    "  registry.path :\n",
    "    (\n",
    "      \"HKLM\\\\SOFTWARE\\\\Microsoft\\\\Windows\\\\CurrentVersion\\\\Policies\\\\System\\\\EnableLUA\",\n",
    "      \"HKLM\\\\SOFTWARE\\\\Microsoft\\\\Windows\\\\CurrentVersion\\\\Policies\\\\System\\\\ConsentPromptBehaviorAdmin\",\n",
    "      \"HKLM\\\\SOFTWARE\\\\Microsoft\\\\Windows\\\\CurrentVersion\\\\Policies\\\\System\\\\PromptOnSecureDesktop\"\n",
    "    ) and\n",
    "  registry.data.strings : \"0\"\n",
    "''')"
   ]
  },
  {
   "cell_type": "markdown",
   "id": "e9adbef4",
   "metadata": {},
   "source": [
    "SDE says:\n",
    "> An error occurred during rule execution: message: \"index_not_found_exception: [verification_exception] Reason: Found 1 problem\n",
    "line -1:-1: Unknown index [*,-*]\" name: \"Disabling User Account Control via Registry Modification\" id: \"<i>&lt;redacted&gt;</i>\" rule id: \"d31f183a-e5b1-451b-8534-ba62bca0b404\" signals index: \".siem-signals-default\""
   ]
  },
  {
   "cell_type": "markdown",
   "id": "c05af801",
   "metadata": {},
   "source": [
    "### Encoded Executable Stored in the Registry"
   ]
  },
  {
   "cell_type": "code",
   "execution_count": null,
   "id": "fe25b499",
   "metadata": {},
   "outputs": [
    {
     "data": {
      "text/plain": [
       "[]"
      ]
     },
     "execution_count": null,
     "metadata": {},
     "output_type": "execute_result"
    }
   ],
   "source": [
    "emit('''\n",
    "registry where\n",
    "/* update here with encoding combinations */\n",
    " registry.data.strings : \"TVqQAAMAAAAEAAAA*\"\n",
    "''')"
   ]
  },
  {
   "cell_type": "markdown",
   "id": "347203f2",
   "metadata": {},
   "source": [
    "SDE says:\n",
    "> An error occurred during rule execution: message: \"index_not_found_exception: [verification_exception] Reason: Found 1 problem\n",
    "line -1:-1: Unknown index [*,-*]\" name: \"Encoded Executable Stored in the Registry\" id: \"<i>&lt;redacted&gt;</i>\" rule id: \"93c1ce76-494c-4f01-8167-35edfb52f7b1\" signals index: \".siem-signals-default\""
   ]
  },
  {
   "cell_type": "markdown",
   "id": "ab3dc5ab",
   "metadata": {},
   "source": [
    "### Executable File Creation with Multiple Extensions"
   ]
  },
  {
   "cell_type": "code",
   "execution_count": null,
   "id": "fe95cbbd",
   "metadata": {},
   "outputs": [
    {
     "data": {
      "text/plain": [
       "[]"
      ]
     },
     "execution_count": null,
     "metadata": {},
     "output_type": "execute_result"
    }
   ],
   "source": [
    "emit('''\n",
    "file where event.type == \"creation\" and file.extension : \"exe\" and\n",
    "  file.name regex~ \"\"\".*\\.(vbs|vbe|bat|js|cmd|wsh|ps1|pdf|docx?|xlsx?|pptx?|txt|rtf|gif|jpg|png|bmp|hta|txt|img|iso)\\.exe\"\"\"\n",
    "''')"
   ]
  },
  {
   "cell_type": "markdown",
   "id": "de3f9cfc",
   "metadata": {},
   "source": [
    "SDE says:\n",
    "> An error occurred during rule execution: message: \"index_not_found_exception: [verification_exception] Reason: Found 1 problem\n",
    "line -1:-1: Unknown index [*,-*]\" name: \"Executable File Creation with Multiple Extensions\" id: \"<i>&lt;redacted&gt;</i>\" rule id: \"8b2b3a62-a598-4293-bc14-3d5fa22bb98f\" signals index: \".siem-signals-default\""
   ]
  },
  {
   "cell_type": "markdown",
   "id": "8155aedc",
   "metadata": {},
   "source": [
    "### Execution from Unusual Directory - Command Line"
   ]
  },
  {
   "cell_type": "code",
   "execution_count": null,
   "id": "64d64d31",
   "metadata": {},
   "outputs": [
    {
     "data": {
      "text/plain": [
       "[]"
      ]
     },
     "execution_count": null,
     "metadata": {},
     "output_type": "execute_result"
    }
   ],
   "source": [
    "emit('''\n",
    "process where event.type in (\"start\", \"process_started\", \"info\") and\n",
    "  process.name : (\"wscript.exe\", \n",
    "                  \"cscript.exe\", \n",
    "                  \"rundll32.exe\", \n",
    "                  \"regsvr32.exe\", \n",
    "                  \"cmstp.exe\",\n",
    "                  \"RegAsm.exe\",\n",
    "                  \"installutil.exe\",\n",
    "                  \"mshta.exe\",\n",
    "                  \"RegSvcs.exe\", \n",
    "                  \"powershell.exe\", \n",
    "                  \"pwsh.exe\", \n",
    "                  \"cmd.exe\") and\n",
    "\n",
    "  /* add suspicious execution paths here */\n",
    "  process.args : (\"C:\\\\PerfLogs\\\\*\",\n",
    "                  \"C:\\\\Users\\\\Public\\\\*\",\n",
    "                  \"C:\\\\Users\\\\Default\\\\*\",\n",
    "                  \"C:\\\\Windows\\\\Tasks\\\\*\",\n",
    "                  \"C:\\\\Intel\\\\*\", \n",
    "                  \"C:\\\\AMD\\\\Temp\\\\*\", \n",
    "                  \"C:\\\\Windows\\\\AppReadiness\\\\*\", \n",
    "                  \"C:\\\\Windows\\\\ServiceState\\\\*\",\n",
    "                  \"C:\\\\Windows\\\\security\\\\*\",\n",
    "                  \"C:\\\\Windows\\\\IdentityCRL\\\\*\",\n",
    "                  \"C:\\\\Windows\\\\Branding\\\\*\",\n",
    "                  \"C:\\\\Windows\\\\csc\\\\*\",\n",
    "                  \"C:\\\\Windows\\\\DigitalLocker\\\\*\",\n",
    "                  \"C:\\\\Windows\\\\en-US\\\\*\",\n",
    "                  \"C:\\\\Windows\\\\wlansvc\\\\*\",\n",
    "                  \"C:\\\\Windows\\\\Prefetch\\\\*\",\n",
    "                  \"C:\\\\Windows\\\\Fonts\\\\*\",\n",
    "                  \"C:\\\\Windows\\\\diagnostics\\\\*\",\n",
    "                  \"C:\\\\Windows\\\\TAPI\\\\*\",\n",
    "                  \"C:\\\\Windows\\\\INF\\\\*\",\n",
    "                  \"C:\\\\Windows\\\\System32\\\\Speech\\\\*\",\n",
    "                  \"C:\\\\windows\\\\tracing\\\\*\",\n",
    "                  \"c:\\\\windows\\\\IME\\\\*\",\n",
    "                  \"c:\\\\Windows\\\\Performance\\\\*\",\n",
    "                  \"c:\\\\windows\\\\intel\\\\*\",\n",
    "                  \"c:\\\\windows\\\\ms\\\\*\",\n",
    "                  \"C:\\\\Windows\\\\dot3svc\\\\*\",\n",
    "                  \"C:\\\\Windows\\\\ServiceProfiles\\\\*\",\n",
    "                  \"C:\\\\Windows\\\\panther\\\\*\",\n",
    "                  \"C:\\\\Windows\\\\RemotePackages\\\\*\",\n",
    "                  \"C:\\\\Windows\\\\OCR\\\\*\",\n",
    "                  \"C:\\\\Windows\\\\appcompat\\\\*\",\n",
    "                  \"C:\\\\Windows\\\\apppatch\\\\*\",\n",
    "                  \"C:\\\\Windows\\\\addins\\\\*\",\n",
    "                  \"C:\\\\Windows\\\\Setup\\\\*\",\n",
    "                  \"C:\\\\Windows\\\\Help\\\\*\",\n",
    "                  \"C:\\\\Windows\\\\SKB\\\\*\",\n",
    "                  \"C:\\\\Windows\\\\Vss\\\\*\",\n",
    "                  \"C:\\\\Windows\\\\Web\\\\*\",\n",
    "                  \"C:\\\\Windows\\\\servicing\\\\*\",\n",
    "                  \"C:\\\\Windows\\\\CbsTemp\\\\*\",\n",
    "                  \"C:\\\\Windows\\\\Logs\\\\*\",\n",
    "                  \"C:\\\\Windows\\\\WaaS\\\\*\",\n",
    "                  \"C:\\\\Windows\\\\twain_32\\\\*\",\n",
    "                  \"C:\\\\Windows\\\\ShellExperiences\\\\*\",\n",
    "                  \"C:\\\\Windows\\\\ShellComponents\\\\*\",\n",
    "                  \"C:\\\\Windows\\\\PLA\\\\*\",\n",
    "                  \"C:\\\\Windows\\\\Migration\\\\*\",\n",
    "                  \"C:\\\\Windows\\\\debug\\\\*\",\n",
    "                  \"C:\\\\Windows\\\\Cursors\\\\*\",\n",
    "                  \"C:\\\\Windows\\\\Containers\\\\*\",\n",
    "                  \"C:\\\\Windows\\\\Boot\\\\*\",\n",
    "                  \"C:\\\\Windows\\\\bcastdvr\\\\*\",\n",
    "                  \"C:\\\\Windows\\\\assembly\\\\*\",\n",
    "                  \"C:\\\\Windows\\\\TextInput\\\\*\",\n",
    "                  \"C:\\\\Windows\\\\security\\\\*\",\n",
    "                  \"C:\\\\Windows\\\\schemas\\\\*\",\n",
    "                  \"C:\\\\Windows\\\\SchCache\\\\*\",\n",
    "                  \"C:\\\\Windows\\\\Resources\\\\*\",\n",
    "                  \"C:\\\\Windows\\\\rescache\\\\*\",\n",
    "                  \"C:\\\\Windows\\\\Provisioning\\\\*\",\n",
    "                  \"C:\\\\Windows\\\\PrintDialog\\\\*\",\n",
    "                  \"C:\\\\Windows\\\\PolicyDefinitions\\\\*\",\n",
    "                  \"C:\\\\Windows\\\\media\\\\*\",\n",
    "                  \"C:\\\\Windows\\\\Globalization\\\\*\",\n",
    "                  \"C:\\\\Windows\\\\L2Schemas\\\\*\",\n",
    "                  \"C:\\\\Windows\\\\LiveKernelReports\\\\*\",\n",
    "                  \"C:\\\\Windows\\\\ModemLogs\\\\*\",\n",
    "                  \"C:\\\\Windows\\\\ImmersiveControlPanel\\\\*\",\n",
    "                  \"C:\\\\$Recycle.Bin\\\\*\") and\n",
    "  not process.parent.executable : (\"C:\\\\WINDOWS\\\\System32\\\\DriverStore\\\\FileRepository\\\\*\\\\igfxCUIService*.exe\",\n",
    "                                   \"C:\\\\Windows\\\\System32\\\\spacedeskService.exe\",\n",
    "                                   \"C:\\\\Program Files\\\\Dell\\\\SupportAssistAgent\\\\SRE\\\\SRE.exe\") and\n",
    "  not (process.name : \"rundll32.exe\" and process.args : (\"uxtheme.dll,#64\", \"PRINTUI.DLL,PrintUIEntry\"))\n",
    "''')"
   ]
  },
  {
   "cell_type": "markdown",
   "id": "2af689ea",
   "metadata": {},
   "source": [
    "SDE says:\n",
    "> An error occurred during rule execution: message: \"index_not_found_exception: [verification_exception] Reason: Found 1 problem\n",
    "line -1:-1: Unknown index [*,-*]\" name: \"Execution from Unusual Directory - Command Line\" id: \"<i>&lt;redacted&gt;</i>\" rule id: \"cff92c41-2225-4763-b4ce-6f71e5bda5e6\" signals index: \".siem-signals-default\""
   ]
  },
  {
   "cell_type": "markdown",
   "id": "29bc4830",
   "metadata": {},
   "source": [
    "### Image File Execution Options Injection"
   ]
  },
  {
   "cell_type": "code",
   "execution_count": null,
   "id": "2a7fc662",
   "metadata": {},
   "outputs": [
    {
     "data": {
      "text/plain": [
       "[]"
      ]
     },
     "execution_count": null,
     "metadata": {},
     "output_type": "execute_result"
    }
   ],
   "source": [
    "emit('''\n",
    "registry where length(registry.data.strings) > 0 and\n",
    " registry.path : (\"HKLM\\\\SOFTWARE\\\\Microsoft\\\\Windows NT\\\\CurrentVersion\\\\Image File Execution Options\\\\*.exe\\\\Debugger\", \n",
    "                  \"HKLM\\\\SOFTWARE\\\\WOW6432Node\\\\Microsoft\\\\Windows NT\\\\CurrentVersion\\\\Image File Execution Options\\\\*\\\\Debugger\", \n",
    "                  \"HKLM\\\\SOFTWARE\\\\Microsoft\\\\Windows NT\\\\CurrentVersion\\\\SilentProcessExit\\\\*\\\\MonitorProcess\", \n",
    "                  \"HKLM\\\\SOFTWARE\\\\WOW6432Node\\\\Microsoft\\\\Windows NT\\\\CurrentVersion\\\\SilentProcessExit\\\\*\\\\MonitorProcess\") and\n",
    "   /* add FPs here */\n",
    " not registry.data.strings regex~ (\"\"\"C:\\\\Program Files( \\(x86\\))?\\\\ThinKiosk\\\\thinkiosk\\.exe\"\"\", \"\"\".*\\\\PSAppDeployToolkit\\\\.*\"\"\")\n",
    "''')"
   ]
  },
  {
   "cell_type": "markdown",
   "id": "e878ed79",
   "metadata": {},
   "source": [
    "SDE says:\n",
    "> An error occurred during rule execution: message: \"index_not_found_exception: [verification_exception] Reason: Found 1 problem\n",
    "line -1:-1: Unknown index [*,-*]\" name: \"Image File Execution Options Injection\" id: \"<i>&lt;redacted&gt;</i>\" rule id: \"6839c821-011d-43bd-bd5b-acff00257226\" signals index: \".siem-signals-default\""
   ]
  },
  {
   "cell_type": "markdown",
   "id": "5466fb86",
   "metadata": {},
   "source": [
    "### Modification of AmsiEnable Registry Key"
   ]
  },
  {
   "cell_type": "code",
   "execution_count": null,
   "id": "02cbae35",
   "metadata": {},
   "outputs": [
    {
     "data": {
      "text/plain": [
       "[]"
      ]
     },
     "execution_count": null,
     "metadata": {},
     "output_type": "execute_result"
    }
   ],
   "source": [
    "emit('''\n",
    "registry where event.type in (\"creation\", \"change\") and\n",
    "  registry.path: \"HKEY_USERS\\\\*\\\\Software\\\\Microsoft\\\\Windows Script\\\\Settings\\\\AmsiEnable\" and\n",
    "  registry.data.strings: \"0\"\n",
    "''')"
   ]
  },
  {
   "cell_type": "markdown",
   "id": "2d82df5a",
   "metadata": {},
   "source": [
    "SDE says:\n",
    "> An error occurred during rule execution: message: \"index_not_found_exception: [verification_exception] Reason: Found 1 problem\n",
    "line -1:-1: Unknown index [*,-*]\" name: \"Modification of AmsiEnable Registry Key\" id: \"<i>&lt;redacted&gt;</i>\" rule id: \"f874315d-5188-4b4a-8521-d1c73093a7e4\" signals index: \".siem-signals-default\""
   ]
  },
  {
   "cell_type": "markdown",
   "id": "e559acd0",
   "metadata": {},
   "source": [
    "### Modification of WDigest Security Provider"
   ]
  },
  {
   "cell_type": "code",
   "execution_count": null,
   "id": "f9140dd5",
   "metadata": {},
   "outputs": [
    {
     "data": {
      "text/plain": [
       "[]"
      ]
     },
     "execution_count": null,
     "metadata": {},
     "output_type": "execute_result"
    }
   ],
   "source": [
    "emit('''\n",
    "registry where event.type in (\"creation\", \"change\") and\n",
    "  registry.path:\"HKLM\\\\SYSTEM\\\\*ControlSet*\\\\Control\\\\SecurityProviders\\\\WDigest\\\\UseLogonCredential\" and\n",
    "  registry.data.strings:\"1\"\n",
    "''')"
   ]
  },
  {
   "cell_type": "markdown",
   "id": "a9984acf",
   "metadata": {},
   "source": [
    "SDE says:\n",
    "> An error occurred during rule execution: message: \"index_not_found_exception: [verification_exception] Reason: Found 1 problem\n",
    "line -1:-1: Unknown index [*,-*]\" name: \"Modification of WDigest Security Provider\" id: \"<i>&lt;redacted&gt;</i>\" rule id: \"d703a5af-d5b0-43bd-8ddb-7a5d500b7da5\" signals index: \".siem-signals-default\""
   ]
  },
  {
   "cell_type": "markdown",
   "id": "07a04d21",
   "metadata": {},
   "source": [
    "### Network Logon Provider Registry Modification"
   ]
  },
  {
   "cell_type": "code",
   "execution_count": null,
   "id": "bba1b294",
   "metadata": {},
   "outputs": [
    {
     "data": {
      "text/plain": [
       "[]"
      ]
     },
     "execution_count": null,
     "metadata": {},
     "output_type": "execute_result"
    }
   ],
   "source": [
    "emit('''\n",
    "registry where registry.data.strings != null and\n",
    " registry.path : \"HKLM\\\\SYSTEM\\\\*ControlSet*\\\\Services\\\\*\\\\NetworkProvider\\\\ProviderPath\" and\n",
    " /* Excluding default NetworkProviders RDPNP, LanmanWorkstation and webclient. */\n",
    " not ( user.id : \"S-1-5-18\" and\n",
    "       registry.data.strings in\n",
    "                (\"%SystemRoot%\\\\System32\\\\ntlanman.dll\",\n",
    "                 \"%SystemRoot%\\\\System32\\\\drprov.dll\",\n",
    "                 \"%SystemRoot%\\\\System32\\\\davclnt.dll\")\n",
    "      )\n",
    "''')"
   ]
  },
  {
   "cell_type": "markdown",
   "id": "f6387111",
   "metadata": {},
   "source": [
    "SDE says:\n",
    "> An error occurred during rule execution: message: \"index_not_found_exception: [verification_exception] Reason: Found 1 problem\n",
    "line -1:-1: Unknown index [*,-*]\" name: \"Network Logon Provider Registry Modification\" id: \"<i>&lt;redacted&gt;</i>\" rule id: \"54c3d186-0461-4dc3-9b33-2dc5c7473936\" signals index: \".siem-signals-default\""
   ]
  },
  {
   "cell_type": "markdown",
   "id": "599f9ae8",
   "metadata": {},
   "source": [
    "### NullSessionPipe Registry Modification"
   ]
  },
  {
   "cell_type": "code",
   "execution_count": null,
   "id": "3be50fdf",
   "metadata": {},
   "outputs": [
    {
     "data": {
      "text/plain": [
       "[]"
      ]
     },
     "execution_count": null,
     "metadata": {},
     "output_type": "execute_result"
    }
   ],
   "source": [
    "emit('''\n",
    "registry where\n",
    "registry.path : \"HKLM\\\\SYSTEM\\\\*ControlSet*\\\\services\\\\LanmanServer\\\\Parameters\\\\NullSessionPipes\" and\n",
    "registry.data.strings != null\n",
    "''')"
   ]
  },
  {
   "cell_type": "markdown",
   "id": "94431ca1",
   "metadata": {},
   "source": [
    "SDE says:\n",
    "> An error occurred during rule execution: message: \"index_not_found_exception: [verification_exception] Reason: Found 1 problem\n",
    "line -1:-1: Unknown index [*,-*]\" name: \"NullSessionPipe Registry Modification\" id: \"<i>&lt;redacted&gt;</i>\" rule id: \"ddab1f5f-7089-44f5-9fda-de5b11322e77\" signals index: \".siem-signals-default\""
   ]
  },
  {
   "cell_type": "markdown",
   "id": "43febe81",
   "metadata": {},
   "source": [
    "### Persistence via Login or Logout Hook"
   ]
  },
  {
   "cell_type": "code",
   "execution_count": null,
   "id": "464296f6",
   "metadata": {},
   "outputs": [
    {
     "data": {
      "text/plain": [
       "[]"
      ]
     },
     "execution_count": null,
     "metadata": {},
     "output_type": "execute_result"
    }
   ],
   "source": [
    "emit('''\n",
    "process where event.type == \"start\" and\n",
    " process.name == \"defaults\" and process.args == \"write\" and process.args in (\"LoginHook\", \"LogoutHook\") and\n",
    " not process.args :\n",
    "       (\n",
    "         \"Support/JAMF/ManagementFrameworkScripts/logouthook.sh\",\n",
    "         \"Support/JAMF/ManagementFrameworkScripts/loginhook.sh\",\n",
    "         \"/Library/Application Support/JAMF/ManagementFrameworkScripts/logouthook.sh\",\n",
    "         \"/Library/Application Support/JAMF/ManagementFrameworkScripts/loginhook.sh\"\n",
    "       )\n",
    "''')"
   ]
  },
  {
   "cell_type": "markdown",
   "id": "9ef3cde8",
   "metadata": {},
   "source": [
    "SDE says:\n",
    "> An error occurred during rule execution: message: \"index_not_found_exception: [verification_exception] Reason: Found 1 problem\n",
    "line -1:-1: Unknown index [*,-*]\" name: \"Persistence via Login or Logout Hook\" id: \"<i>&lt;redacted&gt;</i>\" rule id: \"5d0265bf-dea9-41a9-92ad-48a8dcd05080\" signals index: \".siem-signals-default\""
   ]
  },
  {
   "cell_type": "markdown",
   "id": "c8dcf3e7",
   "metadata": {},
   "source": [
    "### Persistence via WMI Standard Registry Provider"
   ]
  },
  {
   "cell_type": "code",
   "execution_count": null,
   "id": "842cc0be",
   "metadata": {},
   "outputs": [
    {
     "data": {
      "text/plain": [
       "[]"
      ]
     },
     "execution_count": null,
     "metadata": {},
     "output_type": "execute_result"
    }
   ],
   "source": [
    "emit('''\n",
    "registry where \n",
    " registry.data.strings != null and process.name : \"WmiPrvSe.exe\" and\n",
    " registry.path : (\n",
    "                  \"HKEY_USERS\\\\*\\\\Software\\\\Microsoft\\\\Windows\\\\CurrentVersion\\\\Run\\\\*\",\n",
    "                  \"HKLM\\\\Software\\\\Microsoft\\\\Windows\\\\CurrentVersion\\\\Run\\\\*\",\n",
    "                  \"HKLM\\\\Software\\\\WOW6432Node\\\\Microsoft\\\\Windows\\\\CurrentVersion\\\\Run\\\\*\",\n",
    "                  \"HKEY_USERS\\\\*\\\\Software\\\\Microsoft\\\\Windows\\\\CurrentVersion\\\\Policies\\\\Explorer\\\\Run\\\\*\",\n",
    "                  \"HKLM\\\\Software\\\\Microsoft\\\\Windows\\\\CurrentVersion\\\\Policies\\\\Explorer\\\\Run\\\\*\",\n",
    "                  \"HKLM\\\\Software\\\\Microsoft\\\\Windows\\\\CurrentVersion\\\\RunOnce\\\\*\",\n",
    "                  \"HKLM\\\\Software\\\\Microsoft\\\\Windows\\\\CurrentVersion\\\\RunOnceEx\\\\*\",\n",
    "                  \"HKEY_USERS\\\\*\\\\Software\\\\Microsoft\\\\Windows\\\\CurrentVersion\\\\RunOnce\\\\*\",\n",
    "                  \"HKEY_USERS\\\\*\\\\Software\\\\Microsoft\\\\Windows\\\\CurrentVersion\\\\RunOnceEx\\\\*\",\n",
    "                  \"HKLM\\\\SYSTEM\\\\*ControlSet*\\\\Services\\\\*\\\\ServiceDLL\",\n",
    "                  \"HKLM\\\\SYSTEM\\\\*ControlSet*\\\\Services\\\\*\\\\ImagePath\",\n",
    "                  \"HKEY_USERS\\\\*\\\\Software\\\\Microsoft\\\\Windows NT\\\\CurrentVersion\\\\Winlogon\\\\Shell\\\\*\", \n",
    "                  \"HKEY_USERS\\\\*\\\\Environment\\\\UserInitMprLogonScript\", \n",
    "                  \"HKEY_USERS\\\\*\\\\SOFTWARE\\\\Microsoft\\\\Windows NT\\\\CurrentVersion\\\\Windows\\\\Load\", \n",
    "                  \"HKEY_USERS\\\\*\\\\SOFTWARE\\\\Microsoft\\\\Windows NT\\\\CurrentVersion\\\\Winlogon\\\\Shell\", \n",
    "                  \"HKEY_USERS\\\\*\\\\SOFTWARE\\\\Microsoft\\\\Windows\\\\CurrentVersion\\\\Policies\\\\System\\\\Shell\", \n",
    "                  \"HKEY_USERS\\\\*\\\\SOFTWARE\\\\Policies\\\\Microsoft\\\\Windows\\\\System\\\\Scripts\\\\Logoff\\\\Script\", \n",
    "                  \"HKEY_USERS\\\\*\\\\SOFTWARE\\\\Policies\\\\Microsoft\\\\Windows\\\\System\\\\Scripts\\\\Logon\\\\Script\", \n",
    "                  \"HKEY_USERS\\\\*\\\\SOFTWARE\\\\Policies\\\\Microsoft\\\\Windows\\\\System\\\\Scripts\\\\Shutdown\\\\Script\", \n",
    "                  \"HKEY_USERS\\\\*\\\\SOFTWARE\\\\Policies\\\\Microsoft\\\\Windows\\\\System\\\\Scripts\\\\Startup\\\\Script\", \n",
    "                  \"HKEY_USERS\\\\*\\\\SOFTWARE\\\\Microsoft\\\\Ctf\\\\LangBarAddin\\\\*\\\\FilePath\", \n",
    "                  \"HKEY_USERS\\\\*\\\\SOFTWARE\\\\Microsoft\\\\Internet Explorer\\\\Extensions\\\\*\\\\Exec\", \n",
    "                  \"HKEY_USERS\\\\*\\\\SOFTWARE\\\\Microsoft\\\\Internet Explorer\\\\Extensions\\\\*\\\\Script\", \n",
    "                  \"HKEY_USERS\\\\*\\\\SOFTWARE\\\\Microsoft\\\\Command Processor\\\\Autorun\"\n",
    "                  )\n",
    "''')"
   ]
  },
  {
   "cell_type": "markdown",
   "id": "f66a4d22",
   "metadata": {},
   "source": [
    "SDE says:\n",
    "> An error occurred during rule execution: message: \"index_not_found_exception: [verification_exception] Reason: Found 1 problem\n",
    "line -1:-1: Unknown index [*,-*]\" name: \"Persistence via WMI Standard Registry Provider\" id: \"<i>&lt;redacted&gt;</i>\" rule id: \"70d12c9c-0dbd-4a1a-bc44-1467502c9cf6\" signals index: \".siem-signals-default\""
   ]
  },
  {
   "cell_type": "markdown",
   "id": "4a1c608e",
   "metadata": {},
   "source": [
    "### Potential Credential Access via Renamed COM+ Services DLL"
   ]
  },
  {
   "cell_type": "code",
   "execution_count": null,
   "id": "fa4a7667",
   "metadata": {},
   "outputs": [
    {
     "data": {
      "text/plain": [
       "[{'event': {'category': ['process', 'process']}, 'process': {'name': 'rundll32.exe', 'entity_id': 'ZFy'}, '@timestamp': 0, 'ecs': {'version': '1.12.1'}},\n",
       "{'event': {'category': ['process', 'process'], 'dataset': 'windows.sysmon_operational', 'code': '7'}, 'file': {'pe': {'original_file_name': 'COMSVCS.DLL'}, 'name': 'XIU'}, '@timestamp': 1, 'ecs': {'version': '1.12.1'}, 'process': {'entity_id': 'ZFy'}}]"
      ]
     },
     "execution_count": null,
     "metadata": {},
     "output_type": "execute_result"
    }
   ],
   "source": [
    "emit('''\n",
    "sequence by process.entity_id with maxspan=1m\n",
    " [process where event.category == \"process\" and\n",
    "    process.name : \"rundll32.exe\"]\n",
    " [process where event.category == \"process\" and event.dataset : \"windows.sysmon_operational\" and event.code == \"7\" and\n",
    "   (file.pe.original_file_name : \"COMSVCS.DLL\" or file.pe.imphash : \"EADBCCBB324829ACB5F2BBE87E5549A8\") and\n",
    "    /* renamed COMSVCS */\n",
    "    not file.name : \"COMSVCS.DLL\"]\n",
    "''')"
   ]
  },
  {
   "cell_type": "markdown",
   "id": "2db41775",
   "metadata": {},
   "source": [
    "SDE says:\n",
    "> An error occurred during rule execution: message: \"verification_exception: [verification_exception] Reason: Found 1 problem\n",
    "line 5:51: Unknown column [file.pe.imphash], did you mean [file.path]?\" name: \"Potential Credential Access via Renamed COM+ Services DLL\" id: \"<i>&lt;redacted&gt;</i>\" rule id: \"c5c9f591-d111-4cf8-baec-c26a39bc31ef\" signals index: \".siem-signals-default\""
   ]
  },
  {
   "cell_type": "markdown",
   "id": "04306967",
   "metadata": {},
   "source": [
    "### Potential Credential Access via Windows Utilities"
   ]
  },
  {
   "cell_type": "code",
   "execution_count": null,
   "id": "8a44a02f",
   "metadata": {},
   "outputs": [
    {
     "data": {
      "text/plain": [
       "[{'event': {'type': ['start'], 'category': ['process']}, 'process': {'pe': {'original_file_name': 'procdump'}, 'args': ['-ma']}, '@timestamp': 0, 'ecs': {'version': '1.12.1'}}]"
      ]
     },
     "execution_count": null,
     "metadata": {},
     "output_type": "execute_result"
    }
   ],
   "source": [
    "emit('''\n",
    "process where event.type in (\"start\", \"process_started\") and\n",
    "/* update here with any new lolbas with dump capability */\n",
    "(process.pe.original_file_name == \"procdump\" and process.args : \"-ma\") or\n",
    "(process.name : \"ProcessDump.exe\" and not process.parent.executable regex~ \"\"\"C:\\\\Program Files( \\(x86\\))?\\\\Cisco Systems\\\\.*\"\"\") or\n",
    "(process.pe.original_file_name == \"WriteMiniDump.exe\" and not process.parent.executable regex~ \"\"\"C:\\\\Program Files( \\(x86\\))?\\\\Steam\\\\.*\"\"\") or\n",
    "(process.pe.original_file_name == \"RUNDLL32.EXE\" and (process.args : \"MiniDump*\" or process.command_line : \"*comsvcs.dll*#24*\")) or\n",
    "(process.pe.original_file_name == \"RdrLeakDiag.exe\" and process.args : \"/fullmemdmp\") or\n",
    "(process.pe.original_file_name == \"SqlDumper.exe\" and process.args : \"0x01100*\") or\n",
    "(process.pe.original_file_name == \"TTTracer.exe\" and process.args : \"-dumpFull\" and process.args : \"-attach\") or\n",
    "(process.pe.original_file_name == \"ntdsutil.exe\" and process.args : \"create*full*\") or\n",
    "(process.pe.original_file_name == \"diskshadow.exe\" and process.args : \"/s\")\n",
    "''')"
   ]
  },
  {
   "cell_type": "markdown",
   "id": "4f84ee9d",
   "metadata": {},
   "source": [
    "SDE says:\n",
    "> An error occurred during rule execution: message: \"verification_exception: [verification_exception] Reason: Found 1 problem\n",
    "line 6:85: Unknown column [process.command_line], did you mean any of [process.working_directory, process.entity_id, process.executable, process.name, process.parent.name, process.parent.pid]?\" name: \"Potential Credential Access via Windows Utilities\" id: \"<i>&lt;redacted&gt;</i>\" rule id: \"00140285-b827-4aee-aa09-8113f58a08f3\" signals index: \".siem-signals-default\""
   ]
  },
  {
   "cell_type": "markdown",
   "id": "c5d54994",
   "metadata": {},
   "source": [
    "### Potential Persistence via Time Provider Modification"
   ]
  },
  {
   "cell_type": "code",
   "execution_count": null,
   "id": "3287e842",
   "metadata": {},
   "outputs": [
    {
     "data": {
      "text/plain": [
       "[]"
      ]
     },
     "execution_count": null,
     "metadata": {},
     "output_type": "execute_result"
    }
   ],
   "source": [
    "emit('''\n",
    "registry where event.type:\"change\" and\n",
    "  registry.path:\"HKLM\\\\SYSTEM\\\\*ControlSet*\\\\Services\\\\W32Time\\\\TimeProviders\\\\*\" and\n",
    "  registry.data.strings:\"*.dll\"\n",
    "''')"
   ]
  },
  {
   "cell_type": "markdown",
   "id": "19a2a63b",
   "metadata": {},
   "source": [
    "SDE says:\n",
    "> An error occurred during rule execution: message: \"index_not_found_exception: [verification_exception] Reason: Found 1 problem\n",
    "line -1:-1: Unknown index [*,-*]\" name: \"Potential Persistence via Time Provider Modification\" id: \"<i>&lt;redacted&gt;</i>\" rule id: \"14ed1aa9-ebfd-4cf9-a463-0ac59ec55204\" signals index: \".siem-signals-default\""
   ]
  },
  {
   "cell_type": "markdown",
   "id": "d8f8b9c8",
   "metadata": {},
   "source": [
    "### Potential Port Monitor or Print Processor Registration Abuse"
   ]
  },
  {
   "cell_type": "code",
   "execution_count": null,
   "id": "f30735b7",
   "metadata": {},
   "outputs": [
    {
     "data": {
      "text/plain": [
       "[]"
      ]
     },
     "execution_count": null,
     "metadata": {},
     "output_type": "execute_result"
    }
   ],
   "source": [
    "emit('''\n",
    "registry where event.type in (\"creation\", \"change\") and\n",
    "  registry.path : (\"HKLM\\\\SYSTEM\\\\*ControlSet*\\\\Control\\\\Print\\\\Monitors\\\\*\",\n",
    "    \"HLLM\\\\SYSTEM\\\\*ControlSet*\\\\Control\\\\Print\\\\Environments\\\\Windows*\\\\Print Processors\\\\*\") and\n",
    "  registry.data.strings : \"*.dll\" and\n",
    "  /* exclude SYSTEM SID - look for changes by non-SYSTEM user */\n",
    "  not user.id : \"S-1-5-18\"\n",
    "''')"
   ]
  },
  {
   "cell_type": "markdown",
   "id": "44c0a82d",
   "metadata": {},
   "source": [
    "SDE says:\n",
    "> An error occurred during rule execution: message: \"index_not_found_exception: [verification_exception] Reason: Found 1 problem\n",
    "line -1:-1: Unknown index [*,-*]\" name: \"Potential Port Monitor or Print Processor Registration Abuse\" id: \"<i>&lt;redacted&gt;</i>\" rule id: \"8f3e91c7-d791-4704-80a1-42c160d7aa27\" signals index: \".siem-signals-default\""
   ]
  },
  {
   "cell_type": "markdown",
   "id": "2b51fa3e",
   "metadata": {},
   "source": [
    "### Potential PrintNightmare Exploit Registry Modification"
   ]
  },
  {
   "cell_type": "code",
   "execution_count": null,
   "id": "9e590970",
   "metadata": {},
   "outputs": [
    {
     "data": {
      "text/plain": [
       "[{'process': {'name': 'spoolsv.exe'}, 'registry': {'path': 'hklm\\\\system\\\\controlsetxiutknioixtfl\\\\control\\\\print\\\\environments\\\\windowshmxbnleoaagaifq\\\\drivers\\\\version-3\\\\mimikatzeewvpymgznf\\\\data file'}, 'event': {'category': ['registry']}, '@timestamp': 0, 'ecs': {'version': '1.12.1'}}]"
      ]
     },
     "execution_count": null,
     "metadata": {},
     "output_type": "execute_result"
    }
   ],
   "source": [
    "emit('''\n",
    "/* This rule is not compatible with Sysmon due to schema issues */\n",
    "\n",
    "registry where process.name : \"spoolsv.exe\" and\n",
    "  (registry.path : \"HKLM\\\\SYSTEM\\\\ControlSet*\\\\Control\\\\Print\\\\Environments\\\\Windows*\\\\Drivers\\\\Version-3\\\\mimikatz*\\\\Data File\" or\n",
    "  (registry.path : \"HKLM\\\\SYSTEM\\\\ControlSet*\\\\Control\\\\Print\\\\Environments\\\\Windows*\\\\Drivers\\\\Version-3\\\\*\\\\Configuration File\" and\n",
    "   registry.data.strings : (\"kernelbase.dll\", \"ntdll.dll\", \"kernel32.dll\", \"winhttp.dll\", \"user32.dll\")))\n",
    "''')"
   ]
  },
  {
   "cell_type": "markdown",
   "id": "0eae0f9a",
   "metadata": {},
   "source": [
    "SDE says:\n",
    "> An error occurred during rule execution: message: \"verification_exception: [verification_exception] Reason: Found 1 problem\n",
    "line 6:4: Unknown column [registry.data.strings], did you mean [registry.path]?\" name: \"Potential PrintNightmare Exploit Registry Modification\" id: \"<i>&lt;redacted&gt;</i>\" rule id: \"6506c9fd-229e-4722-8f0f-69be759afd2a\" signals index: \".siem-signals-default\""
   ]
  },
  {
   "cell_type": "markdown",
   "id": "0adbe49d",
   "metadata": {},
   "source": [
    "### Potential Privacy Control Bypass via Localhost Secure Copy"
   ]
  },
  {
   "cell_type": "code",
   "execution_count": null,
   "id": "f4ac5499",
   "metadata": {},
   "outputs": [
    {
     "data": {
      "text/plain": [
       "[]"
      ]
     },
     "execution_count": null,
     "metadata": {},
     "output_type": "execute_result"
    }
   ],
   "source": [
    "emit('''\n",
    "process where event.type in (\"start\", \"process_started\") and \n",
    " process.name:\"scp\" and\n",
    " process.args:\"StrictHostKeyChecking=no\" and \n",
    " process.command_line:(\"scp *localhost:/*\", \"scp *127.0.0.1:/*\") and\n",
    " not process.args:\"vagrant@*127.0.0.1*\"\n",
    "''')"
   ]
  },
  {
   "cell_type": "markdown",
   "id": "aee35963",
   "metadata": {},
   "source": [
    "SDE says:\n",
    "> An error occurred during rule execution: message: \"index_not_found_exception: [verification_exception] Reason: Found 1 problem\n",
    "line -1:-1: Unknown index [*,-*]\" name: \"Potential Privacy Control Bypass via Localhost Secure Copy\" id: \"<i>&lt;redacted&gt;</i>\" rule id: \"c02c8b9f-5e1d-463c-a1b0-04edcdfe1a3d\" signals index: \".siem-signals-default\""
   ]
  },
  {
   "cell_type": "markdown",
   "id": "59fdb1ea",
   "metadata": {},
   "source": [
    "### Potential SharpRDP Behavior"
   ]
  },
  {
   "cell_type": "code",
   "execution_count": null,
   "id": "4f2d3e0a",
   "metadata": {},
   "outputs": [
    {
     "data": {
      "text/plain": [
       "[]"
      ]
     },
     "execution_count": null,
     "metadata": {},
     "output_type": "execute_result"
    }
   ],
   "source": [
    "emit('''\n",
    "/* Incoming RDP followed by a new RunMRU string value set to cmd, powershell, taskmgr or tsclient, followed by process execution within 1m */\n",
    "\n",
    "sequence by host.id with maxspan=1m\n",
    "  [network where event.type == \"start\" and process.name : \"svchost.exe\" and destination.port == 3389 and \n",
    "   network.direction : (\"incoming\", \"ingress\") and network.transport == \"tcp\" and\n",
    "   source.address != \"127.0.0.1\" and source.address != \"::1\"\n",
    "  ]\n",
    "\n",
    "  [registry where process.name : \"explorer.exe\" and \n",
    "   registry.path : (\"HKEY_USERS\\\\*\\\\Software\\\\Microsoft\\\\Windows\\\\CurrentVersion\\\\Explorer\\\\RunMRU\\\\*\") and\n",
    "   registry.data.strings : (\"cmd.exe*\", \"powershell.exe*\", \"taskmgr*\", \"\\\\\\\\tsclient\\\\*.exe\\\\*\")\n",
    "  ]\n",
    "\n",
    "  [process where event.type in (\"start\", \"process_started\") and\n",
    "   (process.parent.name : (\"cmd.exe\", \"powershell.exe\", \"taskmgr.exe\") or process.args : (\"\\\\\\\\tsclient\\\\*.exe\")) and \n",
    "   not process.name : \"conhost.exe\"\n",
    "   ]\n",
    "''')"
   ]
  },
  {
   "cell_type": "markdown",
   "id": "6d5d1d80",
   "metadata": {},
   "source": [
    "SDE says:\n",
    "> An error occurred during rule execution: message: \"index_not_found_exception: [verification_exception] Reason: Found 1 problem\n",
    "line -1:-1: Unknown index [*,-*]\" name: \"Potential SharpRDP Behavior\" id: \"<i>&lt;redacted&gt;</i>\" rule id: \"8c81e506-6e82-4884-9b9a-75d3d252f967\" signals index: \".siem-signals-default\""
   ]
  },
  {
   "cell_type": "markdown",
   "id": "52b23042",
   "metadata": {},
   "source": [
    "### Privilege Escalation via Windir Environment Variable"
   ]
  },
  {
   "cell_type": "code",
   "execution_count": null,
   "id": "c8634d89",
   "metadata": {},
   "outputs": [
    {
     "data": {
      "text/plain": [
       "[]"
      ]
     },
     "execution_count": null,
     "metadata": {},
     "output_type": "execute_result"
    }
   ],
   "source": [
    "emit('''\n",
    "registry where registry.path : (\"HKEY_USERS\\\\*\\\\Environment\\\\windir\", \"HKEY_USERS\\\\*\\\\Environment\\\\systemroot\") and \n",
    " not registry.data.strings : (\"C:\\\\windows\", \"%SystemRoot%\")\n",
    "''')"
   ]
  },
  {
   "cell_type": "markdown",
   "id": "ea514e70",
   "metadata": {},
   "source": [
    "SDE says:\n",
    "> An error occurred during rule execution: message: \"index_not_found_exception: [verification_exception] Reason: Found 1 problem\n",
    "line -1:-1: Unknown index [*,-*]\" name: \"Privilege Escalation via Windir Environment Variable\" id: \"<i>&lt;redacted&gt;</i>\" rule id: \"d563aaba-2e72-462b-8658-3e5ea22db3a6\" signals index: \".siem-signals-default\""
   ]
  },
  {
   "cell_type": "markdown",
   "id": "b9df3a29",
   "metadata": {},
   "source": [
    "### Prompt for Credentials with OSASCRIPT"
   ]
  },
  {
   "cell_type": "code",
   "execution_count": null,
   "id": "6d856c54",
   "metadata": {},
   "outputs": [
    {
     "data": {
      "text/plain": [
       "[]"
      ]
     },
     "execution_count": null,
     "metadata": {},
     "output_type": "execute_result"
    }
   ],
   "source": [
    "emit('''\n",
    "process where event.type in (\"start\", \"process_started\") and process.name : \"osascript\" and\n",
    " process.command_line : \"osascript*display dialog*password*\"\n",
    "''')"
   ]
  },
  {
   "cell_type": "markdown",
   "id": "5c58b938",
   "metadata": {},
   "source": [
    "SDE says:\n",
    "> An error occurred during rule execution: message: \"index_not_found_exception: [verification_exception] Reason: Found 1 problem\n",
    "line -1:-1: Unknown index [*,-*]\" name: \"Prompt for Credentials with OSASCRIPT\" id: \"<i>&lt;redacted&gt;</i>\" rule id: \"38948d29-3d5d-42e3-8aec-be832aaaf8eb\" signals index: \".siem-signals-default\""
   ]
  },
  {
   "cell_type": "markdown",
   "id": "d0bd4604",
   "metadata": {},
   "source": [
    "### RDP Enabled via Registry"
   ]
  },
  {
   "cell_type": "code",
   "execution_count": null,
   "id": "3f2043ef",
   "metadata": {},
   "outputs": [
    {
     "data": {
      "text/plain": [
       "[]"
      ]
     },
     "execution_count": null,
     "metadata": {},
     "output_type": "execute_result"
    }
   ],
   "source": [
    "emit('''\n",
    "registry where\n",
    "registry.path : \"HKLM\\\\SYSTEM\\\\ControlSet*\\\\Control\\\\Terminal Server\\\\fDenyTSConnections\" and\n",
    "registry.data.strings == \"0\" and not (process.name : \"svchost.exe\" and user.domain == \"NT AUTHORITY\") and\n",
    "not process.executable : \"C:\\\\Windows\\\\System32\\\\SystemPropertiesRemote.exe\"\n",
    "''')"
   ]
  },
  {
   "cell_type": "markdown",
   "id": "e300f6d1",
   "metadata": {},
   "source": [
    "SDE says:\n",
    "> An error occurred during rule execution: message: \"index_not_found_exception: [verification_exception] Reason: Found 1 problem\n",
    "line -1:-1: Unknown index [*,-*]\" name: \"RDP Enabled via Registry\" id: \"<i>&lt;redacted&gt;</i>\" rule id: \"58aa72ca-d968-4f34-b9f7-bea51d75eb50\" signals index: \".siem-signals-default\""
   ]
  },
  {
   "cell_type": "markdown",
   "id": "389133c7",
   "metadata": {},
   "source": [
    "### SIP Provider Modification"
   ]
  },
  {
   "cell_type": "code",
   "execution_count": null,
   "id": "1cca9c0c",
   "metadata": {},
   "outputs": [
    {
     "data": {
      "text/plain": [
       "[]"
      ]
     },
     "execution_count": null,
     "metadata": {},
     "output_type": "execute_result"
    }
   ],
   "source": [
    "emit('''\n",
    "registry where event.type:\"change\" and\n",
    "  registry.path: (\n",
    "    \"HKLM\\\\SOFTWARE\\\\Microsoft\\\\Cryptography\\\\OID\\\\EncodingType 0\\\\CryptSIPDllPutSignedDataMsg\\\\{*}\\\\Dll\",\n",
    "    \"HKLM\\\\SOFTWARE\\\\WOW6432Node\\\\Microsoft\\\\Cryptography\\\\OID\\\\EncodingType 0\\\\CryptSIPDllPutSignedDataMsg\\\\{*}\\\\Dll\",\n",
    "    \"HKLM\\\\SOFTWARE\\\\Microsoft\\\\Cryptography\\\\Providers\\\\Trust\\\\FinalPolicy\\\\{*}\\\\$Dll\",\n",
    "    \"HKLM\\\\SOFTWARE\\\\WOW6432Node\\\\Microsoft\\\\Cryptography\\\\Providers\\\\Trust\\\\FinalPolicy\\\\{*}\\\\$Dll\"\n",
    "    ) and\n",
    "  registry.data.strings:\"*.dll\"\n",
    "''')"
   ]
  },
  {
   "cell_type": "markdown",
   "id": "3fde9007",
   "metadata": {},
   "source": [
    "SDE says:\n",
    "> An error occurred during rule execution: message: \"index_not_found_exception: [verification_exception] Reason: Found 1 problem\n",
    "line -1:-1: Unknown index [*,-*]\" name: \"SIP Provider Modification\" id: \"<i>&lt;redacted&gt;</i>\" rule id: \"f2c7b914-eda3-40c2-96ac-d23ef91776ca\" signals index: \".siem-signals-default\""
   ]
  },
  {
   "cell_type": "markdown",
   "id": "100da63f",
   "metadata": {},
   "source": [
    "### SUNBURST Command and Control Activity"
   ]
  },
  {
   "cell_type": "code",
   "execution_count": null,
   "id": "a6bb859e",
   "metadata": {},
   "outputs": [
    {
     "data": {
      "text/plain": [
       "[]"
      ]
     },
     "execution_count": null,
     "metadata": {},
     "output_type": "execute_result"
    }
   ],
   "source": [
    "emit('''\n",
    "network where event.type == \"protocol\" and network.protocol == \"http\" and\n",
    "  process.name : (\"ConfigurationWizard.exe\",\n",
    "                  \"NetFlowService.exe\",\n",
    "                  \"NetflowDatabaseMaintenance.exe\",\n",
    "                  \"SolarWinds.Administration.exe\",\n",
    "                  \"SolarWinds.BusinessLayerHost.exe\",\n",
    "                  \"SolarWinds.BusinessLayerHostx64.exe\",\n",
    "                  \"SolarWinds.Collector.Service.exe\",\n",
    "                  \"SolarwindsDiagnostics.exe\") and\n",
    "  (http.request.body.content : \"*/swip/Upload.ashx*\" and http.request.body.content : (\"POST*\", \"PUT*\")) or\n",
    "  (http.request.body.content : (\"*/swip/SystemDescription*\", \"*/swip/Events*\") and http.request.body.content : (\"GET*\", \"HEAD*\")) and\n",
    "  not http.request.body.content : \"*solarwinds.com*\"\n",
    "''')"
   ]
  },
  {
   "cell_type": "markdown",
   "id": "92ef168a",
   "metadata": {},
   "source": [
    "SDE says:\n",
    "> An error occurred during rule execution: message: \"index_not_found_exception: [verification_exception] Reason: Found 1 problem\n",
    "line -1:-1: Unknown index [*,-*]\" name: \"SUNBURST Command and Control Activity\" id: \"<i>&lt;redacted&gt;</i>\" rule id: \"22599847-5d13-48cb-8872-5796fee8692b\" signals index: \".siem-signals-default\""
   ]
  },
  {
   "cell_type": "markdown",
   "id": "1e4a927f",
   "metadata": {},
   "source": [
    "### Scheduled Tasks AT Command Enabled"
   ]
  },
  {
   "cell_type": "code",
   "execution_count": null,
   "id": "3202eb57",
   "metadata": {},
   "outputs": [
    {
     "data": {
      "text/plain": [
       "[]"
      ]
     },
     "execution_count": null,
     "metadata": {},
     "output_type": "execute_result"
    }
   ],
   "source": [
    "emit('''\n",
    "registry where \n",
    " registry.path : \"HKLM\\\\SOFTWARE\\\\Microsoft\\\\Windows NT\\\\CurrentVersion\\\\Schedule\\\\Configuration\\\\EnableAt\" and registry.data.strings == \"1\"\n",
    "''')"
   ]
  },
  {
   "cell_type": "markdown",
   "id": "76cde8f9",
   "metadata": {},
   "source": [
    "SDE says:\n",
    "> An error occurred during rule execution: message: \"index_not_found_exception: [verification_exception] Reason: Found 1 problem\n",
    "line -1:-1: Unknown index [*,-*]\" name: \"Scheduled Tasks AT Command Enabled\" id: \"<i>&lt;redacted&gt;</i>\" rule id: \"9aa0e1f6-52ce-42e1-abb3-09657cee2698\" signals index: \".siem-signals-default\""
   ]
  },
  {
   "cell_type": "markdown",
   "id": "9d29c162",
   "metadata": {},
   "source": [
    "### SolarWinds Process Disabling Services via Registry"
   ]
  },
  {
   "cell_type": "code",
   "execution_count": null,
   "id": "51ec7933",
   "metadata": {},
   "outputs": [
    {
     "data": {
      "text/plain": [
       "[]"
      ]
     },
     "execution_count": null,
     "metadata": {},
     "output_type": "execute_result"
    }
   ],
   "source": [
    "emit('''\n",
    "registry where registry.path : \"HKLM\\\\SYSTEM\\\\*ControlSet*\\\\Services\\\\*\\\\Start\" and registry.data.strings == \"4\" and\n",
    " process.name : (\n",
    "     \"SolarWinds.BusinessLayerHost*.exe\", \n",
    "     \"ConfigurationWizard*.exe\", \n",
    "     \"NetflowDatabaseMaintenance*.exe\", \n",
    "     \"NetFlowService*.exe\", \n",
    "     \"SolarWinds.Administration*.exe\", \n",
    "     \"SolarWinds.Collector.Service*.exe\" , \n",
    "     \"SolarwindsDiagnostics*.exe\")\n",
    "''')"
   ]
  },
  {
   "cell_type": "markdown",
   "id": "91005ee2",
   "metadata": {},
   "source": [
    "SDE says:\n",
    "> An error occurred during rule execution: message: \"index_not_found_exception: [verification_exception] Reason: Found 1 problem\n",
    "line -1:-1: Unknown index [*,-*]\" name: \"SolarWinds Process Disabling Services via Registry\" id: \"<i>&lt;redacted&gt;</i>\" rule id: \"b9960fef-82c6-4816-befa-44745030e917\" signals index: \".siem-signals-default\""
   ]
  },
  {
   "cell_type": "markdown",
   "id": "dafdfd46",
   "metadata": {},
   "source": [
    "### Startup or Run Key Registry Modification"
   ]
  },
  {
   "cell_type": "code",
   "execution_count": null,
   "id": "745a4c5f",
   "metadata": {},
   "outputs": [
    {
     "data": {
      "text/plain": [
       "[]"
      ]
     },
     "execution_count": null,
     "metadata": {},
     "output_type": "execute_result"
    }
   ],
   "source": [
    "emit('''\n",
    "registry where registry.data.strings != null and\n",
    " registry.path : (\n",
    "     /* Machine Hive */\n",
    "     \"HKLM\\\\Software\\\\Microsoft\\\\Windows\\\\CurrentVersion\\\\Run\\\\*\", \n",
    "     \"HKLM\\\\Software\\\\Microsoft\\\\Windows\\\\CurrentVersion\\\\RunOnce\\\\*\", \n",
    "     \"HKLM\\\\Software\\\\Microsoft\\\\Windows\\\\CurrentVersion\\\\RunOnceEx\\\\*\",\n",
    "     \"HKLM\\\\Software\\\\Microsoft\\\\Windows\\\\CurrentVersion\\\\Policies\\\\Explorer\\\\Run\\\\*\", \n",
    "     \"HKLM\\\\Software\\\\Microsoft\\\\Windows NT\\\\CurrentVersion\\\\Winlogon\\\\Shell\\\\*\",   \n",
    "     /* Users Hive */\n",
    "     \"HKEY_USERS\\\\*\\\\Software\\\\Microsoft\\\\Windows\\\\CurrentVersion\\\\Run\\\\*\", \n",
    "     \"HKEY_USERS\\\\*\\\\Software\\\\Microsoft\\\\Windows\\\\CurrentVersion\\\\RunOnce\\\\*\", \n",
    "     \"HKEY_USERS\\\\*\\\\Software\\\\Microsoft\\\\Windows\\\\CurrentVersion\\\\RunOnceEx\\\\*\",\n",
    "     \"HKEY_USERS\\\\*\\\\Software\\\\Microsoft\\\\Windows\\\\CurrentVersion\\\\Policies\\\\Explorer\\\\Run\\\\*\", \n",
    "     \"HKEY_USERS\\\\*\\\\Software\\\\Microsoft\\\\Windows NT\\\\CurrentVersion\\\\Winlogon\\\\Shell\\\\*\"\n",
    "     ) and\n",
    "  /* add common legitimate changes without being too restrictive as this is one of the most abused AESPs */\n",
    "  not registry.data.strings : \"ctfmon.exe /n\" and\n",
    "  not (registry.value : \"Application Restart #*\" and process.name : \"csrss.exe\") and\n",
    "  user.id not in (\"S-1-5-18\", \"S-1-5-19\", \"S-1-5-20\") and\n",
    "  not registry.data.strings : (\"?:\\\\Program Files\\\\*.exe\", \"?:\\\\Program Files (x86)\\\\*.exe\") and\n",
    "  not process.executable : (\"?:\\\\Windows\\\\System32\\\\msiexec.exe\", \"?:\\\\Windows\\\\SysWOW64\\\\msiexec.exe\") and\n",
    "  not (process.name : \"OneDriveSetup.exe\" and\n",
    "       registry.value : (\"Delete Cached Standalone Update Binary\", \"Delete Cached Update Binary\", \"amd64\", \"Uninstall *\") and\n",
    "       registry.data.strings : \"?:\\\\Windows\\\\system32\\\\cmd.exe /q /c * \\\"?:\\\\Users\\\\*\\\\AppData\\\\Local\\\\Microsoft\\\\OneDrive\\\\*\\\"\")\n",
    "''')"
   ]
  },
  {
   "cell_type": "markdown",
   "id": "280465e8",
   "metadata": {},
   "source": [
    "SDE says:\n",
    "> An error occurred during rule execution: message: \"index_not_found_exception: [verification_exception] Reason: Found 1 problem\n",
    "line -1:-1: Unknown index [*,-*]\" name: \"Startup or Run Key Registry Modification\" id: \"<i>&lt;redacted&gt;</i>\" rule id: \"97fc44d3-8dae-4019-ae83-298c3015600f\" signals index: \".siem-signals-default\""
   ]
  },
  {
   "cell_type": "markdown",
   "id": "92bb52ca",
   "metadata": {},
   "source": [
    "### Suspicious Browser Child Process"
   ]
  },
  {
   "cell_type": "code",
   "execution_count": null,
   "id": "26c0a2b6",
   "metadata": {},
   "outputs": [
    {
     "data": {
      "text/plain": [
       "[]"
      ]
     },
     "execution_count": null,
     "metadata": {},
     "output_type": "execute_result"
    }
   ],
   "source": [
    "emit('''\n",
    "process where event.type in (\"start\", \"process_started\") and\n",
    "  process.parent.name : (\"Google Chrome\", \"Google Chrome Helper*\", \"firefox\", \"Opera\", \"Safari\", \"com.apple.WebKit.WebContent\", \"Microsoft Edge\") and\n",
    "  process.name : (\"sh\", \"bash\", \"dash\", \"ksh\", \"tcsh\", \"zsh\", \"curl\", \"wget\", \"python*\", \"perl*\", \"php*\", \"osascript\", \"pwsh\") and \n",
    "  process.command_line != null and \n",
    "  not process.args : \n",
    "    ( \n",
    "      \"/Library/Application Support/Microsoft/MAU*/Microsoft AutoUpdate.app/Contents/MacOS/msupdate\", \n",
    "      \"hw.model\", \n",
    "      \"IOPlatformExpertDevice\", \n",
    "      \"/Volumes/Google Chrome/Google Chrome.app/Contents/Frameworks/*/Resources/install.sh\",\n",
    "      \"--defaults-torrc\", \n",
    "      \"Chrome.app\", \n",
    "      \"Framework.framework/Versions/*/Resources/keystone_promote_preflight.sh\", \n",
    "      \"/Users/*/Library/Application Support/Google/Chrome/recovery/*/ChromeRecovery\", \n",
    "      \"$DISPLAY\", \n",
    "      \"GIO_LAUNCHED_DESKTOP_FILE_PID=$$\"\n",
    "    )\n",
    "''')"
   ]
  },
  {
   "cell_type": "markdown",
   "id": "a6191619",
   "metadata": {},
   "source": [
    "SDE says:\n",
    "> An error occurred during rule execution: message: \"index_not_found_exception: [verification_exception] Reason: Found 1 problem\n",
    "line -1:-1: Unknown index [*,-*]\" name: \"Suspicious Browser Child Process\" id: \"<i>&lt;redacted&gt;</i>\" rule id: \"080bc66a-5d56-4d1f-8071-817671716db9\" signals index: \".siem-signals-default\""
   ]
  },
  {
   "cell_type": "markdown",
   "id": "7bd78a66",
   "metadata": {},
   "source": [
    "### Suspicious DLL Loaded for Persistence or Privilege Escalation"
   ]
  },
  {
   "cell_type": "code",
   "execution_count": null,
   "id": "f5e577b0",
   "metadata": {},
   "outputs": [
    {
     "data": {
      "text/plain": [
       "[{'dll': {'name': 'wptsextensions.dll', 'code_signature': {'subject_name': 'FyX'}}, 'event': {'category': ['library']}, '@timestamp': 0, 'ecs': {'version': '1.12.1'}}]"
      ]
     },
     "execution_count": null,
     "metadata": {},
     "output_type": "execute_result"
    }
   ],
   "source": [
    "emit('''\n",
    "library where dll.name :\n",
    "  (\n",
    "  \"wlbsctrl.dll\",\n",
    "  \"wbemcomn.dll\",\n",
    "  \"WptsExtensions.dll\",\n",
    "  \"Tsmsisrv.dll\",\n",
    "  \"TSVIPSrv.dll\",\n",
    "  \"Msfte.dll\",\n",
    "  \"wow64log.dll\",\n",
    "  \"WindowsCoreDeviceInfo.dll\",\n",
    "  \"Ualapi.dll\",\n",
    "  \"wlanhlp.dll\",\n",
    "  \"phoneinfo.dll\",\n",
    "  \"EdgeGdi.dll\",\n",
    "  \"cdpsgshims.dll\",\n",
    "  \"windowsperformancerecordercontrol.dll\",\n",
    "  \"diagtrack_win.dll\"\n",
    "  ) and \n",
    "not (dll.code_signature.subject_name : (\"Microsoft Windows\", \"Microsoft Corporation\") and dll.code_signature.status : \"trusted\")\n",
    "''')"
   ]
  },
  {
   "cell_type": "markdown",
   "id": "69ed7f20",
   "metadata": {},
   "source": [
    "SDE says:\n",
    "> An error occurred during rule execution: message: \"verification_exception: [verification_exception] Reason: Found 1 problem\n",
    "line 19:91: Unknown column [dll.code_signature.status], did you mean any of [dll.code_signature.subject_name, process.code_signature.trusted, process.code_signature.subject_name]?\" name: \"Suspicious DLL Loaded for Persistence or Privilege Escalation\" id: \"<i>&lt;redacted&gt;</i>\" rule id: \"bfeaf89b-a2a7-48a3-817f-e41829dc61ee\" signals index: \".siem-signals-default\""
   ]
  },
  {
   "cell_type": "markdown",
   "id": "32a01a41",
   "metadata": {},
   "source": [
    "### Suspicious Execution - Short Program Name"
   ]
  },
  {
   "cell_type": "code",
   "execution_count": null,
   "id": "808453f6",
   "metadata": {},
   "outputs": [
    {
     "data": {
      "text/plain": [
       "[]"
      ]
     },
     "execution_count": null,
     "metadata": {},
     "output_type": "execute_result"
    }
   ],
   "source": [
    "emit('''\n",
    "process where event.type in (\"start\", \"process_started\") and length(process.name) > 0 and\n",
    " length(process.name) == 5 and host.os.name == \"Windows\" and length(process.pe.original_file_name) > 5\n",
    "''')"
   ]
  },
  {
   "cell_type": "markdown",
   "id": "f6c7ab3f",
   "metadata": {},
   "source": [
    "SDE says:\n",
    "> An error occurred during rule execution: message: \"index_not_found_exception: [verification_exception] Reason: Found 1 problem\n",
    "line -1:-1: Unknown index [*,-*]\" name: \"Suspicious Execution - Short Program Name\" id: \"<i>&lt;redacted&gt;</i>\" rule id: \"17c7f6a5-5bc9-4e1f-92bf-13632d24384d\" signals index: \".siem-signals-default\""
   ]
  },
  {
   "cell_type": "markdown",
   "id": "21ee40bc",
   "metadata": {},
   "source": [
    "### Suspicious ImagePath Service Creation"
   ]
  },
  {
   "cell_type": "code",
   "execution_count": null,
   "id": "5e5ef630",
   "metadata": {},
   "outputs": [
    {
     "data": {
      "text/plain": [
       "[]"
      ]
     },
     "execution_count": null,
     "metadata": {},
     "output_type": "execute_result"
    }
   ],
   "source": [
    "emit('''\n",
    "registry where registry.path : \"HKLM\\\\SYSTEM\\\\ControlSet*\\\\Services\\\\*\\\\ImagePath\" and\n",
    " /* add suspicious registry ImagePath values here */\n",
    " registry.data.strings : (\"%COMSPEC%*\", \"*\\\\.\\\\pipe\\\\*\")\n",
    "''')"
   ]
  },
  {
   "cell_type": "markdown",
   "id": "0f311ca9",
   "metadata": {},
   "source": [
    "SDE says:\n",
    "> An error occurred during rule execution: message: \"index_not_found_exception: [verification_exception] Reason: Found 1 problem\n",
    "line -1:-1: Unknown index [*,-*]\" name: \"Suspicious ImagePath Service Creation\" id: \"<i>&lt;redacted&gt;</i>\" rule id: \"36a8e048-d888-4f61-a8b9-0f9e2e40f317\" signals index: \".siem-signals-default\""
   ]
  },
  {
   "cell_type": "markdown",
   "id": "c65bbad5",
   "metadata": {},
   "source": [
    "### Suspicious PowerShell Engine ImageLoad"
   ]
  },
  {
   "cell_type": "code",
   "execution_count": null,
   "id": "f937b2dc",
   "metadata": {},
   "outputs": [
    {
     "data": {
      "text/plain": [
       "[]"
      ]
     },
     "execution_count": null,
     "metadata": {},
     "output_type": "execute_result"
    }
   ],
   "source": [
    "emit('''\n",
    "library where dll.name : (\"System.Management.Automation.ni.dll\", \"System.Management.Automation.dll\") and\n",
    "/* add false positives relevant to your environment here */\n",
    "not process.executable : (\"C:\\\\Windows\\\\System32\\\\RemoteFXvGPUDisablement.exe\", \"C:\\\\Windows\\\\System32\\\\sdiagnhost.exe\") and\n",
    "not process.executable regex~ \"\"\"C:\\\\Program Files( \\(x86\\))?\\\\*\\.exe\"\"\" and\n",
    "  not process.name :\n",
    "  (\n",
    "    \"Altaro.SubAgent.exe\",\n",
    "    \"AppV_Manage.exe\",\n",
    "    \"azureadconnect.exe\",\n",
    "    \"CcmExec.exe\",\n",
    "    \"configsyncrun.exe\",\n",
    "    \"choco.exe\",\n",
    "    \"ctxappvservice.exe\",\n",
    "    \"DVLS.Console.exe\",\n",
    "    \"edgetransport.exe\",\n",
    "    \"exsetup.exe\",\n",
    "    \"forefrontactivedirectoryconnector.exe\",\n",
    "    \"InstallUtil.exe\",\n",
    "    \"JenkinsOnDesktop.exe\",\n",
    "    \"Microsoft.EnterpriseManagement.ServiceManager.UI.Console.exe\",\n",
    "    \"mmc.exe\",\n",
    "    \"mscorsvw.exe\",\n",
    "    \"msexchangedelivery.exe\",\n",
    "    \"msexchangefrontendtransport.exe\",\n",
    "    \"msexchangehmworker.exe\",\n",
    "    \"msexchangesubmission.exe\",\n",
    "    \"msiexec.exe\",\n",
    "    \"MsiExec.exe\",\n",
    "    \"noderunner.exe\",\n",
    "    \"NServiceBus.Host.exe\",\n",
    "    \"NServiceBus.Host32.exe\",\n",
    "    \"NServiceBus.Hosting.Azure.HostProcess.exe\",\n",
    "    \"OuiGui.WPF.exe\",\n",
    "    \"powershell.exe\",\n",
    "    \"powershell_ise.exe\",\n",
    "    \"pwsh.exe\",\n",
    "    \"SCCMCliCtrWPF.exe\",\n",
    "    \"ScriptEditor.exe\",\n",
    "    \"ScriptRunner.exe\",\n",
    "    \"sdiagnhost.exe\",\n",
    "    \"servermanager.exe\",\n",
    "    \"setup100.exe\",\n",
    "    \"ServiceHub.VSDetouredHost.exe\",\n",
    "    \"SPCAF.Client.exe\",\n",
    "    \"SPCAF.SettingsEditor.exe\",\n",
    "    \"SQLPS.exe\",\n",
    "    \"telemetryservice.exe\",\n",
    "    \"UMWorkerProcess.exe\",\n",
    "    \"w3wp.exe\",\n",
    "    \"wsmprovhost.exe\"\n",
    "  )\n",
    "''')"
   ]
  },
  {
   "cell_type": "markdown",
   "id": "4feeeac4",
   "metadata": {},
   "source": [
    "SDE says:\n",
    "> An error occurred during rule execution: message: \"index_not_found_exception: [verification_exception] Reason: Found 1 problem\n",
    "line -1:-1: Unknown index [*,-*]\" name: \"Suspicious PowerShell Engine ImageLoad\" id: \"<i>&lt;redacted&gt;</i>\" rule id: \"852c1f19-68e8-43a6-9dce-340771fe1be3\" signals index: \".siem-signals-default\""
   ]
  },
  {
   "cell_type": "markdown",
   "id": "c3f807eb",
   "metadata": {},
   "source": [
    "### Suspicious Print Spooler Point and Print DLL"
   ]
  },
  {
   "cell_type": "code",
   "execution_count": null,
   "id": "e5c5d546",
   "metadata": {},
   "outputs": [
    {
     "data": {
      "text/plain": [
       "[]"
      ]
     },
     "execution_count": null,
     "metadata": {},
     "output_type": "execute_result"
    }
   ],
   "source": [
    "emit('''\n",
    "sequence by host.id with maxspan=30s\n",
    "[registry where\n",
    " registry.path : \"HKLM\\\\SOFTWARE\\\\Microsoft\\\\Windows NT\\\\CurrentVersion\\\\Print\\\\Printers\\\\*\\\\SpoolDirectory\" and\n",
    " registry.data.strings : \"C:\\\\Windows\\\\System32\\\\spool\\\\drivers\\\\x64\\\\4\"]\n",
    "[registry where\n",
    " registry.path : \"HKLM\\\\SOFTWARE\\\\Microsoft\\\\Windows NT\\\\CurrentVersion\\\\Print\\\\Printers\\\\*\\\\CopyFiles\\\\Payload\\\\Module\" and\n",
    " registry.data.strings : \"C:\\\\Windows\\\\System32\\\\spool\\\\drivers\\\\x64\\\\4\\\\*\"]\n",
    "''')"
   ]
  },
  {
   "cell_type": "markdown",
   "id": "6aa4715e",
   "metadata": {},
   "source": [
    "SDE says:\n",
    "> An error occurred during rule execution: message: \"index_not_found_exception: [verification_exception] Reason: Found 1 problem\n",
    "line -1:-1: Unknown index [*,-*]\" name: \"Suspicious Print Spooler Point and Print DLL\" id: \"<i>&lt;redacted&gt;</i>\" rule id: \"bd7eefee-f671-494e-98df-f01daf9e5f17\" signals index: \".siem-signals-default\""
   ]
  },
  {
   "cell_type": "markdown",
   "id": "61c137d6",
   "metadata": {},
   "source": [
    "### Suspicious Process Access via Direct System Call"
   ]
  },
  {
   "cell_type": "code",
   "execution_count": null,
   "id": "950dbc01",
   "metadata": {},
   "outputs": [
    {
     "data": {
      "text/plain": [
       "[]"
      ]
     },
     "execution_count": null,
     "metadata": {},
     "output_type": "execute_result"
    }
   ],
   "source": [
    "emit('''\n",
    "process where event.code == \"10\" and\n",
    " length(winlog.event_data.CallTrace) > 0 and\n",
    "\n",
    " /* Sysmon CallTrace starting with unknown memory module instead of ntdll which host Windows NT Syscalls */\n",
    " not winlog.event_data.CallTrace : (\"?:\\\\WINDOWS\\\\SYSTEM32\\\\ntdll.dll*\", \"?:\\\\WINDOWS\\\\SysWOW64\\\\ntdll.dll*\")\n",
    "''')"
   ]
  },
  {
   "cell_type": "markdown",
   "id": "3d051510",
   "metadata": {},
   "source": [
    "SDE says:\n",
    "> An error occurred during rule execution: message: \"index_not_found_exception: [verification_exception] Reason: Found 1 problem\n",
    "line -1:-1: Unknown index [*,-*]\" name: \"Suspicious Process Access via Direct System Call\" id: \"<i>&lt;redacted&gt;</i>\" rule id: \"2dd480be-1263-4d9c-8672-172928f6789a\" signals index: \".siem-signals-default\""
   ]
  },
  {
   "cell_type": "markdown",
   "id": "83661777",
   "metadata": {},
   "source": [
    "### Suspicious Startup Shell Folder Modification"
   ]
  },
  {
   "cell_type": "code",
   "execution_count": null,
   "id": "0613f524",
   "metadata": {},
   "outputs": [
    {
     "data": {
      "text/plain": [
       "[]"
      ]
     },
     "execution_count": null,
     "metadata": {},
     "output_type": "execute_result"
    }
   ],
   "source": [
    "emit('''\n",
    "registry where\n",
    " registry.path : (\n",
    "     \"HKLM\\\\Software\\\\Microsoft\\\\Windows\\\\CurrentVersion\\\\Explorer\\\\User Shell Folders\\\\Common Startup\",\n",
    "     \"HKLM\\\\Software\\\\Microsoft\\\\Windows\\\\CurrentVersion\\\\Explorer\\\\Shell Folders\\\\Common Startup\",\n",
    "     \"HKEY_USERS\\\\*\\\\Software\\\\Microsoft\\\\Windows\\\\CurrentVersion\\\\Explorer\\\\User Shell Folders\\\\Startup\",\n",
    "     \"HKEY_USERS\\\\*\\\\Software\\\\Microsoft\\\\Windows\\\\CurrentVersion\\\\Explorer\\\\Shell Folders\\\\Startup\"\n",
    "     ) and\n",
    "  registry.data.strings != null and\n",
    "  /* Normal Startup Folder Paths */\n",
    "  not registry.data.strings : (\n",
    "           \"C:\\\\ProgramData\\\\Microsoft\\\\Windows\\\\Start Menu\\\\Programs\\\\Startup\",\n",
    "           \"%ProgramData%\\\\Microsoft\\\\Windows\\\\Start Menu\\\\Programs\\\\Startup\",\n",
    "           \"%USERPROFILE%\\\\AppData\\\\Roaming\\\\Microsoft\\\\Windows\\\\Start Menu\\\\Programs\\\\Startup\",\n",
    "           \"C:\\\\Users\\\\*\\\\AppData\\\\Roaming\\\\Microsoft\\\\Windows\\\\Start Menu\\\\Programs\\\\Startup\"\n",
    "           )\n",
    "''')"
   ]
  },
  {
   "cell_type": "markdown",
   "id": "a242b63a",
   "metadata": {},
   "source": [
    "SDE says:\n",
    "> An error occurred during rule execution: message: \"index_not_found_exception: [verification_exception] Reason: Found 1 problem\n",
    "line -1:-1: Unknown index [*,-*]\" name: \"Suspicious Startup Shell Folder Modification\" id: \"<i>&lt;redacted&gt;</i>\" rule id: \"c8b150f0-0164-475b-a75e-74b47800a9ff\" signals index: \".siem-signals-default\""
   ]
  },
  {
   "cell_type": "markdown",
   "id": "a28682a4",
   "metadata": {},
   "source": [
    "### Suspicious WMIC XSL Script Execution"
   ]
  },
  {
   "cell_type": "code",
   "execution_count": null,
   "id": "6deeffd4",
   "metadata": {},
   "outputs": [
    {
     "data": {
      "text/plain": [
       "[]"
      ]
     },
     "execution_count": null,
     "metadata": {},
     "output_type": "execute_result"
    }
   ],
   "source": [
    "emit('''\n",
    "sequence by process.entity_id with maxspan = 2m\n",
    "[process where event.type in (\"start\", \"process_started\") and\n",
    "   (process.name : \"WMIC.exe\" or process.pe.original_file_name : \"wmic.exe\") and\n",
    "   process.args : (\"format*:*\", \"/format*:*\", \"*-format*:*\") and\n",
    "   not process.command_line : \"* /format:table *\"]\n",
    "[library where event.type == \"start\" and dll.name : (\"jscript.dll\", \"vbscript.dll\")]\n",
    "''')"
   ]
  },
  {
   "cell_type": "markdown",
   "id": "c67216a0",
   "metadata": {},
   "source": [
    "SDE says:\n",
    "> An error occurred during rule execution: message: \"index_not_found_exception: [verification_exception] Reason: Found 1 problem\n",
    "line -1:-1: Unknown index [*,-*]\" name: \"Suspicious WMIC XSL Script Execution\" id: \"<i>&lt;redacted&gt;</i>\" rule id: \"7f370d54-c0eb-4270-ac5a-9a6020585dc6\" signals index: \".siem-signals-default\""
   ]
  },
  {
   "cell_type": "markdown",
   "id": "e391aadb",
   "metadata": {},
   "source": [
    "### Uncommon Registry Persistence Change"
   ]
  },
  {
   "cell_type": "code",
   "execution_count": null,
   "id": "1185c795",
   "metadata": {},
   "outputs": [
    {
     "data": {
      "text/plain": [
       "[]"
      ]
     },
     "execution_count": null,
     "metadata": {},
     "output_type": "execute_result"
    }
   ],
   "source": [
    "emit('''\n",
    "registry where\n",
    "  /* uncomment once stable length(registry.data.strings) > 0 and */\n",
    " registry.path : (\n",
    "      \"HKLM\\\\SOFTWARE\\\\Microsoft\\\\Windows NT\\\\CurrentVersion\\\\Terminal Server\\\\Install\\\\SOFTWARE\\\\Microsoft\\\\Windows\\\\CurrentVersion\\\\Run\\\\*\",\n",
    "      \"HKLM\\\\SOFTWARE\\\\Microsoft\\\\Windows NT\\\\CurrentVersion\\\\Terminal Server\\\\Install\\\\SOFTWARE\\\\Microsoft\\\\Windows\\\\CurrentVersion\\\\Runonce\\\\*\",\n",
    "      \"HKEY_USERS\\\\*\\\\SOFTWARE\\\\Microsoft\\\\Windows NT\\\\CurrentVersion\\\\Windows\\\\Load\",\n",
    "      \"HKEY_USERS\\\\*\\\\SOFTWARE\\\\Microsoft\\\\Windows NT\\\\CurrentVersion\\\\Windows\\\\Run\",\n",
    "      \"HKLM\\\\SOFTWARE\\\\Microsoft\\\\Windows NT\\\\CurrentVersion\\\\Windows\\\\IconServiceLib\",\n",
    "      \"HKLM\\\\SOFTWARE\\\\Microsoft\\\\Windows NT\\\\CurrentVersion\\\\Winlogon\\\\Shell\",\n",
    "      \"HKEY_USERS\\\\*\\\\SOFTWARE\\\\Microsoft\\\\Windows NT\\\\CurrentVersion\\\\Winlogon\\\\Shell\",\n",
    "      \"HKLM\\\\SOFTWARE\\\\Microsoft\\\\Windows NT\\\\CurrentVersion\\\\Winlogon\\\\AppSetup\",\n",
    "      \"HKLM\\\\SOFTWARE\\\\Microsoft\\\\Windows NT\\\\CurrentVersion\\\\Winlogon\\\\Taskman\",\n",
    "      \"HKLM\\\\SOFTWARE\\\\Microsoft\\\\Windows NT\\\\CurrentVersion\\\\Winlogon\\\\Userinit\",\n",
    "      \"HKLM\\\\SOFTWARE\\\\Microsoft\\\\Windows NT\\\\CurrentVersion\\\\Winlogon\\\\VmApplet\",\n",
    "      \"HKLM\\\\SOFTWARE\\\\Microsoft\\\\Windows\\\\CurrentVersion\\\\Policies\\\\Explorer\\\\Run\\\\*\",\n",
    "      \"HKLM\\\\SOFTWARE\\\\Microsoft\\\\Windows\\\\CurrentVersion\\\\Policies\\\\System\\\\Shell\",\n",
    "      \"HKLM\\\\SOFTWARE\\\\Policies\\\\Microsoft\\\\Windows\\\\System\\\\Scripts\\\\Logoff\\\\Script\",\n",
    "      \"HKLM\\\\SOFTWARE\\\\Policies\\\\Microsoft\\\\Windows\\\\System\\\\Scripts\\\\Logon\\\\Script\",\n",
    "      \"HKLM\\\\SOFTWARE\\\\Policies\\\\Microsoft\\\\Windows\\\\System\\\\Scripts\\\\Shutdown\\\\Script\",\n",
    "      \"HKLM\\\\SOFTWARE\\\\Policies\\\\Microsoft\\\\Windows\\\\System\\\\Scripts\\\\Startup\\\\Script\",\n",
    "      \"HKEY_USERS\\\\*\\\\SOFTWARE\\\\Microsoft\\\\Windows\\\\CurrentVersion\\\\Policies\\\\Explorer\\\\Run\\\\*\",\n",
    "      \"HKEY_USERS\\\\*\\\\SOFTWARE\\\\Microsoft\\\\Windows\\\\CurrentVersion\\\\Policies\\\\System\\\\Shell\",\n",
    "      \"HKEY_USERS\\\\*\\\\SOFTWARE\\\\Policies\\\\Microsoft\\\\Windows\\\\System\\\\Scripts\\\\Logoff\\\\Script\",\n",
    "      \"HKEY_USERS\\\\*\\\\SOFTWARE\\\\Policies\\\\Microsoft\\\\Windows\\\\System\\\\Scripts\\\\Logon\\\\Script\",\n",
    "      \"HKEY_USERS\\\\*\\\\SOFTWARE\\\\Policies\\\\Microsoft\\\\Windows\\\\System\\\\Scripts\\\\Shutdown\\\\Script\",\n",
    "      \"HKEY_USERS\\\\*\\\\SOFTWARE\\\\Policies\\\\Microsoft\\\\Windows\\\\System\\\\Scripts\\\\Startup\\\\Script\",\n",
    "      \"HKLM\\\\SOFTWARE\\\\Microsoft\\\\Active Setup\\\\Installed Components\\\\*\\\\ShellComponent\",\n",
    "      \"HKLM\\\\SOFTWARE\\\\Microsoft\\\\Windows CE Services\\\\AutoStartOnConnect\\\\MicrosoftActiveSync\",\n",
    "      \"HKLM\\\\SOFTWARE\\\\Microsoft\\\\Windows CE Services\\\\AutoStartOnDisconnect\\\\MicrosoftActiveSync\",\n",
    "      \"HKLM\\\\SOFTWARE\\\\Microsoft\\\\Ctf\\\\LangBarAddin\\\\*\\\\FilePath\",\n",
    "      \"HKLM\\\\SOFTWARE\\\\Microsoft\\\\Internet Explorer\\\\Extensions\\\\*\\\\Exec\",\n",
    "      \"HKLM\\\\SOFTWARE\\\\Microsoft\\\\Internet Explorer\\\\Extensions\\\\*\\\\Script\",\n",
    "      \"HKLM\\\\SOFTWARE\\\\Microsoft\\\\Command Processor\\\\Autorun\",\n",
    "      \"HKEY_USERS\\\\*\\\\SOFTWARE\\\\Microsoft\\\\Ctf\\\\LangBarAddin\\\\*\\\\FilePath\",\n",
    "      \"HKEY_USERS\\\\*\\\\SOFTWARE\\\\Microsoft\\\\Internet Explorer\\\\Extensions\\\\*\\\\Exec\",\n",
    "      \"HKEY_USERS\\\\*\\\\SOFTWARE\\\\Microsoft\\\\Internet Explorer\\\\Extensions\\\\*\\\\Script\",\n",
    "      \"HKEY_USERS\\\\*\\\\SOFTWARE\\\\Microsoft\\\\Command Processor\\\\Autorun\",\n",
    "      \"HKLM\\\\SOFTWARE\\\\Microsoft\\\\Windows NT\\\\CurrentVersion\\\\Image File Execution Options\\\\*\\\\VerifierDlls\",\n",
    "      \"HKLM\\\\SOFTWARE\\\\Microsoft\\\\Windows NT\\\\CurrentVersion\\\\Winlogon\\\\GpExtensions\\\\*\\\\DllName\",\n",
    "      \"HKLM\\\\SYSTEM\\\\ControlSet*\\\\Control\\\\SafeBoot\\\\AlternateShell\",\n",
    "      \"HKLM\\\\SYSTEM\\\\ControlSet*\\\\Control\\\\Terminal Server\\\\Wds\\\\rdpwd\\\\StartupPrograms\",\n",
    "      \"HKLM\\\\SYSTEM\\\\ControlSet*\\\\Control\\\\Terminal Server\\\\WinStations\\\\RDP-Tcp\\\\InitialProgram\",\n",
    "      \"HKLM\\\\SYSTEM\\\\ControlSet*\\\\Control\\\\Session Manager\\\\BootExecute\",\n",
    "      \"HKLM\\\\SYSTEM\\\\ControlSet*\\\\Control\\\\Session Manager\\\\SetupExecute\",\n",
    "      \"HKLM\\\\SYSTEM\\\\ControlSet*\\\\Control\\\\Session Manager\\\\Execute\",\n",
    "      \"HKLM\\\\SYSTEM\\\\ControlSet*\\\\Control\\\\Session Manager\\\\S0InitialCommand\",\n",
    "      \"HKLM\\\\SYSTEM\\\\ControlSet*\\\\Control\\\\ServiceControlManagerExtension\",\n",
    "      \"HKLM\\\\SYSTEM\\\\ControlSet*\\\\Control\\\\BootVerificationProgram\\\\ImagePath\",\n",
    "      \"HKLM\\\\SYSTEM\\\\Setup\\\\CmdLine\",\n",
    "      \"HKEY_USERS\\\\*\\\\Environment\\\\UserInitMprLogonScript\") and\n",
    "\n",
    " not registry.data.strings : (\"C:\\\\Windows\\\\system32\\\\userinit.exe\", \"cmd.exe\", \"C:\\\\Program Files (x86)\\\\*.exe\",\n",
    "                              \"C:\\\\Program Files\\\\*.exe\") and\n",
    " not (process.name : \"rundll32.exe\" and registry.path : \"*\\\\Software\\\\Microsoft\\\\Internet Explorer\\\\Extensions\\\\*\\\\Script\") and\n",
    " not process.executable : (\"C:\\\\Windows\\\\System32\\\\msiexec.exe\",\n",
    "                           \"C:\\\\Windows\\\\SysWOW64\\\\msiexec.exe\",\n",
    "                           \"C:\\\\ProgramData\\\\Microsoft\\\\Windows Defender\\\\Platform\\\\*\\\\MsMpEng.exe\",\n",
    "                           \"C:\\\\Program Files\\\\*.exe\",\n",
    "                           \"C:\\\\Program Files (x86)\\\\*.exe\")\n",
    "''')"
   ]
  },
  {
   "cell_type": "markdown",
   "id": "48dd0895",
   "metadata": {},
   "source": [
    "SDE says:\n",
    "> An error occurred during rule execution: message: \"index_not_found_exception: [verification_exception] Reason: Found 1 problem\n",
    "line -1:-1: Unknown index [*,-*]\" name: \"Uncommon Registry Persistence Change\" id: \"<i>&lt;redacted&gt;</i>\" rule id: \"54902e45-3467-49a4-8abc-529f2c8cfb80\" signals index: \".siem-signals-default\""
   ]
  },
  {
   "cell_type": "markdown",
   "id": "187fd8e7",
   "metadata": {},
   "source": [
    "### Unusual Persistence via Services Registry"
   ]
  },
  {
   "cell_type": "code",
   "execution_count": null,
   "id": "c0ff961b",
   "metadata": {},
   "outputs": [
    {
     "data": {
      "text/plain": [
       "[]"
      ]
     },
     "execution_count": null,
     "metadata": {},
     "output_type": "execute_result"
    }
   ],
   "source": [
    "emit('''\n",
    "registry where registry.path : (\"HKLM\\\\SYSTEM\\\\ControlSet*\\\\Services\\\\*\\\\ServiceDLL\", \"HKLM\\\\SYSTEM\\\\ControlSet*\\\\Services\\\\*\\\\ImagePath\") and\n",
    "  not registry.data.strings : (\"?:\\\\windows\\\\system32\\\\Drivers\\\\*.sys\",\n",
    "                               \"\\\\SystemRoot\\\\System32\\\\drivers\\\\*.sys\",\n",
    "                               \"\\\\??\\\\?:\\\\Windows\\\\system32\\\\Drivers\\\\*.SYS\",\n",
    "                               \"system32\\\\DRIVERS\\\\USBSTOR\") and\n",
    "  not (process.name : \"procexp??.exe\" and registry.data.strings : \"?:\\\\*\\\\procexp*.sys\") and\n",
    "  not process.executable : (\"?:\\\\Program Files\\\\*.exe\",\n",
    "                            \"?:\\\\Program Files (x86)\\\\*.exe\",\n",
    "                            \"?:\\\\Windows\\\\System32\\\\svchost.exe\",\n",
    "                            \"?:\\\\Windows\\\\winsxs\\\\*\\\\TiWorker.exe\",\n",
    "                            \"?:\\\\Windows\\\\System32\\\\drvinst.exe\",\n",
    "                            \"?:\\\\Windows\\\\System32\\\\services.exe\",\n",
    "                            \"?:\\\\Windows\\\\System32\\\\msiexec.exe\",\n",
    "                            \"?:\\\\Windows\\\\System32\\\\regsvr32.exe\")\n",
    "''')"
   ]
  },
  {
   "cell_type": "markdown",
   "id": "27033b81",
   "metadata": {},
   "source": [
    "SDE says:\n",
    "> An error occurred during rule execution: message: \"index_not_found_exception: [verification_exception] Reason: Found 1 problem\n",
    "line -1:-1: Unknown index [*,-*]\" name: \"Unusual Persistence via Services Registry\" id: \"<i>&lt;redacted&gt;</i>\" rule id: \"403ef0d3-8259-40c9-a5b6-d48354712e49\" signals index: \".siem-signals-default\""
   ]
  },
  {
   "cell_type": "markdown",
   "id": "ef6c4d1b",
   "metadata": {},
   "source": [
    "### Unusual Print Spooler Child Process"
   ]
  },
  {
   "cell_type": "code",
   "execution_count": null,
   "id": "5ddc6f9d",
   "metadata": {},
   "outputs": [
    {
     "data": {
      "text/plain": [
       "[]"
      ]
     },
     "execution_count": null,
     "metadata": {},
     "output_type": "execute_result"
    }
   ],
   "source": [
    "emit('''\n",
    "process where event.type == \"start\" and\n",
    " process.parent.name : \"spoolsv.exe\" and user.id : \"S-1-5-18\" and\n",
    "\n",
    " /* exclusions for FP control below */\n",
    " not process.name : (\"splwow64.exe\", \"PDFCreator.exe\", \"acrodist.exe\", \"spoolsv.exe\", \"msiexec.exe\", \"route.exe\", \"WerFault.exe\") and\n",
    " not process.command_line : \"*\\\\WINDOWS\\\\system32\\\\spool\\\\DRIVERS*\" and\n",
    " not (process.name : \"net.exe\" and process.command_line : (\"*stop*\", \"*start*\")) and\n",
    " not (process.name : (\"cmd.exe\", \"powershell.exe\") and process.command_line : (\"*.spl*\", \"*\\\\program files*\", \"*route add*\")) and\n",
    " not (process.name : \"netsh.exe\" and process.command_line : (\"*add portopening*\", \"*rule name*\")) and\n",
    " not (process.name : \"regsvr32.exe\" and process.command_line : \"*PrintConfig.dll*\")\n",
    "''')"
   ]
  },
  {
   "cell_type": "markdown",
   "id": "acd76ff2",
   "metadata": {},
   "source": [
    "SDE says:\n",
    "> An error occurred during rule execution: message: \"index_not_found_exception: [verification_exception] Reason: Found 1 problem\n",
    "line -1:-1: Unknown index [*,-*]\" name: \"Unusual Print Spooler Child Process\" id: \"<i>&lt;redacted&gt;</i>\" rule id: \"ee5300a7-7e31-4a72-a258-250abb8b3aa1\" signals index: \".siem-signals-default\""
   ]
  },
  {
   "cell_type": "markdown",
   "id": "ce54578f",
   "metadata": {},
   "source": [
    "### Virtual Private Network Connection Attempt"
   ]
  },
  {
   "cell_type": "code",
   "execution_count": null,
   "id": "998477a4",
   "metadata": {},
   "outputs": [
    {
     "data": {
      "text/plain": [
       "[{'event': {'type': ['start'], 'category': ['process']}, 'process': {'name': 'networksetup', 'args': ['-connectpppoeservice']}, '@timestamp': 0, 'ecs': {'version': '1.12.1'}}]"
      ]
     },
     "execution_count": null,
     "metadata": {},
     "output_type": "execute_result"
    }
   ],
   "source": [
    "emit('''\n",
    "process where event.type in (\"start\", \"process_started\") and\n",
    "  (\n",
    "    (process.name : \"networksetup\" and process.args : \"-connectpppoeservice\") or\n",
    "    (process.name : \"scutil\" and process.args : \"--nc\" and process.args : \"start\") or\n",
    "    (process.name : \"osascript\" and process.command_line : \"osascript*set VPN to service*\")\n",
    "  )\n",
    "''')"
   ]
  },
  {
   "cell_type": "markdown",
   "id": "eb6ce3dd",
   "metadata": {},
   "source": [
    "SDE says:\n",
    "> An error occurred during rule execution: message: \"verification_exception: [verification_exception] Reason: Found 1 problem\n",
    "line 5:37: Unknown column [process.command_line], did you mean any of [process.working_directory, process.entity_id, process.executable, process.name, process.parent.name, process.parent.pid]?\" name: \"Virtual Private Network Connection Attempt\" id: \"<i>&lt;redacted&gt;</i>\" rule id: \"15dacaa0-5b90-466b-acab-63435a59701a\" signals index: \".siem-signals-default\""
   ]
  },
  {
   "cell_type": "markdown",
   "id": "1b75fc67",
   "metadata": {},
   "source": [
    "### Whitespace Padding in Process Command Line"
   ]
  },
  {
   "cell_type": "code",
   "execution_count": null,
   "id": "c106a85f",
   "metadata": {},
   "outputs": [
    {
     "data": {
      "text/plain": [
       "[]"
      ]
     },
     "execution_count": null,
     "metadata": {},
     "output_type": "execute_result"
    }
   ],
   "source": [
    "emit('''\n",
    "process where event.type in (\"start\", \"process_started\") and\n",
    "  process.command_line regex \".*[ ]{20,}.*\" or \n",
    "\n",
    "  /* this will match on 3 or more separate occurrences of 5+ contiguous whitespace characters */\n",
    "  process.command_line regex \".*(.*[ ]{5,}[^ ]*){3,}.*\"\n",
    "''')"
   ]
  },
  {
   "cell_type": "markdown",
   "id": "8cf86e24",
   "metadata": {},
   "source": [
    "SDE says:\n",
    "> An error occurred during rule execution: message: \"index_not_found_exception: [verification_exception] Reason: Found 1 problem\n",
    "line -1:-1: Unknown index [*,-*]\" name: \"Whitespace Padding in Process Command Line\" id: \"<i>&lt;redacted&gt;</i>\" rule id: \"e0dacebe-4311-4d50-9387-b17e89c2e7fd\" signals index: \".siem-signals-default\""
   ]
  },
  {
   "cell_type": "markdown",
   "id": "d38bf987",
   "metadata": {},
   "source": [
    "### Windows Defender Disabled via Registry Modification"
   ]
  },
  {
   "cell_type": "code",
   "execution_count": null,
   "id": "f36b0b59",
   "metadata": {},
   "outputs": [
    {
     "data": {
      "text/plain": [
       "[]"
      ]
     },
     "execution_count": null,
     "metadata": {},
     "output_type": "execute_result"
    }
   ],
   "source": [
    "emit('''\n",
    "registry where event.type in (\"creation\", \"change\") and\n",
    "  ((registry.path:\"HKLM\\\\SOFTWARE\\\\Policies\\\\Microsoft\\\\Windows Defender\\\\DisableAntiSpyware\" and\n",
    "     registry.data.strings:\"1\") or\n",
    "  (registry.path:\"HKLM\\\\System\\\\ControlSet*\\\\Services\\\\WinDefend\\\\Start\" and\n",
    "     registry.data.strings in (\"3\", \"4\")))\n",
    "''')"
   ]
  },
  {
   "cell_type": "markdown",
   "id": "45f8680f",
   "metadata": {},
   "source": [
    "SDE says:\n",
    "> An error occurred during rule execution: message: \"index_not_found_exception: [verification_exception] Reason: Found 1 problem\n",
    "line -1:-1: Unknown index [*,-*]\" name: \"Windows Defender Disabled via Registry Modification\" id: \"<i>&lt;redacted&gt;</i>\" rule id: \"2ffa1f1e-b6db-47fa-994b-1512743847eb\" signals index: \".siem-signals-default\""
   ]
  },
  {
   "cell_type": "markdown",
   "id": "5194fc56",
   "metadata": {},
   "source": [
    "## Rules with too few signals"
   ]
  },
  {
   "cell_type": "markdown",
   "id": "dd296ba4",
   "metadata": {},
   "source": [
    "### Authorization Plugin Modification"
   ]
  },
  {
   "cell_type": "code",
   "execution_count": null,
   "id": "0bacca15",
   "metadata": {},
   "outputs": [
    {
     "data": {
      "text/plain": [
       "[{'event': {'category': ['file'], 'type': ['ZFy']}, 'file': {'path': '/library/security/securityagentplugins/yyfjsviloooh'}, '@timestamp': 0, 'ecs': {'version': '1.12.1'}}]"
      ]
     },
     "execution_count": null,
     "metadata": {},
     "output_type": "execute_result"
    }
   ],
   "source": [
    "emit('''\n",
    "event.category:file and not event.type:deletion and\n",
    "  file.path:(/Library/Security/SecurityAgentPlugins/* and\n",
    "  not /Library/Security/SecurityAgentPlugins/TeamViewerAuthPlugin.bundle/Contents/*)\n",
    "''')"
   ]
  },
  {
   "cell_type": "markdown",
   "id": "2905a7ad",
   "metadata": {},
   "source": [
    "### Azure External Guest User Invitation"
   ]
  },
  {
   "cell_type": "code",
   "execution_count": null,
   "id": "f050a22f",
   "metadata": {},
   "outputs": [
    {
     "data": {
      "text/plain": [
       "[{'event': {'dataset': 'azure.auditlogs', 'outcome': 'Success'}, 'azure': {'auditlogs': {'operation_name': 'Invite external user', 'properties': {'target_resources': {'`*`': {'display_name': 'guest'}}}}}, '@timestamp': 0, 'ecs': {'version': '1.12.1'}}]"
      ]
     },
     "execution_count": null,
     "metadata": {},
     "output_type": "execute_result"
    }
   ],
   "source": [
    "emit('''\n",
    "event.dataset:azure.auditlogs and azure.auditlogs.operation_name:\"Invite external user\" and azure.auditlogs.properties.target_resources.*.display_name:guest and event.outcome:(Success or success)\n",
    "''')"
   ]
  },
  {
   "cell_type": "markdown",
   "id": "ee47f151",
   "metadata": {},
   "source": [
    "### Azure Full Network Packet Capture Detected"
   ]
  },
  {
   "cell_type": "code",
   "execution_count": null,
   "id": "43eac7a0",
   "metadata": {},
   "outputs": [
    {
     "data": {
      "text/plain": [
       "[{'event': {'dataset': 'azure.activitylogs', 'outcome': 'Success'}, 'azure': {'activitylogs': {'operation_name': 'microsoft.network/vcfuyyfjsvilooo/vpnconnections/startpacketcapture/action'}}, '@timestamp': 0, 'ecs': {'version': '1.12.1'}}]"
      ]
     },
     "execution_count": null,
     "metadata": {},
     "output_type": "execute_result"
    }
   ],
   "source": [
    "emit('''\n",
    "event.dataset:azure.activitylogs and azure.activitylogs.operation_name:\n",
    "    (\n",
    "        \"MICROSOFT.NETWORK/*/STARTPACKETCAPTURE/ACTION\" or\n",
    "        \"MICROSOFT.NETWORK/*/VPNCONNECTIONS/STARTPACKETCAPTURE/ACTION\" or\n",
    "        \"MICROSOFT.NETWORK/*/PACKETCAPTURES/WRITE\"\n",
    "    ) and \n",
    "event.outcome:(Success or success)\n",
    "''')"
   ]
  },
  {
   "cell_type": "markdown",
   "id": "f5593bd1",
   "metadata": {},
   "source": [
    "### Azure Global Administrator Role Addition to PIM User"
   ]
  },
  {
   "cell_type": "code",
   "execution_count": null,
   "id": "752927e0",
   "metadata": {},
   "outputs": [
    {
     "data": {
      "text/plain": [
       "[{'event': {'dataset': 'azure.auditlogs', 'outcome': 'Success'}, 'azure': {'auditlogs': {'properties': {'category': 'RoleManagement', 'target_resources': {'`*`': {'display_name': 'Global Administrator'}}}, 'operation_name': 'Add eligible member to role in PIM completed (permanent)'}}, '@timestamp': 0, 'ecs': {'version': '1.12.1'}}]"
      ]
     },
     "execution_count": null,
     "metadata": {},
     "output_type": "execute_result"
    }
   ],
   "source": [
    "emit('''\n",
    "event.dataset:azure.auditlogs and azure.auditlogs.properties.category:RoleManagement and\n",
    "    azure.auditlogs.operation_name:(\"Add eligible member to role in PIM completed (permanent)\" or\n",
    "                                    \"Add member to role in PIM completed (timebound)\") and\n",
    "    azure.auditlogs.properties.target_resources.*.display_name:\"Global Administrator\" and\n",
    "    event.outcome:(Success or success)\n",
    "''')"
   ]
  },
  {
   "cell_type": "markdown",
   "id": "057b9052",
   "metadata": {},
   "source": [
    "### GCP IAM Custom Role Creation"
   ]
  },
  {
   "cell_type": "code",
   "execution_count": null,
   "id": "5b923e97",
   "metadata": {},
   "outputs": [
    {
     "data": {
      "text/plain": [
       "[{'event': {'dataset': 'googlecloud.audit', 'action': 'google.iam.admin.vxiutknioixtfl.createrole', 'outcome': 'success'}, '@timestamp': 0, 'ecs': {'version': '1.12.1'}}]"
      ]
     },
     "execution_count": null,
     "metadata": {},
     "output_type": "execute_result"
    }
   ],
   "source": [
    "emit('''\n",
    "event.dataset:(googlecloud.audit or gcp.audit) and event.action:google.iam.admin.v*.CreateRole and event.outcome:success\n",
    "''')"
   ]
  },
  {
   "cell_type": "markdown",
   "id": "10fca9ac",
   "metadata": {},
   "source": [
    "### GCP IAM Role Deletion"
   ]
  },
  {
   "cell_type": "code",
   "execution_count": null,
   "id": "3e0c0fc8",
   "metadata": {},
   "outputs": [
    {
     "data": {
      "text/plain": [
       "[{'event': {'dataset': 'googlecloud.audit', 'action': 'google.iam.admin.vxiutknioixtfl.deleterole', 'outcome': 'success'}, '@timestamp': 0, 'ecs': {'version': '1.12.1'}}]"
      ]
     },
     "execution_count": null,
     "metadata": {},
     "output_type": "execute_result"
    }
   ],
   "source": [
    "emit('''\n",
    "event.dataset:(googlecloud.audit or gcp.audit) and event.action:google.iam.admin.v*.DeleteRole and event.outcome:success\n",
    "''')"
   ]
  },
  {
   "cell_type": "markdown",
   "id": "8dfd4f86",
   "metadata": {},
   "source": [
    "### GCP IAM Service Account Key Deletion"
   ]
  },
  {
   "cell_type": "code",
   "execution_count": null,
   "id": "721c9f84",
   "metadata": {},
   "outputs": [
    {
     "data": {
      "text/plain": [
       "[{'event': {'dataset': 'googlecloud.audit', 'action': 'google.iam.admin.vxiutknioixtfl.deleteserviceaccountkey', 'outcome': 'success'}, '@timestamp': 0, 'ecs': {'version': '1.12.1'}}]"
      ]
     },
     "execution_count": null,
     "metadata": {},
     "output_type": "execute_result"
    }
   ],
   "source": [
    "emit('''\n",
    "event.dataset:(googlecloud.audit or gcp.audit) and event.action:google.iam.admin.v*.DeleteServiceAccountKey and event.outcome:success\n",
    "''')"
   ]
  },
  {
   "cell_type": "markdown",
   "id": "3e7766c6",
   "metadata": {},
   "source": [
    "### GCP Logging Bucket Deletion"
   ]
  },
  {
   "cell_type": "code",
   "execution_count": null,
   "id": "c2ccdfb1",
   "metadata": {},
   "outputs": [
    {
     "data": {
      "text/plain": [
       "[{'event': {'dataset': 'googlecloud.audit', 'action': 'google.logging.vxiutknioixtfl.configservicevhmxbnleoaagaifq.deletebucket', 'outcome': 'success'}, '@timestamp': 0, 'ecs': {'version': '1.12.1'}}]"
      ]
     },
     "execution_count": null,
     "metadata": {},
     "output_type": "execute_result"
    }
   ],
   "source": [
    "emit('''\n",
    "event.dataset:(googlecloud.audit or gcp.audit) and event.action:google.logging.v*.ConfigServiceV*.DeleteBucket and event.outcome:success\n",
    "''')"
   ]
  },
  {
   "cell_type": "markdown",
   "id": "309c15d0",
   "metadata": {},
   "source": [
    "### GCP Logging Sink Deletion"
   ]
  },
  {
   "cell_type": "code",
   "execution_count": null,
   "id": "7968ea93",
   "metadata": {},
   "outputs": [
    {
     "data": {
      "text/plain": [
       "[{'event': {'dataset': 'googlecloud.audit', 'action': 'google.logging.vxiutknioixtfl.configservicevhmxbnleoaagaifq.deletesink', 'outcome': 'success'}, '@timestamp': 0, 'ecs': {'version': '1.12.1'}}]"
      ]
     },
     "execution_count": null,
     "metadata": {},
     "output_type": "execute_result"
    }
   ],
   "source": [
    "emit('''\n",
    "event.dataset:(googlecloud.audit or gcp.audit) and event.action:google.logging.v*.ConfigServiceV*.DeleteSink and event.outcome:success\n",
    "''')"
   ]
  },
  {
   "cell_type": "markdown",
   "id": "15270e47",
   "metadata": {},
   "source": [
    "### GCP Logging Sink Modification"
   ]
  },
  {
   "cell_type": "code",
   "execution_count": null,
   "id": "33737b65",
   "metadata": {},
   "outputs": [
    {
     "data": {
      "text/plain": [
       "[{'event': {'dataset': 'googlecloud.audit', 'action': 'google.logging.vxiutknioixtfl.configservicevhmxbnleoaagaifq.updatesink', 'outcome': 'success'}, '@timestamp': 0, 'ecs': {'version': '1.12.1'}}]"
      ]
     },
     "execution_count": null,
     "metadata": {},
     "output_type": "execute_result"
    }
   ],
   "source": [
    "emit('''\n",
    "event.dataset:(googlecloud.audit or gcp.audit) and event.action:google.logging.v*.ConfigServiceV*.UpdateSink and event.outcome:success\n",
    "''')"
   ]
  },
  {
   "cell_type": "markdown",
   "id": "d14f4f3b",
   "metadata": {},
   "source": [
    "### GCP Pub/Sub Subscription Creation"
   ]
  },
  {
   "cell_type": "code",
   "execution_count": null,
   "id": "0e62d2ca",
   "metadata": {},
   "outputs": [
    {
     "data": {
      "text/plain": [
       "[{'event': {'dataset': 'googlecloud.audit', 'action': 'google.pubsub.vxiutknioixtfl.subscriber.createsubscription', 'outcome': 'success'}, '@timestamp': 0, 'ecs': {'version': '1.12.1'}}]"
      ]
     },
     "execution_count": null,
     "metadata": {},
     "output_type": "execute_result"
    }
   ],
   "source": [
    "emit('''\n",
    "event.dataset:(googlecloud.audit or gcp.audit) and event.action:google.pubsub.v*.Subscriber.CreateSubscription and event.outcome:success\n",
    "''')"
   ]
  },
  {
   "cell_type": "markdown",
   "id": "58b541be",
   "metadata": {},
   "source": [
    "### GCP Pub/Sub Subscription Deletion"
   ]
  },
  {
   "cell_type": "code",
   "execution_count": null,
   "id": "78a543e0",
   "metadata": {},
   "outputs": [
    {
     "data": {
      "text/plain": [
       "[{'event': {'dataset': 'googlecloud.audit', 'action': 'google.pubsub.vxiutknioixtfl.subscriber.deletesubscription', 'outcome': 'success'}, '@timestamp': 0, 'ecs': {'version': '1.12.1'}}]"
      ]
     },
     "execution_count": null,
     "metadata": {},
     "output_type": "execute_result"
    }
   ],
   "source": [
    "emit('''\n",
    "event.dataset:(googlecloud.audit or gcp.audit) and event.action:google.pubsub.v*.Subscriber.DeleteSubscription and event.outcome:success\n",
    "''')"
   ]
  },
  {
   "cell_type": "markdown",
   "id": "cf51c165",
   "metadata": {},
   "source": [
    "### GCP Pub/Sub Topic Creation"
   ]
  },
  {
   "cell_type": "code",
   "execution_count": null,
   "id": "f3ee1895",
   "metadata": {},
   "outputs": [
    {
     "data": {
      "text/plain": [
       "[{'event': {'dataset': 'googlecloud.audit', 'action': 'google.pubsub.vxiutknioixtfl.publisher.createtopic', 'outcome': 'success'}, '@timestamp': 0, 'ecs': {'version': '1.12.1'}}]"
      ]
     },
     "execution_count": null,
     "metadata": {},
     "output_type": "execute_result"
    }
   ],
   "source": [
    "emit('''\n",
    "event.dataset:(googlecloud.audit or gcp.audit) and event.action:google.pubsub.v*.Publisher.CreateTopic and event.outcome:success\n",
    "''')"
   ]
  },
  {
   "cell_type": "markdown",
   "id": "574bcd64",
   "metadata": {},
   "source": [
    "### GCP Pub/Sub Topic Deletion"
   ]
  },
  {
   "cell_type": "code",
   "execution_count": null,
   "id": "6333403f",
   "metadata": {},
   "outputs": [
    {
     "data": {
      "text/plain": [
       "[{'event': {'dataset': 'googlecloud.audit', 'action': 'google.pubsub.vxiutknioixtfl.publisher.deletetopic', 'outcome': 'success'}, '@timestamp': 0, 'ecs': {'version': '1.12.1'}}]"
      ]
     },
     "execution_count": null,
     "metadata": {},
     "output_type": "execute_result"
    }
   ],
   "source": [
    "emit('''\n",
    "event.dataset:(googlecloud.audit or gcp.audit) and event.action:google.pubsub.v*.Publisher.DeleteTopic and event.outcome:success\n",
    "''')"
   ]
  },
  {
   "cell_type": "markdown",
   "id": "fcf1620a",
   "metadata": {},
   "source": [
    "### GCP Service Account Creation"
   ]
  },
  {
   "cell_type": "code",
   "execution_count": null,
   "id": "a37dd479",
   "metadata": {},
   "outputs": [
    {
     "data": {
      "text/plain": [
       "[{'event': {'dataset': 'googlecloud.audit', 'action': 'google.iam.admin.vxiutknioixtfl.createserviceaccount', 'outcome': 'success'}, '@timestamp': 0, 'ecs': {'version': '1.12.1'}}]"
      ]
     },
     "execution_count": null,
     "metadata": {},
     "output_type": "execute_result"
    }
   ],
   "source": [
    "emit('''\n",
    "event.dataset:(googlecloud.audit or gcp.audit) and event.action:google.iam.admin.v*.CreateServiceAccount and event.outcome:success\n",
    "''')"
   ]
  },
  {
   "cell_type": "markdown",
   "id": "85c85fe2",
   "metadata": {},
   "source": [
    "### GCP Service Account Deletion"
   ]
  },
  {
   "cell_type": "code",
   "execution_count": null,
   "id": "83dc4feb",
   "metadata": {},
   "outputs": [
    {
     "data": {
      "text/plain": [
       "[{'event': {'dataset': 'googlecloud.audit', 'action': 'google.iam.admin.vxiutknioixtfl.deleteserviceaccount', 'outcome': 'success'}, '@timestamp': 0, 'ecs': {'version': '1.12.1'}}]"
      ]
     },
     "execution_count": null,
     "metadata": {},
     "output_type": "execute_result"
    }
   ],
   "source": [
    "emit('''\n",
    "event.dataset:(googlecloud.audit or gcp.audit) and event.action:google.iam.admin.v*.DeleteServiceAccount and event.outcome:success\n",
    "''')"
   ]
  },
  {
   "cell_type": "markdown",
   "id": "e8cf967f",
   "metadata": {},
   "source": [
    "### GCP Service Account Disabled"
   ]
  },
  {
   "cell_type": "code",
   "execution_count": null,
   "id": "1afdcac4",
   "metadata": {},
   "outputs": [
    {
     "data": {
      "text/plain": [
       "[{'event': {'dataset': 'googlecloud.audit', 'action': 'google.iam.admin.vxiutknioixtfl.disableserviceaccount', 'outcome': 'success'}, '@timestamp': 0, 'ecs': {'version': '1.12.1'}}]"
      ]
     },
     "execution_count": null,
     "metadata": {},
     "output_type": "execute_result"
    }
   ],
   "source": [
    "emit('''\n",
    "event.dataset:(googlecloud.audit or gcp.audit) and event.action:google.iam.admin.v*.DisableServiceAccount and event.outcome:success\n",
    "''')"
   ]
  },
  {
   "cell_type": "markdown",
   "id": "22fc9dc4",
   "metadata": {},
   "source": [
    "### GCP Service Account Key Creation"
   ]
  },
  {
   "cell_type": "code",
   "execution_count": null,
   "id": "3e184550",
   "metadata": {},
   "outputs": [
    {
     "data": {
      "text/plain": [
       "[{'event': {'dataset': 'googlecloud.audit', 'action': 'google.iam.admin.vxiutknioixtfl.createserviceaccountkey', 'outcome': 'success'}, '@timestamp': 0, 'ecs': {'version': '1.12.1'}}]"
      ]
     },
     "execution_count": null,
     "metadata": {},
     "output_type": "execute_result"
    }
   ],
   "source": [
    "emit('''\n",
    "event.dataset:(googlecloud.audit or gcp.audit) and event.action:google.iam.admin.v*.CreateServiceAccountKey and event.outcome:success\n",
    "''')"
   ]
  },
  {
   "cell_type": "markdown",
   "id": "f2d07ef7",
   "metadata": {},
   "source": [
    "### LaunchDaemon Creation or Modification and Immediate Loading"
   ]
  },
  {
   "cell_type": "code",
   "execution_count": null,
   "id": "4a451534",
   "metadata": {},
   "outputs": [
    {
     "data": {
      "text/plain": [
       "[{'event': {'type': ['ZFy'], 'category': ['file']}, 'file': {'path': '/system/library/launchdaemons/yyfjsviloooh'}, 'host': {'id': 'mxB'}, '@timestamp': 0, 'ecs': {'version': '1.12.1'}},\n",
       "{'event': {'type': ['start'], 'category': ['process']}, 'process': {'name': 'launchctl', 'args': ['load']}, '@timestamp': 1, 'ecs': {'version': '1.12.1'}, 'host': {'id': 'mxB'}}]"
      ]
     },
     "execution_count": null,
     "metadata": {},
     "output_type": "execute_result"
    }
   ],
   "source": [
    "emit('''\n",
    "sequence by host.id with maxspan=1m\n",
    " [file where event.type != \"deletion\" and file.path in (\"/System/Library/LaunchDaemons/*\", \" /Library/LaunchDaemons/*\")]\n",
    " [process where event.type in (\"start\", \"process_started\") and process.name == \"launchctl\" and process.args == \"load\"]\n",
    "''')"
   ]
  },
  {
   "cell_type": "markdown",
   "id": "ce23716e",
   "metadata": {},
   "source": [
    "### Persistence via DirectoryService Plugin Modification"
   ]
  },
  {
   "cell_type": "code",
   "execution_count": null,
   "id": "9ed9fa26",
   "metadata": {},
   "outputs": [
    {
     "data": {
      "text/plain": [
       "[{'event': {'category': ['file'], 'type': ['ZFy']}, 'file': {'path': '/library/directoryservices/plugins/yyfjsviloooh.dsplug'}, '@timestamp': 0, 'ecs': {'version': '1.12.1'}}]"
      ]
     },
     "execution_count": null,
     "metadata": {},
     "output_type": "execute_result"
    }
   ],
   "source": [
    "emit('''\n",
    "event.category:file and not event.type:deletion and\n",
    "  file.path:/Library/DirectoryServices/PlugIns/*.dsplug\n",
    "''')"
   ]
  },
  {
   "cell_type": "markdown",
   "id": "a55f9e0e",
   "metadata": {},
   "source": [
    "### Persistence via Docker Shortcut Modification"
   ]
  },
  {
   "cell_type": "code",
   "execution_count": null,
   "id": "490bcd3d",
   "metadata": {},
   "outputs": [
    {
     "data": {
      "text/plain": [
       "[{'event': {'category': ['file'], 'action': 'modification'}, 'file': {'path': '/users/xiutknioixtfl/library/preferences/com.apple.dock.plist'}, 'process': {'name': 'Ezs'}, '@timestamp': 0, 'ecs': {'version': '1.12.1'}}]"
      ]
     },
     "execution_count": null,
     "metadata": {},
     "output_type": "execute_result"
    }
   ],
   "source": [
    "emit('''\n",
    "event.category : file and event.action : modification and \n",
    " file.path : /Users/*/Library/Preferences/com.apple.dock.plist and \n",
    " not process.name : (xpcproxy or cfprefsd or plutil or jamf or PlistBuddy or InstallerRemotePluginService)\n",
    "''')"
   ]
  },
  {
   "cell_type": "markdown",
   "id": "7a31f75b",
   "metadata": {},
   "source": [
    "### Potential Admin Group Account Addition"
   ]
  },
  {
   "cell_type": "code",
   "execution_count": null,
   "id": "38463d12",
   "metadata": {},
   "outputs": [
    {
     "data": {
      "text/plain": [
       "[]"
      ]
     },
     "execution_count": null,
     "metadata": {},
     "output_type": "execute_result"
    }
   ],
   "source": [
    "emit('''\n",
    "event.category:process and event.type:(start or process_started) and\n",
    " process.name:(dscl or dseditgroup) and process.args:((\"/Groups/admin\" or admin) and (\"-a\" or \"-append\"))\n",
    "''')"
   ]
  },
  {
   "cell_type": "markdown",
   "id": "45761c9d",
   "metadata": {},
   "source": [
    "### Potential Hidden Local User Account Creation"
   ]
  },
  {
   "cell_type": "code",
   "execution_count": null,
   "id": "36b89985",
   "metadata": {},
   "outputs": [
    {
     "data": {
      "text/plain": [
       "[]"
      ]
     },
     "execution_count": null,
     "metadata": {},
     "output_type": "execute_result"
    }
   ],
   "source": [
    "emit('''\n",
    "event.category:process and event.type:(start or process_started) and\n",
    " process.name:dscl and process.args:(IsHidden and create and (true or 1 or yes))\n",
    "''')"
   ]
  },
  {
   "cell_type": "markdown",
   "id": "3ba14e3a",
   "metadata": {},
   "source": [
    "### Potential Persistence via Atom Init Script Modification"
   ]
  },
  {
   "cell_type": "code",
   "execution_count": null,
   "id": "b900a8d9",
   "metadata": {},
   "outputs": [
    {
     "data": {
      "text/plain": [
       "[{'event': {'category': ['file'], 'type': ['ZFy']}, 'file': {'path': '/users/yyfjsviloooh/.atom/init.coffee'}, 'process': {'name': 'mxB'}, 'user': {'name': 'nLe'}, '@timestamp': 0, 'ecs': {'version': '1.12.1'}}]"
      ]
     },
     "execution_count": null,
     "metadata": {},
     "output_type": "execute_result"
    }
   ],
   "source": [
    "emit('''\n",
    "event.category:\"file\" and not event.type:\"deletion\" and\n",
    " file.path:/Users/*/.atom/init.coffee and not process.name:(Atom or xpcproxy) and not user.name:root\n",
    "''')"
   ]
  },
  {
   "cell_type": "markdown",
   "id": "2340c20e",
   "metadata": {},
   "source": [
    "### Potential Process Injection via PowerShell"
   ]
  },
  {
   "cell_type": "code",
   "execution_count": null,
   "id": "2560a2b3",
   "metadata": {},
   "outputs": [
    {
     "data": {
      "text/plain": [
       "[]"
      ]
     },
     "execution_count": null,
     "metadata": {},
     "output_type": "execute_result"
    }
   ],
   "source": [
    "emit('''\n",
    "event.code:\"4104\" and \n",
    "  powershell.file.script_block_text : (\n",
    "   (VirtualAlloc or VirtualAllocEx or VirtualProtect or LdrLoadDll or LoadLibrary or LoadLibraryA or\n",
    "      LoadLibraryEx or GetProcAddress or OpenProcess or OpenProcessToken or AdjustTokenPrivileges) and\n",
    "   (WriteProcessMemory or CreateRemoteThread or NtCreateThreadEx or CreateThread or QueueUserAPC or\n",
    "      SuspendThread or ResumeThread)\n",
    "  )\n",
    "''')"
   ]
  },
  {
   "cell_type": "markdown",
   "id": "cf04216d",
   "metadata": {},
   "source": [
    "### SoftwareUpdate Preferences Modification"
   ]
  },
  {
   "cell_type": "code",
   "execution_count": null,
   "id": "bf2991e8",
   "metadata": {},
   "outputs": [
    {
     "data": {
      "text/plain": [
       "[]"
      ]
     },
     "execution_count": null,
     "metadata": {},
     "output_type": "execute_result"
    }
   ],
   "source": [
    "emit('''\n",
    "event.category:process and event.type:(start or process_started) and\n",
    " process.name:defaults and \n",
    " process.args:(write and \"-bool\" and (com.apple.SoftwareUpdate or /Library/Preferences/com.apple.SoftwareUpdate.plist) and not (TRUE or true))\n",
    "''')"
   ]
  },
  {
   "cell_type": "markdown",
   "id": "9f2d78c1",
   "metadata": {},
   "source": [
    "### Suspicious Calendar File Modification"
   ]
  },
  {
   "cell_type": "code",
   "execution_count": null,
   "id": "c42b561c",
   "metadata": {},
   "outputs": [
    {
     "data": {
      "text/plain": [
       "[{'event': {'category': ['file'], 'action': 'modification'}, 'file': {'path': '/users/xiutknioixtfl/library/calendars/hmxbnleoaagaifq.calendar/events/eewvpymgznf.ics'}, 'process': {'executable': 'mlO'}, '@timestamp': 0, 'ecs': {'version': '1.12.1'}}]"
      ]
     },
     "execution_count": null,
     "metadata": {},
     "output_type": "execute_result"
    }
   ],
   "source": [
    "emit('''\n",
    "event.category:file and event.action:modification and\n",
    "  file.path:/Users/*/Library/Calendars/*.calendar/Events/*.ics and\n",
    "  process.executable:\n",
    "  (* and not \n",
    "    (\n",
    "      /System/Library/* or \n",
    "      /System/Applications/Calendar.app/Contents/MacOS/* or \n",
    "      /usr/libexec/xpcproxy or \n",
    "      /sbin/launchd or \n",
    "      /Applications/*\n",
    "    )\n",
    "  )\n",
    "''')"
   ]
  },
  {
   "cell_type": "markdown",
   "id": "d8857fa1",
   "metadata": {},
   "source": [
    "### Web Application Suspicious Activity: No User Agent"
   ]
  },
  {
   "cell_type": "code",
   "execution_count": null,
   "id": "2506756c",
   "metadata": {},
   "outputs": [
    {
     "data": {
      "text/plain": [
       "[]"
      ]
     },
     "execution_count": null,
     "metadata": {},
     "output_type": "execute_result"
    }
   ],
   "source": [
    "emit('''\n",
    "url.path:*\n",
    "''')"
   ]
  },
  {
   "cell_type": "markdown",
   "id": "e11382b6",
   "metadata": {},
   "source": [
    "### Windows CryptoAPI Spoofing Vulnerability (CVE-2020-0601 - CurveBall)"
   ]
  },
  {
   "cell_type": "code",
   "execution_count": null,
   "id": "c1e9edd6",
   "metadata": {},
   "outputs": [
    {
     "data": {
      "text/plain": [
       "[]"
      ]
     },
     "execution_count": null,
     "metadata": {},
     "output_type": "execute_result"
    }
   ],
   "source": [
    "emit('''\n",
    "event.provider:\"Microsoft-Windows-Audit-CVE\" and message:\"[CVE-2020-0601]\"\n",
    "''')"
   ]
  }
 ],
 "metadata": {
  "language_info": {
   "file_extension": ".py",
   "mimetype": "text/x-python",
   "name": "python",
   "version": "3.9.9"
  }
 },
 "nbformat": 4,
 "nbformat_minor": 5
}

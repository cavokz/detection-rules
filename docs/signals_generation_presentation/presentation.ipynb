{
 "cells": [
  {
   "cell_type": "markdown",
   "id": "cffbc197",
   "metadata": {
    "slideshow": {
     "slide_type": "slide"
    }
   },
   "source": [
    "# "
   ]
  },
  {
   "cell_type": "markdown",
   "id": "5b00553f",
   "metadata": {
    "slideshow": {
     "slide_type": "-"
    }
   },
   "source": [
    "# "
   ]
  },
  {
   "cell_type": "markdown",
   "id": "ec3b1d2c",
   "metadata": {
    "slideshow": {
     "slide_type": "-"
    }
   },
   "source": [
    "<img src=\"images/Elastic.png\" style=\"height: 80px\"/>\n",
    "\n",
    "# Security Solution\n",
    "### Rule-based signals generation\n",
    "###### Domenico Andreoli\n",
    "###### Security Engineering Productivity"
   ]
  },
  {
   "cell_type": "markdown",
   "id": "503a69b8",
   "metadata": {
    "slideshow": {
     "slide_type": "subslide"
    }
   },
   "source": [
    "## Hacking page"
   ]
  },
  {
   "cell_type": "code",
   "execution_count": 1,
   "id": "103dcd91",
   "metadata": {
    "slideshow": {
     "slide_type": "-"
    }
   },
   "outputs": [
    {
     "data": {
      "application/javascript": [
       "$(\"#notebook\").attr(\"data-background-transition\", \"none\")\n",
       "$(\".backgrounds\").css(\"display\", \"block\")\n"
      ],
      "text/plain": [
       "<IPython.core.display.Javascript object>"
      ]
     },
     "metadata": {},
     "output_type": "display_data"
    }
   ],
   "source": [
    "%%javascript\n",
    "$(\"#notebook\").attr(\"data-background-transition\", \"none\")\n",
    "$(\".backgrounds\").css(\"display\", \"block\")"
   ]
  },
  {
   "cell_type": "code",
   "execution_count": 2,
   "id": "1e7c94a3",
   "metadata": {
    "slideshow": {
     "slide_type": "skip"
    }
   },
   "outputs": [],
   "source": [
    "from presentation import *"
   ]
  },
  {
   "cell_type": "markdown",
   "id": "f2f54172",
   "metadata": {
    "slideshow": {
     "slide_type": "slide"
    }
   },
   "source": [
    "## Where does it come from?\n",
    "\n",
    "&#129514; Test: rules had to work also with documents on a remote cluster (CCS)\n",
    "\n",
    "&#9989; Plenty of rules available\n",
    "\n",
    "&#9989; Detection engine\n",
    "\n",
    "&#10060; What documents?\n"
   ]
  },
  {
   "cell_type": "markdown",
   "id": "4bbccec1",
   "metadata": {
    "slideshow": {
     "slide_type": "fragment"
    }
   },
   "source": [
    "* generate from beats\n",
    "* copy from cluster\n",
    "* reuse from other tests\n",
    "* write manually"
   ]
  },
  {
   "cell_type": "markdown",
   "id": "1029687f",
   "metadata": {
    "slideshow": {
     "slide_type": "slide"
    }
   },
   "source": [
    "## There must be a way...\n",
    "\n",
    "* A rule is a wrapper around a query\n",
    "* A query already _tells_ what it wants\n",
    "\n",
    "\\\n",
    "&#128073; `process where process.name == \"cmd.exe\"`\n",
    "\n",
    "just wants a document with field `process.name` containing `cmd.exe`\n",
    "\n",
    "\\\n",
    "Can't we automate this process? Yes!*"
   ]
  },
  {
   "cell_type": "markdown",
   "id": "cd323c7b",
   "metadata": {
    "slideshow": {
     "slide_type": "fragment"
    }
   },
   "source": [
    "<small>\\* sometimes</small>"
   ]
  },
  {
   "cell_type": "code",
   "execution_count": 3,
   "id": "13cb0cd8",
   "metadata": {
    "slideshow": {
     "slide_type": "subslide"
    }
   },
   "outputs": [],
   "source": [
    "import eql\n",
    "from IPython.display import display\n",
    "from detection_rules.events_emitter import emitter\n",
    "from detection_rules.ast_dag import draw_ast\n",
    "\n",
    "def parse(query, draw=False):\n",
    "    try:\n",
    "        with eql.parser.elasticsearch_syntax:\n",
    "            ast = eql.parse_query(query)\n",
    "        if draw:\n",
    "            display(draw_ast(ast), ast)\n",
    "        else:\n",
    "            return ast\n",
    "    except Exception as e:\n",
    "        print(e)\n",
    "\n",
    "def emit(query, timestamp=False, draw=False):\n",
    "    try:\n",
    "        ast = parse(query)\n",
    "        branches = emitter.branches_from_ast(ast)\n",
    "        docs = emitter.docs_from_branches(branches, timestamp)\n",
    "        if draw:\n",
    "            display(draw_ast(ast), docs)\n",
    "        else:\n",
    "            return docs\n",
    "    except Exception as e:\n",
    "        print(e)\n"
   ]
  },
  {
   "cell_type": "code",
   "execution_count": 4,
   "id": "d2ed2983",
   "metadata": {
    "slideshow": {
     "slide_type": "subslide"
    }
   },
   "outputs": [],
   "source": [
    "def draw(query):\n",
    "    try:\n",
    "        with eql.parser.elasticsearch_syntax:\n",
    "            ast = eql.parse_query(query)\n",
    "        return draw_ast(ast)\n",
    "    except Exception as e:\n",
    "        print(e)"
   ]
  },
  {
   "cell_type": "markdown",
   "id": "7cc46b32",
   "metadata": {
    "slideshow": {
     "slide_type": "slide"
    }
   },
   "source": [
    "## EQL examples"
   ]
  },
  {
   "cell_type": "code",
   "execution_count": 5,
   "id": "8b9687de",
   "metadata": {
    "slideshow": {
     "slide_type": "-"
    }
   },
   "outputs": [
    {
     "data": {
      "text/plain": [
       "[[{'process': {'name': 'myodbkjv.bat'}, 'event': {'category': ['process']}}]]"
      ]
     },
     "execution_count": 5,
     "metadata": {},
     "output_type": "execute_result"
    }
   ],
   "source": [
    "emit('''\n",
    "    process where process.name : (\"*.EXE\", \"*.DLL\", \"*.BAT\")\n",
    "''')"
   ]
  },
  {
   "cell_type": "code",
   "execution_count": 6,
   "id": "334bbdf9",
   "metadata": {},
   "outputs": [
    {
     "data": {
      "text/plain": [
       "[[{'destination': {'ip': '10.230.114.33'},\n",
       "   'event': {'category': ['network']}}]]"
      ]
     },
     "execution_count": 6,
     "metadata": {},
     "output_type": "execute_result"
    }
   ],
   "source": [
    "emit('''\n",
    "    network where cidrMatch(destination.ip, \"10.0.0.0/8\", \"192.168.0.0/24\")\n",
    "''')"
   ]
  },
  {
   "cell_type": "code",
   "execution_count": 7,
   "id": "fed5ebeb",
   "metadata": {},
   "outputs": [
    {
     "data": {
      "text/plain": [
       "[[{'process': {'name': 'mpf.exe'},\n",
       "   'event': {'category': ['process']},\n",
       "   'user': {'id': 'DEP'}},\n",
       "  {'process': {'name': 'regedit.exe', 'parent': {'name': 'mpf.exe'}},\n",
       "   'event': {'category': ['process']},\n",
       "   'user': {'id': 'DEP'}}]]"
      ]
     },
     "execution_count": 7,
     "metadata": {},
     "output_type": "execute_result"
    }
   ],
   "source": [
    "emit('''\n",
    "    sequence by user.id\n",
    "      [process where process.name : (\"*.exe\")] by process.name\n",
    "      [process where process.name : \"regedit.exe\"] by process.parent.name\n",
    "''')"
   ]
  },
  {
   "cell_type": "markdown",
   "id": "b201cbef",
   "metadata": {
    "slideshow": {
     "slide_type": "slide"
    }
   },
   "source": [
    "## How it works?\n",
    "\n",
    "These are the high level steps:\n",
    "\n",
    "1. The query is parsed, an AST is generated\n",
    "2. The fields constraints are collected from the AST\n",
    "3. The constraint problems are solved, if possible\n",
    "4. Field-value pairs are translated to a document"
   ]
  },
  {
   "cell_type": "markdown",
   "id": "b4e97aa1",
   "metadata": {
    "slideshow": {
     "slide_type": "slide"
    }
   },
   "source": [
    "## Query is parsed"
   ]
  },
  {
   "cell_type": "code",
   "execution_count": 8,
   "id": "9d56a42b",
   "metadata": {},
   "outputs": [
    {
     "data": {
      "image/svg+xml": [
       "<?xml version=\"1.0\" encoding=\"UTF-8\" standalone=\"no\"?>\n",
       "<!DOCTYPE svg PUBLIC \"-//W3C//DTD SVG 1.1//EN\"\n",
       " \"http://www.w3.org/Graphics/SVG/1.1/DTD/svg11.dtd\">\n",
       "<!-- Generated by graphviz version 2.50.0 (20211204.2007)\n",
       " -->\n",
       "<!-- Pages: 1 -->\n",
       "<svg width=\"374pt\" height=\"188pt\"\n",
       " viewBox=\"0.00 0.00 373.64 188.00\" xmlns=\"http://www.w3.org/2000/svg\" xmlns:xlink=\"http://www.w3.org/1999/xlink\">\n",
       "<g id=\"graph0\" class=\"graph\" transform=\"scale(1 1) rotate(0) translate(4 184)\">\n",
       "<polygon fill=\"white\" stroke=\"transparent\" points=\"-4,4 -4,-184 369.64,-184 369.64,4 -4,4\"/>\n",
       "<!-- 0526bc7fd3cab016225015a36dea42bf -->\n",
       "<g id=\"node1\" class=\"node\">\n",
       "<title>0526bc7fd3cab016225015a36dea42bf</title>\n",
       "<ellipse fill=\"none\" stroke=\"black\" cx=\"192.05\" cy=\"-162\" rx=\"27\" ry=\"18\"/>\n",
       "<text text-anchor=\"middle\" x=\"192.05\" y=\"-158.3\" font-family=\"Times,serif\" font-size=\"14.00\">and</text>\n",
       "</g>\n",
       "<!-- 255714e73f1da35afa4484d6af22a6bb -->\n",
       "<g id=\"node2\" class=\"node\">\n",
       "<title>255714e73f1da35afa4484d6af22a6bb</title>\n",
       "<ellipse fill=\"none\" stroke=\"black\" cx=\"145.05\" cy=\"-90\" rx=\"27\" ry=\"18\"/>\n",
       "<text text-anchor=\"middle\" x=\"145.05\" y=\"-86.3\" font-family=\"Times,serif\" font-size=\"14.00\">&gt;</text>\n",
       "</g>\n",
       "<!-- 0526bc7fd3cab016225015a36dea42bf&#45;&gt;255714e73f1da35afa4484d6af22a6bb -->\n",
       "<g id=\"edge3\" class=\"edge\">\n",
       "<title>0526bc7fd3cab016225015a36dea42bf&#45;&gt;255714e73f1da35afa4484d6af22a6bb</title>\n",
       "<path fill=\"none\" stroke=\"black\" d=\"M181.38,-145.12C175.49,-136.34 168.05,-125.26 161.44,-115.42\"/>\n",
       "<polygon fill=\"black\" stroke=\"black\" points=\"164.15,-113.17 155.67,-106.82 158.34,-117.07 164.15,-113.17\"/>\n",
       "</g>\n",
       "<!-- 5b00d107cf2da8d2aabc21b538b99ec2 -->\n",
       "<g id=\"node5\" class=\"node\">\n",
       "<title>5b00d107cf2da8d2aabc21b538b99ec2</title>\n",
       "<ellipse fill=\"none\" stroke=\"black\" cx=\"240.05\" cy=\"-90\" rx=\"27\" ry=\"18\"/>\n",
       "<text text-anchor=\"middle\" x=\"240.05\" y=\"-86.3\" font-family=\"Times,serif\" font-size=\"14.00\">&lt;</text>\n",
       "</g>\n",
       "<!-- 0526bc7fd3cab016225015a36dea42bf&#45;&gt;5b00d107cf2da8d2aabc21b538b99ec2 -->\n",
       "<g id=\"edge6\" class=\"edge\">\n",
       "<title>0526bc7fd3cab016225015a36dea42bf&#45;&gt;5b00d107cf2da8d2aabc21b538b99ec2</title>\n",
       "<path fill=\"none\" stroke=\"black\" d=\"M202.94,-145.12C209.01,-136.26 216.71,-125.04 223.51,-115.12\"/>\n",
       "<polygon fill=\"black\" stroke=\"black\" points=\"226.43,-117.05 229.2,-106.82 220.65,-113.09 226.43,-117.05\"/>\n",
       "</g>\n",
       "<!-- 2fdbeec64ede31759df976a0e31fc665 -->\n",
       "<g id=\"node3\" class=\"node\">\n",
       "<title>2fdbeec64ede31759df976a0e31fc665</title>\n",
       "<ellipse fill=\"none\" stroke=\"black\" cx=\"50.05\" cy=\"-18\" rx=\"50.09\" ry=\"18\"/>\n",
       "<text text-anchor=\"middle\" x=\"50.05\" y=\"-14.3\" font-family=\"Times,serif\" font-size=\"14.00\">source.port</text>\n",
       "</g>\n",
       "<!-- 255714e73f1da35afa4484d6af22a6bb&#45;&gt;2fdbeec64ede31759df976a0e31fc665 -->\n",
       "<g id=\"edge1\" class=\"edge\">\n",
       "<title>255714e73f1da35afa4484d6af22a6bb&#45;&gt;2fdbeec64ede31759df976a0e31fc665</title>\n",
       "<path fill=\"none\" stroke=\"black\" d=\"M127.62,-76.16C114.15,-66.24 95.2,-52.27 79.41,-40.63\"/>\n",
       "<polygon fill=\"black\" stroke=\"black\" points=\"81.13,-37.56 71.01,-34.45 76.98,-43.2 81.13,-37.56\"/>\n",
       "</g>\n",
       "<!-- 5450d12fac0db9b37a044fa182e2c370 -->\n",
       "<g id=\"node4\" class=\"node\">\n",
       "<title>5450d12fac0db9b37a044fa182e2c370</title>\n",
       "<ellipse fill=\"none\" stroke=\"black\" cx=\"145.05\" cy=\"-18\" rx=\"27\" ry=\"18\"/>\n",
       "<text text-anchor=\"middle\" x=\"145.05\" y=\"-14.3\" font-family=\"Times,serif\" font-size=\"14.00\">512</text>\n",
       "</g>\n",
       "<!-- 255714e73f1da35afa4484d6af22a6bb&#45;&gt;5450d12fac0db9b37a044fa182e2c370 -->\n",
       "<g id=\"edge2\" class=\"edge\">\n",
       "<title>255714e73f1da35afa4484d6af22a6bb&#45;&gt;5450d12fac0db9b37a044fa182e2c370</title>\n",
       "<path fill=\"none\" stroke=\"black\" d=\"M145.05,-71.7C145.05,-63.98 145.05,-54.71 145.05,-46.11\"/>\n",
       "<polygon fill=\"black\" stroke=\"black\" points=\"148.55,-46.1 145.05,-36.1 141.55,-46.1 148.55,-46.1\"/>\n",
       "</g>\n",
       "<!-- 7659aaa490c074fdb35438a2bad6c86a -->\n",
       "<g id=\"node6\" class=\"node\">\n",
       "<title>7659aaa490c074fdb35438a2bad6c86a</title>\n",
       "<ellipse fill=\"none\" stroke=\"black\" cx=\"240.05\" cy=\"-18\" rx=\"50.09\" ry=\"18\"/>\n",
       "<text text-anchor=\"middle\" x=\"240.05\" y=\"-14.3\" font-family=\"Times,serif\" font-size=\"14.00\">source.port</text>\n",
       "</g>\n",
       "<!-- 5b00d107cf2da8d2aabc21b538b99ec2&#45;&gt;7659aaa490c074fdb35438a2bad6c86a -->\n",
       "<g id=\"edge4\" class=\"edge\">\n",
       "<title>5b00d107cf2da8d2aabc21b538b99ec2&#45;&gt;7659aaa490c074fdb35438a2bad6c86a</title>\n",
       "<path fill=\"none\" stroke=\"black\" d=\"M240.05,-71.7C240.05,-63.98 240.05,-54.71 240.05,-46.11\"/>\n",
       "<polygon fill=\"black\" stroke=\"black\" points=\"243.55,-46.1 240.05,-36.1 236.55,-46.1 243.55,-46.1\"/>\n",
       "</g>\n",
       "<!-- 36b105ff654176455a287d08bf4c2808 -->\n",
       "<g id=\"node7\" class=\"node\">\n",
       "<title>36b105ff654176455a287d08bf4c2808</title>\n",
       "<ellipse fill=\"none\" stroke=\"black\" cx=\"337.05\" cy=\"-18\" rx=\"28.7\" ry=\"18\"/>\n",
       "<text text-anchor=\"middle\" x=\"337.05\" y=\"-14.3\" font-family=\"Times,serif\" font-size=\"14.00\">1024</text>\n",
       "</g>\n",
       "<!-- 5b00d107cf2da8d2aabc21b538b99ec2&#45;&gt;36b105ff654176455a287d08bf4c2808 -->\n",
       "<g id=\"edge5\" class=\"edge\">\n",
       "<title>5b00d107cf2da8d2aabc21b538b99ec2&#45;&gt;36b105ff654176455a287d08bf4c2808</title>\n",
       "<path fill=\"none\" stroke=\"black\" d=\"M257.84,-76.16C272.65,-65.47 293.95,-50.1 310.73,-37.99\"/>\n",
       "<polygon fill=\"black\" stroke=\"black\" points=\"312.98,-40.68 319.04,-31.99 308.88,-35.01 312.98,-40.68\"/>\n",
       "</g>\n",
       "</g>\n",
       "</svg>\n"
      ]
     },
     "metadata": {},
     "output_type": "display_data"
    },
    {
     "data": {
      "text/plain": [
       "PipedQuery(first=EventQuery(event_type='network', query=And(terms=[Comparison(left=Field(base='source', path=['port']), comparator='>', right=Number(value=512)), Comparison(left=Field(base='source', path=['port']), comparator='<', right=Number(value=1024))])), pipes=[])"
      ]
     },
     "metadata": {},
     "output_type": "display_data"
    }
   ],
   "source": [
    "parse('''\n",
    "    network where source.port > 512 and source.port < 1024\n",
    "''', draw=True)"
   ]
  },
  {
   "cell_type": "markdown",
   "id": "2871831b",
   "metadata": {
    "slideshow": {
     "slide_type": "slide"
    }
   },
   "source": [
    "## Constraints are collected"
   ]
  },
  {
   "cell_type": "code",
   "execution_count": 9,
   "id": "ced1425d",
   "metadata": {
    "slideshow": {
     "slide_type": "-"
    }
   },
   "outputs": [
    {
     "data": {
      "text/plain": [
       "[[<detection_rules.constraints.Constraints at 0x10ef52f10>]]"
      ]
     },
     "execution_count": 9,
     "metadata": {},
     "output_type": "execute_result"
    }
   ],
   "source": [
    "ast = parse('''\n",
    "    network where source.port > 512 and source.port < 1024\n",
    "''')\n",
    "emitter.branches_from_ast(ast)"
   ]
  },
  {
   "cell_type": "code",
   "execution_count": 10,
   "id": "55bb0d6f",
   "metadata": {},
   "outputs": [
    {
     "data": {
      "text/plain": [
       "[[<detection_rules.constraints.Constraints at 0x10ef52d60>],\n",
       " [<detection_rules.constraints.Constraints at 0x10ef52f40>]]"
      ]
     },
     "execution_count": 10,
     "metadata": {},
     "output_type": "execute_result"
    }
   ],
   "source": [
    "ast = parse('''\n",
    "    network where source.port > 512 or source.port < 1024\n",
    "''')\n",
    "emitter.branches_from_ast(ast)"
   ]
  },
  {
   "cell_type": "code",
   "execution_count": 11,
   "id": "244b41b4",
   "metadata": {},
   "outputs": [
    {
     "data": {
      "text/plain": [
       "[[<detection_rules.constraints.Constraints at 0x10ef5d790>,\n",
       "  <detection_rules.constraints.Constraints at 0x10ef5dbe0>]]"
      ]
     },
     "execution_count": 11,
     "metadata": {},
     "output_type": "execute_result"
    }
   ],
   "source": [
    "ast = parse('''\n",
    "    sequence by user.id\n",
    "      [process where process.name : (\"*.exe\")] by process.name\n",
    "      [process where process.name : \"regedit.exe\"] by process.parent.name\n",
    "''')\n",
    "emitter.branches_from_ast(ast)"
   ]
  },
  {
   "cell_type": "markdown",
   "id": "66f8ae95",
   "metadata": {
    "slideshow": {
     "slide_type": "slide"
    }
   },
   "source": [
    "## Constraints problems are solved"
   ]
  },
  {
   "cell_type": "code",
   "execution_count": 12,
   "id": "4f09211b",
   "metadata": {
    "scrolled": false,
    "slideshow": {
     "slide_type": "-"
    }
   },
   "outputs": [
    {
     "data": {
      "text/plain": [
       "[[('source.port', 955), ('event.category', ['network'])]]"
      ]
     },
     "execution_count": 12,
     "metadata": {},
     "output_type": "execute_result"
    }
   ],
   "source": [
    "ast = parse('''\n",
    "    network where source.port > 512 and source.port < 1024\n",
    "''')\n",
    "[list(c.resolve(emitter.schema)) for b in emitter.branches_from_ast(ast) for c in b]"
   ]
  },
  {
   "cell_type": "code",
   "execution_count": 13,
   "id": "112f1877",
   "metadata": {},
   "outputs": [
    {
     "data": {
      "text/plain": [
       "[[('source.port', 3744), ('event.category', ['network'])],\n",
       " [('source.port', 752), ('event.category', ['network'])]]"
      ]
     },
     "execution_count": 13,
     "metadata": {},
     "output_type": "execute_result"
    }
   ],
   "source": [
    "ast = parse('''\n",
    "    network where source.port > 512 or source.port < 1024\n",
    "''')\n",
    "[list(c.resolve(emitter.schema)) for b in emitter.branches_from_ast(ast) for c in b]"
   ]
  },
  {
   "cell_type": "code",
   "execution_count": 14,
   "id": "b05587e8",
   "metadata": {},
   "outputs": [
    {
     "data": {
      "text/plain": [
       "[[('process.name', 'bmueyvckvzvjust.dll'),\n",
       "  ('event.category', ['process']),\n",
       "  ('user.id', 'wYR')],\n",
       " [('process.name', 'regedit.exe'),\n",
       "  ('event.category', ['process']),\n",
       "  ('process.parent.name', 'bmueyvckvzvjust.dll'),\n",
       "  ('user.id', 'wYR')]]"
      ]
     },
     "execution_count": 14,
     "metadata": {},
     "output_type": "execute_result"
    }
   ],
   "source": [
    "ast = parse('''\n",
    "    sequence by user.id\n",
    "      [process where process.name : (\"*.exe\", \"*.dll\")] by process.name\n",
    "      [process where process.name : \"regedit.exe\"] by process.parent.name\n",
    "''')\n",
    "[list(c.resolve(emitter.schema)) for b in emitter.branches_from_ast(ast) for c in b]"
   ]
  },
  {
   "cell_type": "markdown",
   "id": "189a53ca",
   "metadata": {
    "slideshow": {
     "slide_type": "slide"
    }
   },
   "source": [
    "## Field-value pairs are translated to a document"
   ]
  },
  {
   "cell_type": "code",
   "execution_count": 15,
   "id": "3ecb2936",
   "metadata": {
    "slideshow": {
     "slide_type": "-"
    }
   },
   "outputs": [
    {
     "data": {
      "text/plain": [
       "[[{'process': {'name': 'lznqduch.exe'},\n",
       "   'event': {'category': ['process']},\n",
       "   'user': {'id': 'Lgv'},\n",
       "   '@timestamp': 1644596608653},\n",
       "  {'process': {'name': 'regedit.exe', 'parent': {'name': 'lznqduch.exe'}},\n",
       "   'event': {'category': ['process']},\n",
       "   'user': {'id': 'Lgv'},\n",
       "   '@timestamp': 1644596608654}]]"
      ]
     },
     "execution_count": 15,
     "metadata": {},
     "output_type": "execute_result"
    }
   ],
   "source": [
    "ast = parse('''\n",
    "    sequence by user.id\n",
    "      [process where process.name : (\"*.exe\", \"*.dll\")] by process.name\n",
    "      [process where process.name : \"regedit.exe\"] by process.parent.name\n",
    "''')\n",
    "[emitter.docs_from_branch(b) for b in emitter.branches_from_ast(ast)]"
   ]
  }
 ],
 "metadata": {
  "celltoolbar": "Slideshow",
  "kernelspec": {
   "display_name": "Python 3 (ipykernel)",
   "language": "python",
   "name": "python3"
  },
  "language_info": {
   "codemirror_mode": {
    "name": "ipython",
    "version": 3
   },
   "file_extension": ".py",
   "mimetype": "text/x-python",
   "name": "python",
   "nbconvert_exporter": "python",
   "pygments_lexer": "ipython3",
   "version": "3.9.10"
  },
  "rise": {
   "auto_select": "code",
   "controls": false,
   "history": false,
   "progress": false,
   "slideNumber": false,
   "start_slideshow_at": "beginning",
   "transition": "fade"
  }
 },
 "nbformat": 4,
 "nbformat_minor": 5
}
